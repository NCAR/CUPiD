{
 "cells": [
  {
   "cell_type": "markdown",
   "id": "351f2902-54b0-463c-9d61-23574844481f",
   "metadata": {
    "editable": true,
    "slideshow": {
     "slide_type": ""
    },
    "tags": [
     "hide-input"
    ]
   },
   "source": [
    "### Sea Ice Diagnostics for two CESM3 runs"
   ]
  },
  {
   "cell_type": "code",
   "execution_count": null,
   "id": "7e7f10ae-61c8-45f1-9d5c-9be60632b556",
   "metadata": {
    "editable": true,
    "slideshow": {
     "slide_type": ""
    },
    "tags": [
     "hide-input"
    ]
   },
   "outputs": [],
   "source": [
    "import xarray as xr\n",
    "import numpy as np\n",
    "import yaml\n",
    "import os"
   ]
  },
  {
   "cell_type": "code",
   "execution_count": null,
   "id": "270b0ff5-779c-4293-8d06-bd91eb8eee2b",
   "metadata": {
    "editable": true,
    "slideshow": {
     "slide_type": ""
    },
    "tags": [
     "parameters",
     "hide-input"
    ]
   },
   "outputs": [],
   "source": [
    "# These parameters are needed when running interactively\n",
    "\n",
    "CESM_output_dir = \"\"  # \"/glade/campaign/cesm/development/cross-wg/diagnostic_framework/CESM_output_for_testing\"\n",
    "ts_dir = None  # \"/glade/campaign/cesm/development/cross-wg/diagnostic_framework/CESM_output_for_testing\"\n",
    "regridded_output = None\n",
    "base_regridded_output = None\n",
    "\n",
    "case_name = \"\"  # \"b.e30_beta04.BLT1850.ne30_t232_wgx3.121congel\"\n",
    "base_case_name = \"\"  # \"b.e30_beta04.BLT1850.ne30_t232_wgx3.121\"\n",
    "\n",
    "start_date = \"\"  # \"0001-01-01\"\n",
    "end_date = \"\"  # \"0100-01-01\"\n",
    "base_start_date = \"\"  # \"0001-01-01\"\n",
    "base_end_date = \"\"  # \"0100-01-01\"\n",
    "\n",
    "obs_data_dir = \"\"  # \"/glade/campaign/cesm/development/cross-wg/diagnostic_framework/CUPiD_obs_data\"\n",
    "grid_file = \"\"  # \"/glade/campaign/cesm/community/omwg/grids/tx2_3v2_grid.nc\"\n",
    "climo_nyears = 35\n",
    "\n",
    "serial = False  # use dask LocalCluster\n",
    "\n",
    "lc_kwargs = {}"
   ]
  },
  {
   "cell_type": "code",
   "execution_count": null,
   "id": "9bba5d74",
   "metadata": {},
   "outputs": [],
   "source": [
    "# Set some parameter defaults\n",
    "if ts_dir is None:\n",
    "    ts_dir = CESM_output_dir"
   ]
  },
  {
   "cell_type": "code",
   "execution_count": null,
   "id": "03782fa0-3224-4c2d-8355-b89d1b5f57c1",
   "metadata": {
    "editable": true,
    "slideshow": {
     "slide_type": ""
    },
    "tags": [
     "hide-input"
    ]
   },
   "outputs": [],
   "source": [
    "# When running interactively, cupid_run should be set to 0 for\n",
    "# a DASK cluster\n",
    "\n",
    "cupid_run = 1\n",
    "\n",
    "if cupid_run == 1:\n",
    "\n",
    "    from dask.distributed import Client, LocalCluster\n",
    "\n",
    "    # Spin up cluster (if running in parallel)\n",
    "    client = None\n",
    "    if not serial:\n",
    "        cluster = LocalCluster(**lc_kwargs)\n",
    "        client = Client(cluster)\n",
    "\n",
    "else:\n",
    "\n",
    "    from dask.distributed import Client\n",
    "    from dask_jobqueue import PBSCluster\n",
    "\n",
    "    cluster = PBSCluster(\n",
    "        cores=16,\n",
    "        processes=16,\n",
    "        memory=\"100GB\",\n",
    "        account=\"P93300065\",\n",
    "        queue=\"casper\",\n",
    "        walltime=\"02:00:00\",\n",
    "    )\n",
    "\n",
    "    client = Client(cluster)\n",
    "\n",
    "    cluster.scale(1)\n",
    "\n",
    "    print(cluster)\n",
    "print(client)"
   ]
  },
  {
   "cell_type": "code",
   "execution_count": null,
   "id": "d3f591cc-dd67-4a3f-abe7-bfc740743db1",
   "metadata": {
    "editable": true,
    "slideshow": {
     "slide_type": ""
    },
    "tags": [
     "hide-input"
    ]
   },
   "outputs": [],
   "source": [
    "# Read in two cases. The ADF timeseries are needed here.\n",
    "\n",
    "if regridded_output:\n",
    "    file_path = os.path.join(\n",
    "        ts_dir,\n",
    "        case_name,\n",
    "        \"ice\",\n",
    "        \"proc\",\n",
    "        \"tseries\",\n",
    "        \"regrid\",\n",
    "        f\"{case_name}.cice.h.*.nc\",\n",
    "    )\n",
    "else:\n",
    "    file_path = os.path.join(\n",
    "        ts_dir, case_name, \"ice\", \"proc\", \"tseries\", f\"{case_name}.cice.h.*.nc\"\n",
    "    )\n",
    "\n",
    "if base_case_name is not None:\n",
    "    if base_regridded_output:\n",
    "        base_file_path = os.path.join(\n",
    "            ts_dir,\n",
    "            base_case_name,\n",
    "            \"ice\",\n",
    "            \"proc\",\n",
    "            \"tseries\",\n",
    "            \"regrid\",\n",
    "            f\"{base_case_name}.cice.h.*.nc\",\n",
    "        )\n",
    "    else:\n",
    "        base_file_path = f\"{ts_dir}/{base_case_name}/atm/proc/tseries\"\n",
    "\n",
    "ds1 = xr.open_mfdataset(\n",
    "    file_path,\n",
    "    data_vars=\"minimal\",\n",
    "    compat=\"override\",\n",
    "    coords=\"minimal\",\n",
    ").sel(time=slice(start_date, end_date))\n",
    "ds2 = xr.open_mfdataset(\n",
    "    base_file_path,\n",
    "    data_vars=\"minimal\",\n",
    "    compat=\"override\",\n",
    "    coords=\"minimal\",\n",
    ").sel(time=slice(base_start_date, base_end_date))\n",
    "\n",
    "ds_grid = xr.open_dataset(grid_file)\n",
    "TLAT = ds_grid[\"TLAT\"]\n",
    "TLON = ds_grid[\"TLONG\"]\n",
    "tarea = ds_grid[\"TAREA\"] * 1.0e-4\n",
    "angle = ds_grid[\"ANGLE\"]\n",
    "\n",
    "ds1_ann = ds1.resample(time=\"YS\").mean(dim=\"time\")\n",
    "ds2_ann = ds2.resample(time=\"YS\").mean(dim=\"time\")\n",
    "\n",
    "climo_nyears = min(climo_nyears, len(ds1_ann.time))\n",
    "climo_nyears = min(climo_nyears, len(ds2_ann.time))\n",
    "\n",
    "with open(\"cice_masks.yml\", \"r\") as file:\n",
    "    cice_masks = yaml.safe_load(file)\n",
    "\n",
    "with open(\"cice_vars.yml\", \"r\") as file:\n",
    "    cice_vars = yaml.safe_load(file)\n",
    "\n",
    "path_HadleyOI = os.path.join(obs_data_dir, \"ice\", \"analysis_datasets\", \"1x1d/\")"
   ]
  },
  {
   "cell_type": "code",
   "execution_count": null,
   "id": "da24abe2-7b48-4c3d-b8a5-95847029bd74",
   "metadata": {
    "editable": true,
    "slideshow": {
     "slide_type": ""
    },
    "tags": [
     "hide-input"
    ]
   },
   "outputs": [],
   "source": [
    "from plot_diff import plot_diff\n",
    "from vect_diff import vect_diff"
   ]
  },
  {
   "cell_type": "code",
   "execution_count": null,
   "id": "28a0da20-6bad-45d7-a61a-43d55ea2acd2",
   "metadata": {
    "editable": true,
    "slideshow": {
     "slide_type": ""
    },
    "tags": [
     "hide-input"
    ]
   },
   "outputs": [],
   "source": [
    "for var in cice_vars:\n",
    "    vmin = cice_vars[var][0][\"levels\"][0]\n",
    "    vmax = cice_vars[var][0][\"levels\"][-1]\n",
    "    levels = np.array(cice_vars[var][0][\"levels\"])\n",
    "    title = cice_vars[var][1][\"title\"]\n",
    "    field1 = ds1[var].isel(time=slice(-climo_nyears * 12, None))\n",
    "    field2 = ds2[var].isel(time=slice(-climo_nyears * 12, None))\n",
    "    plot_diff(\n",
    "        field1,\n",
    "        field2,\n",
    "        levels,\n",
    "        case_name,\n",
    "        base_case_name,\n",
    "        title,\n",
    "        \"N\",\n",
    "        TLAT,\n",
    "        TLON,\n",
    "        path_HadleyOI,\n",
    "    )"
   ]
  },
  {
   "cell_type": "code",
   "execution_count": null,
   "id": "17591ebc-5360-479f-93bc-6ba8847df5c1",
   "metadata": {
    "editable": true,
    "slideshow": {
     "slide_type": ""
    },
    "tags": [
     "hide-input"
    ]
   },
   "outputs": [],
   "source": [
    "for var in cice_vars:\n",
    "    vmin = cice_vars[var][0][\"levels\"][0]\n",
    "    vmax = cice_vars[var][0][\"levels\"][1]\n",
    "    levels = np.array(cice_vars[var][0][\"levels\"])\n",
    "    title = cice_vars[var][1][\"title\"]\n",
    "    field1 = ds1[var].isel(time=slice(-climo_nyears * 12, None))\n",
    "    field2 = ds2[var].isel(time=slice(-climo_nyears * 12, None))\n",
    "    plot_diff(\n",
    "        field1,\n",
    "        field2,\n",
    "        levels,\n",
    "        case_name,\n",
    "        base_case_name,\n",
    "        title,\n",
    "        \"S\",\n",
    "        TLAT,\n",
    "        TLON,\n",
    "        path_HadleyOI,\n",
    "    )"
   ]
  },
  {
   "cell_type": "code",
   "execution_count": null,
   "id": "cfc18c63-fc78-45c3-a402-cfa57a6827cd",
   "metadata": {
    "editable": true,
    "slideshow": {
     "slide_type": ""
    },
    "tags": [
     "hide-input"
    ]
   },
   "outputs": [],
   "source": [
    "if \"uvel\" in ds1_ann.variables:\n",
    "    uvel1 = ds1_ann[\"uvel\"].isel(time=slice(-climo_nyears, None)).mean(\"time\").squeeze()\n",
    "    vvel1 = ds1_ann[\"vvel\"].isel(time=slice(-climo_nyears, None)).mean(\"time\").squeeze()\n",
    "    uvel2 = ds2_ann[\"uvel\"].isel(time=slice(-climo_nyears, None)).mean(\"time\").squeeze()\n",
    "    vvel2 = ds2_ann[\"vvel\"].isel(time=slice(-climo_nyears, None)).mean(\"time\").squeeze()\n",
    "\n",
    "    vect_diff(\n",
    "        uvel1, vvel1, uvel2, vvel2, angle, \"N\", case_name, base_case_name, TLAT, TLON\n",
    "    )"
   ]
  },
  {
   "cell_type": "code",
   "execution_count": null,
   "id": "9845cd80",
   "metadata": {},
   "outputs": [],
   "source": [
    "if \"uvel\" in ds1_ann.variables:\n",
    "    vect_diff(\n",
    "        uvel1, vvel1, uvel2, vvel2, angle, \"S\", case_name, base_case_name, TLAT, TLON\n",
    "    )"
   ]
  },
  {
   "cell_type": "code",
   "execution_count": null,
   "id": "5199b36e-614d-4242-9dd0-a402a7a24fa9",
   "metadata": {
    "editable": true,
    "slideshow": {
     "slide_type": ""
    },
    "tags": [
     "hide-input"
    ]
   },
   "outputs": [],
   "source": [
    "client.shutdown()"
   ]
  }
 ],
 "metadata": {
  "kernelspec": {
   "display_name": "NPL 2024a",
   "language": "python",
   "name": "npl-2024a"
  },
  "language_info": {
   "codemirror_mode": {
    "name": "ipython",
    "version": 3
   },
   "file_extension": ".py",
   "mimetype": "text/x-python",
   "name": "python",
   "nbconvert_exporter": "python",
   "pygments_lexer": "ipython3",
   "version": "3.11.6"
  }
 },
 "nbformat": 4,
 "nbformat_minor": 5
}
