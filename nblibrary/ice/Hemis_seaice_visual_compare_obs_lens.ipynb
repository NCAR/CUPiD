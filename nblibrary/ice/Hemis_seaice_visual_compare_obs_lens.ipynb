{
 "cells": [
  {
   "cell_type": "markdown",
   "id": "351f2902-54b0-463c-9d61-23574844481f",
   "metadata": {
    "editable": true,
    "slideshow": {
     "slide_type": ""
    },
    "tags": [
     "hide-input"
    ]
   },
   "source": [
    "# Sea Ice Diagnostics for two CESM3 runs"
   ]
  },
  {
   "cell_type": "code",
   "execution_count": null,
   "id": "7e7f10ae-61c8-45f1-9d5c-9be60632b556",
   "metadata": {
    "editable": true,
    "slideshow": {
     "slide_type": ""
    },
    "tags": [
     "hide-input"
    ]
   },
   "outputs": [],
   "source": [
    "import os\n",
    "\n",
    "import xarray as xr\n",
    "import numpy as np\n",
    "import yaml\n",
    "import matplotlib.pyplot as plt\n",
    "import matplotlib.lines as mlines\n",
    "import nc_time_axis"
   ]
  },
  {
   "cell_type": "code",
   "execution_count": null,
   "id": "270b0ff5-779c-4293-8d06-bd91eb8eee2b",
   "metadata": {
    "editable": true,
    "slideshow": {
     "slide_type": ""
    },
    "tags": [
     "parameters",
     "hide-input"
    ]
   },
   "outputs": [],
   "source": [
    "CESM_output_dir = \"\"  # \"/glade/campaign/cesm/development/cross-wg/diagnostic_framework/CESM_output_for_testing\"\n",
    "ts_dir = None  # \"/glade/campaign/cesm/development/cross-wg/diagnostic_framework/CESM_output_for_testing\"\n",
    "base_case_output_dir = None  # None => use CESM_output_dir\n",
    "case_name = \"\"  # \"b.e30_beta02.BLT1850.ne30_t232.104\"\n",
    "base_case_name = None  # \"b.e23_alpha17f.BLT1850.ne30_t232.092\"\n",
    "\n",
    "start_date = \"\"  # \"0001-01-01\"\n",
    "end_date = \"\"  # \"0101-01-01\"\n",
    "base_start_date = \"\"  # \"0001-01-01\"\n",
    "base_end_date = None  # \"0101-01-01\"\n",
    "\n",
    "obs_data_dir = \"\"  # \"/glade/campaign/cesm/development/cross-wg/diagnostic_framework/CUPiD_obs_data\"\n",
    "path_model = \"\"  # \"/glade/campaign/cesm/development/cross-wg/diagnostic_framework/CUPiD_model_data/ice/\"\n",
    "grid_file = \"\"  # \"/glade/campaign/cesm/community/omwg/grids/tx2_3v2_grid.nc\"\n",
    "climo_nyears = 35\n",
    "\n",
    "serial = False  # use dask LocalCluster\n",
    "\n",
    "lc_kwargs = {}"
   ]
  },
  {
   "cell_type": "code",
   "execution_count": null,
   "id": "8b1a3efc-9b2b-4342-864d-4d29ef4efa9c",
   "metadata": {
    "editable": true,
    "slideshow": {
     "slide_type": ""
    },
    "tags": [
     "hide-input"
    ]
   },
   "outputs": [],
   "source": [
    "# Want some base case parameter defaults to equal control case values\n",
    "if base_case_name is not None:\n",
    "    if base_case_output_dir is None:\n",
    "        base_case_output_dir = CESM_output_dir\n",
    "\n",
    "    if base_end_date is None:\n",
    "        base_end_date = end_date\n",
    "\n",
    "if ts_dir is None:\n",
    "    ts_dir = CESM_output_dir"
   ]
  },
  {
   "cell_type": "code",
   "execution_count": null,
   "id": "dfbdb3ea-b818-44be-aafa-1dd9be54715d",
   "metadata": {
    "editable": true,
    "slideshow": {
     "slide_type": ""
    },
    "tags": [
     "hide-input"
    ]
   },
   "outputs": [],
   "source": [
    "# When running interactively, cupid_run should be set to 0 for\n",
    "# a DASK cluster\n",
    "\n",
    "cupid_run = 1\n",
    "\n",
    "if cupid_run == 1:\n",
    "\n",
    "    from dask.distributed import Client, LocalCluster\n",
    "\n",
    "    # Spin up cluster (if running in parallel)\n",
    "    client = None\n",
    "    if not serial:\n",
    "        cluster = LocalCluster(**lc_kwargs)\n",
    "        client = Client(cluster)\n",
    "\n",
    "else:\n",
    "\n",
    "    from dask.distributed import Client\n",
    "    from dask_jobqueue import PBSCluster\n",
    "\n",
    "    cluster = PBSCluster(\n",
    "        cores=16,\n",
    "        processes=16,\n",
    "        memory=\"100GB\",\n",
    "        account=\"P93300065\",\n",
    "        queue=\"casper\",\n",
    "        walltime=\"02:00:00\",\n",
    "    )\n",
    "\n",
    "    client = Client(cluster)\n",
    "\n",
    "    cluster.scale(1)\n",
    "\n",
    "    print(cluster)\n",
    "\n",
    "client"
   ]
  },
  {
   "cell_type": "markdown",
   "id": "a9c16590-9545-42cc-be78-f17bc16c9e40",
   "metadata": {},
   "source": [
    "# Read in data"
   ]
  },
  {
   "cell_type": "markdown",
   "id": "7e9d81ec-f6f6-4c21-ad45-3d4e6c2377eb",
   "metadata": {},
   "source": [
    "# New CESM cases to compare"
   ]
  },
  {
   "cell_type": "code",
   "execution_count": null,
   "id": "d3f591cc-dd67-4a3f-abe7-bfc740743db1",
   "metadata": {
    "editable": true,
    "slideshow": {
     "slide_type": ""
    },
    "tags": [
     "hide-input"
    ]
   },
   "outputs": [],
   "source": [
    "# Read in two cases. The ADF timeseries are needed here.\n",
    "\n",
    "ds1 = xr.open_mfdataset(\n",
    "    os.path.join(\n",
    "        ts_dir, case_name, \"ice\", \"proc\", \"tseries\", f\"{case_name}.cice.h.*.nc\"\n",
    "    ),\n",
    "    data_vars=\"minimal\",\n",
    "    compat=\"override\",\n",
    "    coords=\"minimal\",\n",
    ").sel(time=slice(start_date, end_date))\n",
    "\n",
    "ds2 = xr.open_mfdataset(\n",
    "    os.path.join(\n",
    "        ts_dir,\n",
    "        base_case_name,\n",
    "        \"ice\",\n",
    "        \"proc\",\n",
    "        \"tseries\",\n",
    "        f\"{base_case_name}.cice.h.*.nc\",\n",
    "    ),\n",
    "    data_vars=\"minimal\",\n",
    "    compat=\"override\",\n",
    "    coords=\"minimal\",\n",
    ").sel(time=slice(base_start_date, base_end_date))\n",
    "\n",
    "ds_grid = xr.open_dataset(grid_file)\n",
    "TLAT = ds_grid[\"TLAT\"]\n",
    "TLON = ds_grid[\"TLONG\"]\n",
    "tarea = ds_grid[\"TAREA\"] * 1.0e-4\n",
    "angle = ds_grid[\"ANGLE\"]\n",
    "\n",
    "ds1_ann = ds1.resample(time=\"YS\").mean(dim=\"time\")\n",
    "ds2_ann = ds2.resample(time=\"YS\").mean(dim=\"time\")\n",
    "\n",
    "climo_nyears1 = min(climo_nyears, len(ds1_ann.time))\n",
    "climo_nyears2 = min(climo_nyears, len(ds2_ann.time))\n",
    "\n",
    "with open(\"cice_masks.yml\", \"r\") as file:\n",
    "    cice_masks = yaml.safe_load(file)\n",
    "\n",
    "first_year = int(start_date.split(\"-\")[0])\n",
    "base_first_year = int(base_start_date.split(\"-\")[0])\n",
    "end_year = int(end_date.split(\"-\")[0])\n",
    "base_end_year = int(base_end_date.split(\"-\")[0])\n",
    "\n",
    "path_lens1 = os.path.join(path_model, \"cesm_lens1\")\n",
    "path_lens2 = os.path.join(path_model, \"cesm_lens2\")\n",
    "\n",
    "path_cdr = os.path.join(\n",
    "    obs_data_dir, \"ice\", \"analysis_datasets\", \"hemispheric_data\", \"CDR_area_timeseries/\"\n",
    ")"
   ]
  },
  {
   "cell_type": "markdown",
   "id": "a22875e2-3257-4ae7-aab9-bc138fe01183",
   "metadata": {},
   "source": [
    "# Define Functions"
   ]
  },
  {
   "cell_type": "code",
   "execution_count": null,
   "id": "b590d77c-f5b9-4b36-b67d-464759adb268",
   "metadata": {
    "editable": true,
    "slideshow": {
     "slide_type": ""
    },
    "tags": [
     "hide-input"
    ]
   },
   "outputs": [],
   "source": [
    "# Two functions to help draw plots even if only one year of data is available\n",
    "# If one year is present, horizontal line will be dotted instead of solid\n",
    "\n",
    "\n",
    "def da_plot_len_time_might_be_one(da_in, alt_time, color):\n",
    "    # If da_in.time only has 1 value, draw horizontal line across range of alt_time\n",
    "    if len(da_in.time) > 1:\n",
    "        da_in.plot(color=color)\n",
    "    else:\n",
    "        time_arr = [alt_time.data[0], alt_time.data[-1]]\n",
    "        plt.plot(time_arr, [da_in.data[0], da_in.data[0]], linestyle=\":\", color=color)\n",
    "\n",
    "\n",
    "def plt_plot_len_x_might_be_one(da_in, x_in, alt_x, color):\n",
    "    # If x_in only has one value, draw horizontal line across range of alt_x\n",
    "    if len(x_in) > 1:\n",
    "        plt.plot(x_in, da_in, color=color)\n",
    "    else:\n",
    "        plt.plot(\n",
    "            [alt_x[0], alt_x[-1]],\n",
    "            [da_in.data[0], da_in.data[0]],\n",
    "            linestyle=\":\",\n",
    "            color=color,\n",
    "        )"
   ]
  },
  {
   "cell_type": "code",
   "execution_count": null,
   "id": "9499f101-4c85-4244-b3c6-2f327e64107a",
   "metadata": {
    "editable": true,
    "slideshow": {
     "slide_type": ""
    },
    "tags": [
     "hide-input"
    ]
   },
   "outputs": [],
   "source": [
    "def setBoxColor(boxplot, colors):\n",
    "\n",
    "    # Set edge color of the outside and median lines of the boxes\n",
    "    for element in [\"boxes\", \"medians\"]:\n",
    "        for box, color in zip(boxplot[element], colors):\n",
    "            plt.setp(box, color=color, linewidth=3)\n",
    "\n",
    "    # Set the color of the whiskers and caps of the boxes\n",
    "    for element in [\"whiskers\", \"caps\"]:\n",
    "        for box, color in zip(\n",
    "            zip(boxplot[element][::2], boxplot[element][1::2]), colors\n",
    "        ):\n",
    "            plt.setp(box, color=color, linewidth=3)"
   ]
  },
  {
   "cell_type": "markdown",
   "id": "c6cdca29-1770-47fa-86e6-82c09c6d1658",
   "metadata": {},
   "source": [
    "# Read in CESM LENS Data"
   ]
  },
  {
   "cell_type": "code",
   "execution_count": null,
   "id": "31c8d5bf-b76f-46b2-bb5b-a654fa2150ed",
   "metadata": {
    "editable": true,
    "slideshow": {
     "slide_type": ""
    },
    "tags": [
     "hide-input"
    ]
   },
   "outputs": [],
   "source": [
    "### Read in the CESM LENS historical data\n",
    "\n",
    "ds_cesm1_aicetot_nh = xr.open_dataset(path_lens1 + \"/LE_aicetot_nh_1920-2100.nc\")\n",
    "ds_cesm1_hitot_nh = xr.open_dataset(path_lens1 + \"/LE_hitot_nh_1920-2100.nc\")\n",
    "ds_cesm1_hstot_nh = xr.open_dataset(path_lens1 + \"/LE_hstot_nh_1920-2100.nc\")\n",
    "\n",
    "ds_cesm1_aicetot_sh = xr.open_dataset(path_lens1 + \"/LE_aicetot_sh_1920-2100.nc\")\n",
    "ds_cesm1_hitot_sh = xr.open_dataset(path_lens1 + \"/LE_hitot_sh_1920-2100.nc\")\n",
    "ds_cesm1_hstot_sh = xr.open_dataset(path_lens1 + \"/LE_hstot_sh_1920-2100.nc\")\n",
    "\n",
    "cesm1_aicetot_nh_ann = ds_cesm1_aicetot_nh[\"aice_monthly\"].mean(dim=\"nmonth\")\n",
    "cesm1_hitot_nh_ann = ds_cesm1_hitot_nh[\"hi_monthly\"].mean(dim=\"nmonth\")\n",
    "cesm1_hstot_nh_ann = ds_cesm1_hstot_nh[\"hs_monthly\"].mean(dim=\"nmonth\")\n",
    "\n",
    "cesm1_aicetot_sh_ann = ds_cesm1_aicetot_sh[\"aice_monthly\"].mean(dim=\"nmonth\")\n",
    "cesm1_hitot_sh_ann = ds_cesm1_hitot_sh[\"hi_monthly\"].mean(dim=\"nmonth\")\n",
    "cesm1_hstot_sh_ann = ds_cesm1_hstot_sh[\"hs_monthly\"].mean(dim=\"nmonth\")\n",
    "\n",
    "if first_year > 1850 or base_first_year > 1850:\n",
    "    cesm1_years = np.linspace(1920, 2100, 181)\n",
    "\n",
    "else:\n",
    "    cesm1_years = np.linspace(1, 181, 181)\n",
    "\n",
    "if first_year > 1850 or base_first_year > 1850:\n",
    "    cesm1_climo_start = 60\n",
    "    cesm1_climo_end = 95\n",
    "else:\n",
    "    cesm1_climo_start = 0\n",
    "    cesm1_climo_end = 35\n",
    "\n",
    "cesm1_aicetot_nh_month = ds_cesm1_aicetot_nh[\"aice_monthly\"][\n",
    "    :, cesm1_climo_start:cesm1_climo_end, :\n",
    "].mean(dim=\"nyr\")\n",
    "cesm1_hitot_nh_month = ds_cesm1_hitot_nh[\"hi_monthly\"][\n",
    "    :, cesm1_climo_start:cesm1_climo_end, :\n",
    "].mean(dim=\"nyr\")\n",
    "cesm1_hstot_nh_month = ds_cesm1_hstot_nh[\"hs_monthly\"][\n",
    "    :, cesm1_climo_start:cesm1_climo_end, :\n",
    "].mean(dim=\"nyr\")\n",
    "cesm1_aicetot_sh_month = ds_cesm1_aicetot_sh[\"aice_monthly\"][\n",
    "    :, cesm1_climo_start:cesm1_climo_end, :\n",
    "].mean(dim=\"nyr\")\n",
    "cesm1_hitot_sh_month = ds_cesm1_hitot_sh[\"hi_monthly\"][\n",
    "    :, cesm1_climo_start:cesm1_climo_end, :\n",
    "].mean(dim=\"nyr\")\n",
    "cesm1_hstot_sh_month = ds_cesm1_hstot_sh[\"hs_monthly\"][\n",
    "    :, cesm1_climo_start:cesm1_climo_end, :\n",
    "].mean(dim=\"nyr\")\n",
    "\n",
    "ds_cesm2_aicetot_nh = xr.open_dataset(path_lens2 + \"/LE2_aicetot_nh_1870-2100.nc\")\n",
    "ds_cesm2_hitot_nh = xr.open_dataset(path_lens2 + \"/LE2_hitot_nh_1870-2100.nc\")\n",
    "ds_cesm2_hstot_nh = xr.open_dataset(path_lens2 + \"/LE2_hstot_nh_1870-2100.nc\")\n",
    "\n",
    "ds_cesm2_aicetot_sh = xr.open_dataset(path_lens2 + \"/LE2_aicetot_sh_1870-2100.nc\")\n",
    "ds_cesm2_hitot_sh = xr.open_dataset(path_lens2 + \"/LE2_hitot_sh_1870-2100.nc\")\n",
    "ds_cesm2_hstot_sh = xr.open_dataset(path_lens2 + \"/LE2_hstot_sh_1870-2100.nc\")\n",
    "\n",
    "cesm2_aicetot_nh_ann = ds_cesm2_aicetot_nh[\"aice_monthly\"].mean(dim=\"nmonth\")\n",
    "cesm2_hitot_nh_ann = ds_cesm2_hitot_nh[\"hi_monthly\"].mean(dim=\"nmonth\")\n",
    "cesm2_hstot_nh_ann = ds_cesm2_hstot_nh[\"hs_monthly\"].mean(dim=\"nmonth\")\n",
    "\n",
    "cesm2_aicetot_sh_ann = ds_cesm2_aicetot_sh[\"aice_monthly\"].mean(dim=\"nmonth\")\n",
    "cesm2_hitot_sh_ann = ds_cesm2_hitot_sh[\"hi_monthly\"].mean(dim=\"nmonth\")\n",
    "cesm2_hstot_sh_ann = ds_cesm2_hstot_sh[\"hs_monthly\"].mean(dim=\"nmonth\")\n",
    "\n",
    "if first_year > 1850 or base_first_year > 1850:\n",
    "    cesm2_years = np.linspace(1870, 2100, 231)\n",
    "else:\n",
    "    cesm2_years = np.linspace(1, 231, 231)\n",
    "\n",
    "if first_year > 1850 or base_first_year > 1850:\n",
    "    cesm2_climo_start = 110\n",
    "    cesm2_climo_end = 145\n",
    "else:\n",
    "    cesm2_climo_start = 0\n",
    "    cesm2_climo_end = 35\n",
    "\n",
    "cesm2_aicetot_nh_month = ds_cesm2_aicetot_nh[\"aice_monthly\"][\n",
    "    :, cesm2_climo_start:cesm2_climo_end, :\n",
    "].mean(dim=\"nyr\")\n",
    "cesm2_hitot_nh_month = ds_cesm2_hitot_nh[\"hi_monthly\"][\n",
    "    :, cesm2_climo_start:cesm2_climo_end, :\n",
    "].mean(dim=\"nyr\")\n",
    "cesm2_hstot_nh_month = ds_cesm2_hstot_nh[\"hs_monthly\"][\n",
    "    :, cesm2_climo_start:cesm2_climo_end, :\n",
    "].mean(dim=\"nyr\")\n",
    "cesm2_aicetot_sh_month = ds_cesm2_aicetot_sh[\"aice_monthly\"][\n",
    "    :, cesm2_climo_start:cesm2_climo_end, :\n",
    "].mean(dim=\"nyr\")\n",
    "cesm2_hitot_sh_month = ds_cesm2_hitot_sh[\"hi_monthly\"][\n",
    "    :, cesm2_climo_start:cesm2_climo_end, :\n",
    "].mean(dim=\"nyr\")\n",
    "cesm2_hstot_sh_month = ds_cesm2_hstot_sh[\"hs_monthly\"][\n",
    "    :, cesm2_climo_start:cesm2_climo_end, :\n",
    "].mean(dim=\"nyr\")"
   ]
  },
  {
   "cell_type": "code",
   "execution_count": null,
   "id": "cb4ae820-af6b-4c46-a814-a43cc687f3d5",
   "metadata": {
    "editable": true,
    "slideshow": {
     "slide_type": ""
    },
    "tags": [
     "hide-input"
    ]
   },
   "outputs": [],
   "source": [
    "# Set up legends\n",
    "\n",
    "p1 = mlines.Line2D([], [], color=\"lightgrey\", label=\"CESM1-LENS\")\n",
    "p2 = mlines.Line2D([], [], color=\"lightblue\", label=\"CESM2-LENS\")\n",
    "p3 = mlines.Line2D([], [], color=\"red\", label=case_name)\n",
    "p4 = mlines.Line2D([], [], color=\"blue\", label=base_case_name)\n",
    "p5 = mlines.Line2D([], [], color=\"black\", label=\"NOAA NASA CDR\")"
   ]
  },
  {
   "cell_type": "markdown",
   "id": "dbd856dc-f25b-40da-b5f3-d78b740ad926",
   "metadata": {},
   "source": [
    "# Annual Mean Timeseries plots"
   ]
  },
  {
   "cell_type": "code",
   "execution_count": null,
   "id": "4a4c6427-187b-413a-994a-ae87b376b483",
   "metadata": {
    "editable": true,
    "slideshow": {
     "slide_type": ""
    },
    "tags": [
     "hide-input"
    ]
   },
   "outputs": [],
   "source": [
    "### Read in NOAA NASA CDR Timeseries\n",
    "\n",
    "cdr_nh = xr.open_dataset(path_cdr + \"CDR_sic_nh_monthly.nc\")\n",
    "cdr_sh = xr.open_dataset(path_cdr + \"CDR_sic_sh_monthly.nc\")\n",
    "cdr_lab = xr.open_dataset(path_cdr + \"CDR_sic_lab_monthly.nc\")\n",
    "\n",
    "cdr_nh_mar = cdr_nh[\"sic_monthly\"].sel(time=(cdr_nh.time.dt.month == 3))\n",
    "cdr_sh_feb = cdr_sh[\"sic_monthly\"].sel(time=(cdr_nh.time.dt.month == 2))\n",
    "cdr_nh_sep = cdr_nh[\"sic_monthly\"].sel(time=(cdr_nh.time.dt.month == 9))\n",
    "cdr_sh_sep = cdr_sh[\"sic_monthly\"].sel(time=(cdr_nh.time.dt.month == 9))\n",
    "cdr_lab_mar = cdr_lab[\"sic_monthly_lab\"].sel(time=(cdr_nh.time.dt.month == 3))\n",
    "\n",
    "cdr_nh_clim = (\n",
    "    cdr_nh[\"sic_monthly\"]\n",
    "    .isel(time=slice(-420, None))\n",
    "    .groupby(\"time.month\")\n",
    "    .mean(dim=\"time\", skipna=True)\n",
    ")\n",
    "\n",
    "cdr_sh_clim = (\n",
    "    cdr_sh[\"sic_monthly\"]\n",
    "    .isel(time=slice(-420, None))\n",
    "    .groupby(\"time.month\")\n",
    "    .mean(dim=\"time\", skipna=True)\n",
    ")"
   ]
  },
  {
   "cell_type": "code",
   "execution_count": null,
   "id": "cbf46c87-c3be-4a9e-90e8-e2a6633109e3",
   "metadata": {
    "editable": true,
    "slideshow": {
     "slide_type": ""
    },
    "tags": [
     "hide-input"
    ]
   },
   "outputs": [],
   "source": [
    "# Northern hemisphere timeseries plot\n",
    "tag = \"NH\"\n",
    "\n",
    "ds1_area_ann = (tarea * ds1_ann[\"aice\"]).where(TLAT > 0).sum(dim=[\"nj\", \"ni\"]) * 1.0e-12\n",
    "ds2_area_ann = (tarea * ds2_ann[\"aice\"]).where(TLAT > 0).sum(dim=[\"nj\", \"ni\"]) * 1.0e-12\n",
    "\n",
    "ds1_vhi_ann = (tarea * ds1_ann[\"hi\"]).where(TLAT > 0).sum(dim=[\"nj\", \"ni\"]) * 1.0e-13\n",
    "ds2_vhi_ann = (tarea * ds2_ann[\"hi\"]).where(TLAT > 0).sum(dim=[\"nj\", \"ni\"]) * 1.0e-13\n",
    "\n",
    "ds1_vhs_ann = (tarea * ds1_ann[\"hs\"]).where(TLAT > 0).sum(dim=[\"nj\", \"ni\"]) * 1.0e-13\n",
    "ds2_vhs_ann = (tarea * ds2_ann[\"hs\"]).where(TLAT > 0).sum(dim=[\"nj\", \"ni\"]) * 1.0e-13\n",
    "\n",
    "# Set up axes\n",
    "if first_year >= 1850 or base_first_year >= 1850:\n",
    "    model_start_year1 = max(end_year, base_end_year) - len(ds1_area_ann.time) + 1\n",
    "    model_end_year1 = max(end_year, base_end_year)\n",
    "    model_start_year2 = max(end_year, base_end_year) - len(ds2_area_ann.time) + 1\n",
    "    model_end_year2 = max(end_year, base_end_year)\n",
    "else:\n",
    "    model_start_year1 = first_year\n",
    "    model_end_year1 = len(ds1_area_ann.time) + first_year\n",
    "    model_start_year2 = base_first_year\n",
    "    model_end_year2 = len(ds2_area_ann.time) + base_first_year\n",
    "\n",
    "x1 = np.linspace(model_start_year1, model_end_year1, len(ds1_area_ann.time))\n",
    "x2 = np.linspace(model_start_year2, model_end_year2, len(ds2_area_ann.time))\n",
    "\n",
    "fig = plt.figure(figsize=(10, 10), tight_layout=True)\n",
    "\n",
    "ax = fig.add_subplot(3, 1, 1)\n",
    "for i in range(0, 38):\n",
    "    plt.plot(\n",
    "        cesm1_years[0:95],\n",
    "        cesm1_hitot_nh_ann[i, 0:95] * 1.0e-13,\n",
    "        color=\"lightgrey\",\n",
    "    )\n",
    "for i in range(0, 49):\n",
    "    plt.plot(\n",
    "        cesm2_years[0:145], cesm2_hitot_nh_ann[i, 0:145] * 1.0e-13, color=\"lightblue\"\n",
    "    )\n",
    "plt_plot_len_x_might_be_one(ds1_vhi_ann, x1, x2, color=\"red\")\n",
    "plt_plot_len_x_might_be_one(ds2_vhi_ann, x2, x1, color=\"blue\")\n",
    "\n",
    "plt.title(tag + \" Annual Mean Hemispheric Integrated Timeseries\")\n",
    "plt.ylim((0, 5))\n",
    "plt.xlabel(\"Year\")\n",
    "plt.ylabel(tag + \" Sea Ice Volume $m^{3} x 10^{13}$\")\n",
    "plt.legend(handles=[p1, p2, p3, p4])\n",
    "\n",
    "ax = fig.add_subplot(3, 1, 2)\n",
    "for i in range(0, 38):\n",
    "    plt.plot(\n",
    "        cesm1_years[0:95],\n",
    "        cesm1_hstot_nh_ann[i, 0:95] * 1.0e-13,\n",
    "        color=\"lightgrey\",\n",
    "    )\n",
    "for i in range(0, 49):\n",
    "    plt.plot(\n",
    "        cesm2_years[0:145], cesm2_hstot_nh_ann[i, 0:145] * 1.0e-13, color=\"lightblue\"\n",
    "    )\n",
    "plt_plot_len_x_might_be_one(ds1_vhs_ann, x1, x2, color=\"red\")\n",
    "plt_plot_len_x_might_be_one(ds2_vhs_ann, x2, x1, color=\"blue\")\n",
    "\n",
    "plt.ylim((0, 0.5))\n",
    "plt.xlabel(\"Year\")\n",
    "plt.ylabel(tag + \" Snow Volume $m^{3} x 10^{13}$\")\n",
    "plt.legend(handles=[p1, p2, p3, p4])\n",
    "\n",
    "ax = fig.add_subplot(3, 1, 3)\n",
    "for i in range(0, 38):\n",
    "    plt.plot(\n",
    "        cesm1_years[0:95],\n",
    "        cesm1_aicetot_nh_ann[i, 0:95] * 1.0e-12,\n",
    "        color=\"lightgrey\",\n",
    "    )\n",
    "for i in range(0, 49):\n",
    "    plt.plot(\n",
    "        cesm2_years[0:145], cesm2_aicetot_nh_ann[i, 0:145] * 1.0e-12, color=\"lightblue\"\n",
    "    )\n",
    "\n",
    "plt_plot_len_x_might_be_one(ds1_area_ann, x1, x2, color=\"red\")\n",
    "plt_plot_len_x_might_be_one(ds2_area_ann, x2, x1, color=\"blue\")\n",
    "\n",
    "plt.ylim((0, 25))\n",
    "plt.xlabel(\"Year\")\n",
    "plt.ylabel(tag + \" Sea Ice Area $m^{2} x 10^{12}$\")\n",
    "plt.legend(handles=[p1, p2, p3, p4])"
   ]
  },
  {
   "cell_type": "code",
   "execution_count": null,
   "id": "f3fb7098-2b98-4a30-98fc-8e25fd0b5d7f",
   "metadata": {
    "editable": true,
    "slideshow": {
     "slide_type": ""
    },
    "tags": [
     "hide-input"
    ]
   },
   "outputs": [],
   "source": [
    "# Southern hemisphere timeseries plot\n",
    "tag = \"SH\"\n",
    "\n",
    "ds1_area_ann = (tarea * ds1_ann[\"aice\"]).where(TLAT < 0).sum(dim=[\"nj\", \"ni\"]) * 1.0e-12\n",
    "ds2_area_ann = (tarea * ds2_ann[\"aice\"]).where(TLAT < 0).sum(dim=[\"nj\", \"ni\"]) * 1.0e-12\n",
    "\n",
    "ds1_vhi_ann = (tarea * ds1_ann[\"hi\"]).where(TLAT < 0).sum(dim=[\"nj\", \"ni\"]) * 1.0e-13\n",
    "ds2_vhi_ann = (tarea * ds2_ann[\"hi\"]).where(TLAT < 0).sum(dim=[\"nj\", \"ni\"]) * 1.0e-13\n",
    "\n",
    "ds1_vhs_ann = (tarea * ds1_ann[\"hs\"]).where(TLAT < 0).sum(dim=[\"nj\", \"ni\"]) * 1.0e-13\n",
    "ds2_vhs_ann = (tarea * ds2_ann[\"hs\"]).where(TLAT < 0).sum(dim=[\"nj\", \"ni\"]) * 1.0e-13\n",
    "\n",
    "fig = plt.figure(figsize=(10, 10), tight_layout=True)\n",
    "\n",
    "ax = fig.add_subplot(3, 1, 1)\n",
    "for i in range(0, 38):\n",
    "    plt.plot(\n",
    "        cesm1_years[0:95],\n",
    "        cesm1_hitot_sh_ann[i, 0:95] * 1.0e-13,\n",
    "        color=\"lightgrey\",\n",
    "    )\n",
    "for i in range(0, 49):\n",
    "    plt.plot(\n",
    "        cesm2_years[0:145], cesm2_hitot_sh_ann[i, 0:145] * 1.0e-13, color=\"lightblue\"\n",
    "    )\n",
    "plt_plot_len_x_might_be_one(ds1_vhi_ann, x1, x2, color=\"red\")\n",
    "plt_plot_len_x_might_be_one(ds2_vhi_ann, x2, x1, color=\"blue\")\n",
    "\n",
    "plt.title(tag + \" Annual Mean Hemispheric Integrated Timeseries\")\n",
    "plt.ylim((0, 5))\n",
    "plt.xlabel(\"Year\")\n",
    "plt.ylabel(tag + \" Sea Ice Volume $m^{3} x 10^{13}$\")\n",
    "plt.legend(handles=[p1, p2, p3, p4])\n",
    "\n",
    "ax = fig.add_subplot(3, 1, 2)\n",
    "for i in range(0, 38):\n",
    "    plt.plot(\n",
    "        cesm1_years[0:95],\n",
    "        cesm1_hstot_sh_ann[i, 0:95] * 1.0e-13,\n",
    "        color=\"lightgrey\",\n",
    "    )\n",
    "for i in range(0, 49):\n",
    "    plt.plot(\n",
    "        cesm2_years[0:145], cesm2_hstot_sh_ann[i, 0:145] * 1.0e-13, color=\"lightblue\"\n",
    "    )\n",
    "plt_plot_len_x_might_be_one(ds1_vhs_ann, x1, x2, color=\"red\")\n",
    "plt_plot_len_x_might_be_one(ds2_vhs_ann, x2, x1, color=\"blue\")\n",
    "\n",
    "plt.ylim((0, 0.5))\n",
    "plt.xlabel(\"Year\")\n",
    "plt.ylabel(tag + \" Snow Volume $m^{3} x 10^{13}$\")\n",
    "plt.legend(handles=[p1, p2, p3, p4])\n",
    "\n",
    "ax = fig.add_subplot(3, 1, 3)\n",
    "for i in range(0, 38):\n",
    "    plt.plot(\n",
    "        cesm1_years[0:95],\n",
    "        cesm1_aicetot_sh_ann[i, 0:95] * 1.0e-12,\n",
    "        color=\"lightgrey\",\n",
    "    )\n",
    "for i in range(0, 49):\n",
    "    plt.plot(\n",
    "        cesm2_years[0:145], cesm2_aicetot_sh_ann[i, 0:145] * 1.0e-12, color=\"lightblue\"\n",
    "    )\n",
    "plt_plot_len_x_might_be_one(ds1_area_ann, x1, x2, color=\"red\")\n",
    "plt_plot_len_x_might_be_one(ds2_area_ann, x2, x1, color=\"blue\")\n",
    "\n",
    "plt.ylim((0, 25))\n",
    "plt.xlabel(\"Year\")\n",
    "plt.ylabel(tag + \" Sea Ice Area $m^{2} x 10^{12}$\")\n",
    "plt.legend(handles=[p1, p2, p3, p4])"
   ]
  },
  {
   "cell_type": "markdown",
   "id": "817ac73e-7142-44f4-82de-e6921201115d",
   "metadata": {},
   "source": [
    "# Annual cycle plots - Ice Area"
   ]
  },
  {
   "cell_type": "code",
   "execution_count": null,
   "id": "a2afd92b-da90-4596-b1a0-6ed564f843c7",
   "metadata": {
    "editable": true,
    "slideshow": {
     "slide_type": ""
    },
    "tags": [
     "hide-input"
    ]
   },
   "outputs": [],
   "source": [
    "# get monthly means from test data\n",
    "aice1_month = (\n",
    "    ds1[\"aice\"]\n",
    "    .isel(time=slice(-climo_nyears1 * 12, None))\n",
    "    .groupby(\"time.month\")\n",
    "    .mean(dim=\"time\", skipna=True)\n",
    ")\n",
    "aice2_month = (\n",
    "    ds2[\"aice\"]\n",
    "    .isel(time=slice(-climo_nyears2 * 12, None))\n",
    "    .groupby(\"time.month\")\n",
    "    .mean(dim=\"time\", skipna=True)\n",
    ")"
   ]
  },
  {
   "cell_type": "code",
   "execution_count": null,
   "id": "0f941b4b-34f9-4020-90fa-f196d396109d",
   "metadata": {
    "editable": true,
    "slideshow": {
     "slide_type": ""
    },
    "tags": [
     "hide-input"
    ]
   },
   "outputs": [],
   "source": [
    "# Northern hemisphere annual cycle plot\n",
    "tag = \"NH\"\n",
    "\n",
    "mask_tmp1_nh = np.where(np.logical_and(aice1_month > 0.15, ds1[\"TLAT\"] > 0), 1.0, 0.0)\n",
    "mask_tmp2_nh = np.where(np.logical_and(aice2_month > 0.15, ds1[\"TLAT\"] > 0), 1.0, 0.0)\n",
    "\n",
    "mask_nh_tmp = np.where(ds1[\"TLAT\"] > 0, tarea, 0.0)\n",
    "mask_nh = xr.DataArray(data=mask_nh_tmp, dims=[\"nj\", \"ni\"])\n",
    "\n",
    "area1 = (aice1_month * mask_nh).sum([\"ni\", \"nj\"]) * 1.0e-12\n",
    "area2 = (aice2_month * mask_nh).sum([\"ni\", \"nj\"]) * 1.0e-12\n",
    "\n",
    "months = np.linspace(1, 12, 12)\n",
    "\n",
    "for i in range(0, 38):\n",
    "    plt.plot(months, cesm1_aicetot_nh_month[i, :] * 1.0e-12, color=\"lightgrey\")\n",
    "for i in range(0, 49):\n",
    "    plt.plot(months, cesm2_aicetot_nh_month[i, :] * 1.0e-12, color=\"lightblue\")\n",
    "plt.plot(months, area1, color=\"red\")\n",
    "plt.plot(months, area2, color=\"blue\")\n",
    "plt.plot(months, cdr_nh_clim, color=\"black\")\n",
    "\n",
    "plt.title(tag + \" Climatological Seasonal Cycle\")\n",
    "plt.ylim((0, 30))\n",
    "plt.xlabel(\"Month\")\n",
    "plt.ylabel(\"Sea Ice Area $m^{2} x 10^{12}$\")\n",
    "plt.legend(handles=[p1, p2, p3, p4, p5])"
   ]
  },
  {
   "cell_type": "code",
   "execution_count": null,
   "id": "bdcfc214-ab3c-4444-86ff-6cb9bea19236",
   "metadata": {
    "editable": true,
    "slideshow": {
     "slide_type": ""
    },
    "tags": [
     "hide-input"
    ]
   },
   "outputs": [],
   "source": [
    "# Southern hemisphere annual cycle plot\n",
    "tag = \"SH\"\n",
    "\n",
    "mask_tmp1_sh = np.where(np.logical_and(aice1_month > 0.15, ds1[\"TLAT\"] < 0), 1.0, 0.0)\n",
    "mask_tmp2_sh = np.where(np.logical_and(aice2_month > 0.15, ds1[\"TLAT\"] < 0), 1.0, 0.0)\n",
    "\n",
    "mask_sh_tmp = np.where(ds1[\"TLAT\"] < 0, tarea, 0.0)\n",
    "mask_sh = xr.DataArray(data=mask_sh_tmp, dims=[\"nj\", \"ni\"])\n",
    "\n",
    "area1 = (aice1_month * mask_sh).sum([\"ni\", \"nj\"]) * 1.0e-12\n",
    "area2 = (aice2_month * mask_sh).sum([\"ni\", \"nj\"]) * 1.0e-12\n",
    "\n",
    "for i in range(0, 38):\n",
    "    plt.plot(months, cesm1_aicetot_sh_month[i, :] * 1.0e-12, color=\"lightgrey\")\n",
    "for i in range(0, 49):\n",
    "    plt.plot(months, cesm2_aicetot_sh_month[i, :] * 1.0e-12, color=\"lightblue\")\n",
    "plt.plot(months, area1, color=\"red\")\n",
    "plt.plot(months, area2, color=\"blue\")\n",
    "plt.plot(months, cdr_sh_clim, color=\"black\")\n",
    "\n",
    "plt.title(tag + \" Climatological Seasonal Cycle\")\n",
    "plt.ylim((0, 30))\n",
    "plt.xlabel(\"Month\")\n",
    "plt.ylabel(\"Sea Ice Area $m^{2} x 10^{12}$\")\n",
    "plt.legend(handles=[p1, p2, p3, p4, p5])"
   ]
  },
  {
   "cell_type": "markdown",
   "id": "0175b649-7dc4-4658-aa4e-cde5b8ae4a4a",
   "metadata": {},
   "source": [
    "# Annual cycle plots - Ice Volume"
   ]
  },
  {
   "cell_type": "code",
   "execution_count": null,
   "id": "6b96dcd0-aec3-4acd-a21a-64b7c476f234",
   "metadata": {
    "editable": true,
    "slideshow": {
     "slide_type": ""
    },
    "tags": [
     "hide-input"
    ]
   },
   "outputs": [],
   "source": [
    "# get monthly means from test data\n",
    "hi1_month = (\n",
    "    ds1[\"hi\"]\n",
    "    .isel(time=slice(-climo_nyears1 * 12, None))\n",
    "    .groupby(\"time.month\")\n",
    "    .mean(dim=\"time\", skipna=True)\n",
    ")\n",
    "hi2_month = (\n",
    "    ds2[\"hi\"]\n",
    "    .isel(time=slice(-climo_nyears2 * 12, None))\n",
    "    .groupby(\"time.month\")\n",
    "    .mean(dim=\"time\", skipna=True)\n",
    ")"
   ]
  },
  {
   "cell_type": "code",
   "execution_count": null,
   "id": "10be50a9-9057-48e0-b8e6-93ff7c04c2ec",
   "metadata": {
    "editable": true,
    "slideshow": {
     "slide_type": ""
    },
    "tags": [
     "hide-input"
    ]
   },
   "outputs": [],
   "source": [
    "# Northern hemisphere annual cycle plot\n",
    "tag = \"NH\"\n",
    "\n",
    "mask_tmp1_nh = np.where(np.logical_and(hi1_month > 0, ds1[\"TLAT\"] > 0), 1.0, 0.0)\n",
    "mask_tmp2_nh = np.where(np.logical_and(hi2_month > 0, ds1[\"TLAT\"] > 0), 1.0, 0.0)\n",
    "\n",
    "mask_nh_tmp = np.where(ds1[\"TLAT\"] > 0, tarea, 0.0)\n",
    "mask_nh = xr.DataArray(data=mask_nh_tmp, dims=[\"nj\", \"ni\"])\n",
    "\n",
    "vol1 = (hi1_month * mask_nh).sum([\"ni\", \"nj\"]) * 1.0e-13\n",
    "vol2 = (hi2_month * mask_nh).sum([\"ni\", \"nj\"]) * 1.0e-13\n",
    "\n",
    "months = np.linspace(1, 12, 12)\n",
    "\n",
    "for i in range(0, 38):\n",
    "    plt.plot(months, cesm1_hitot_nh_month[i, :] * 1.0e-13, color=\"lightgrey\")\n",
    "for i in range(0, 49):\n",
    "    plt.plot(months, cesm2_hitot_nh_month[i, :] * 1.0e-13, color=\"lightblue\")\n",
    "plt.plot(months, vol1, color=\"red\")\n",
    "plt.plot(months, vol2, color=\"blue\")\n",
    "\n",
    "plt.title(tag + \" Climatological Seasonal Cycle\")\n",
    "plt.ylim((0, 8))\n",
    "plt.xlabel(\"Month\")\n",
    "plt.ylabel(\"Sea Ice Volume $m^{3} x 10^{13}$\")\n",
    "plt.legend(handles=[p1, p2, p3, p4])"
   ]
  },
  {
   "cell_type": "code",
   "execution_count": null,
   "id": "9b1fa712-7f36-4e5b-b932-f0e50e6feab9",
   "metadata": {
    "editable": true,
    "slideshow": {
     "slide_type": ""
    },
    "tags": [
     "hide-input"
    ]
   },
   "outputs": [],
   "source": [
    "# Southern hemisphere annual cycle plot\n",
    "tag = \"SH\"\n",
    "\n",
    "mask_tmp1_sh = np.where(np.logical_and(hi1_month > 0, ds1[\"TLAT\"] < 0), 1.0, 0.0)\n",
    "mask_tmp2_sh = np.where(np.logical_and(hi2_month > 0, ds1[\"TLAT\"] < 0), 1.0, 0.0)\n",
    "\n",
    "mask_sh_tmp = np.where(ds1[\"TLAT\"] < 0, tarea, 0.0)\n",
    "mask_sh = xr.DataArray(data=mask_sh_tmp, dims=[\"nj\", \"ni\"])\n",
    "\n",
    "vol1 = (hi1_month * mask_sh).sum([\"ni\", \"nj\"]) * 1.0e-13\n",
    "vol2 = (hi2_month * mask_sh).sum([\"ni\", \"nj\"]) * 1.0e-13\n",
    "\n",
    "months = np.linspace(1, 12, 12)\n",
    "\n",
    "for i in range(0, 38):\n",
    "    plt.plot(months, cesm1_hitot_sh_month[i, :] * 1.0e-13, color=\"lightgrey\")\n",
    "for i in range(0, 49):\n",
    "    plt.plot(months, cesm2_hitot_sh_month[i, :] * 1.0e-13, color=\"lightblue\")\n",
    "plt.plot(months, vol1, color=\"red\")\n",
    "plt.plot(months, vol2, color=\"blue\")\n",
    "\n",
    "plt.title(tag + \" Climatological Seasonal Cycle\")\n",
    "plt.ylim((0, 5))\n",
    "plt.xlabel(\"Month\")\n",
    "plt.ylabel(\"Sea Ice Volume $m^{3} x 10^{13}$\")\n",
    "plt.legend(handles=[p1, p2, p3, p4])"
   ]
  },
  {
   "cell_type": "markdown",
   "id": "dc6c30d3-5259-4bb9-835d-56e0ab275da0",
   "metadata": {
    "editable": true,
    "slideshow": {
     "slide_type": ""
    },
    "tags": []
   },
   "source": [
    "# Annual cycle plots - Snow volume"
   ]
  },
  {
   "cell_type": "code",
   "execution_count": null,
   "id": "7b04bb7b-7870-4695-8aaa-d95be1ba2e58",
   "metadata": {
    "editable": true,
    "slideshow": {
     "slide_type": ""
    },
    "tags": [
     "hide-input"
    ]
   },
   "outputs": [],
   "source": [
    "# get monthly means from test data\n",
    "hs1_month = (\n",
    "    ds1[\"hs\"]\n",
    "    .isel(time=slice(-climo_nyears1 * 12, None))\n",
    "    .groupby(\"time.month\")\n",
    "    .mean(dim=\"time\", skipna=True)\n",
    ")\n",
    "hs2_month = (\n",
    "    ds2[\"hs\"]\n",
    "    .isel(time=slice(-climo_nyears2 * 12, None))\n",
    "    .groupby(\"time.month\")\n",
    "    .mean(dim=\"time\", skipna=True)\n",
    ")"
   ]
  },
  {
   "cell_type": "code",
   "execution_count": null,
   "id": "5f3425f9-2426-4c68-9d1e-060e4c472b5d",
   "metadata": {
    "editable": true,
    "slideshow": {
     "slide_type": ""
    },
    "tags": [
     "hide-input"
    ]
   },
   "outputs": [],
   "source": [
    "# Northern hemisphere annual cycle plot\n",
    "tag = \"NH\"\n",
    "\n",
    "mask_tmp1_nh = np.where(np.logical_and(hs1_month > 0, ds1[\"TLAT\"] > 0), 1.0, 0.0)\n",
    "mask_tmp2_nh = np.where(np.logical_and(hs2_month > 0, ds1[\"TLAT\"] > 0), 1.0, 0.0)\n",
    "\n",
    "mask_nh_tmp = np.where(ds1[\"TLAT\"] > 0, tarea, 0.0)\n",
    "mask_nh = xr.DataArray(data=mask_nh_tmp, dims=[\"nj\", \"ni\"])\n",
    "\n",
    "vol1 = (hs1_month * mask_nh).sum([\"ni\", \"nj\"]) * 1.0e-13\n",
    "vol2 = (hs2_month * mask_nh).sum([\"ni\", \"nj\"]) * 1.0e-13\n",
    "\n",
    "months = np.linspace(1, 12, 12)\n",
    "\n",
    "for i in range(0, 38):\n",
    "    plt.plot(months, cesm1_hstot_nh_month[i, :] * 1.0e-13, color=\"lightgrey\")\n",
    "for i in range(0, 49):\n",
    "    plt.plot(months, cesm2_hstot_nh_month[i, :] * 1.0e-13, color=\"lightblue\")\n",
    "plt.plot(months, vol1, color=\"red\")\n",
    "plt.plot(months, vol2, color=\"blue\")\n",
    "\n",
    "plt.title(tag + \" Climatological Seasonal Cycle\")\n",
    "plt.ylim((0, 1))\n",
    "plt.xlabel(\"Month\")\n",
    "plt.ylabel(\"Snow Volume $m^{3} x 10^{13}$\")\n",
    "plt.legend(handles=[p1, p2, p3, p4])"
   ]
  },
  {
   "cell_type": "code",
   "execution_count": null,
   "id": "15919063-38c8-4213-92ca-c021745fc456",
   "metadata": {
    "editable": true,
    "slideshow": {
     "slide_type": ""
    },
    "tags": [
     "hide-input"
    ]
   },
   "outputs": [],
   "source": [
    "# Southern hemisphere annual cycle plot\n",
    "tag = \"SH\"\n",
    "\n",
    "mask_tmp1_sh = np.where(np.logical_and(hs1_month > 0, ds1[\"TLAT\"] < 0), 1.0, 0.0)\n",
    "mask_tmp2_sh = np.where(np.logical_and(hs2_month > 0, ds1[\"TLAT\"] < 0), 1.0, 0.0)\n",
    "\n",
    "mask_sh_tmp = np.where(ds1[\"TLAT\"] < 0, tarea, 0.0)\n",
    "mask_sh = xr.DataArray(data=mask_sh_tmp, dims=[\"nj\", \"ni\"])\n",
    "\n",
    "vol1 = (hs1_month * mask_sh).sum([\"ni\", \"nj\"]) * 1.0e-13\n",
    "vol2 = (hs2_month * mask_sh).sum([\"ni\", \"nj\"]) * 1.0e-13\n",
    "\n",
    "months = np.linspace(1, 12, 12)\n",
    "\n",
    "for i in range(0, 38):\n",
    "    plt.plot(months, cesm1_hstot_sh_month[i, :] * 1.0e-13, color=\"lightgrey\")\n",
    "for i in range(0, 49):\n",
    "    plt.plot(months, cesm2_hstot_sh_month[i, :] * 1.0e-13, color=\"lightblue\")\n",
    "plt.plot(months, vol1, color=\"red\")\n",
    "plt.plot(months, vol2, color=\"blue\")\n",
    "\n",
    "plt.title(tag + \" Climatological Seasonal Cycle\")\n",
    "plt.ylim((0, 1))\n",
    "plt.xlabel(\"Month\")\n",
    "plt.ylabel(\"Snow Volume $m^{3} x 10^{13}$\")\n",
    "plt.legend(handles=[p1, p2, p3, p4])"
   ]
  },
  {
   "cell_type": "markdown",
   "id": "160a9f24-49af-4900-81cf-389c09583fb4",
   "metadata": {},
   "source": [
    "# Monthly Analysis for Minimum and Maximum Months"
   ]
  },
  {
   "cell_type": "markdown",
   "id": "51f1ba93-2694-4566-8589-91f2bc56ba89",
   "metadata": {},
   "source": [
    "## NH\n",
    "- Maximum - March\n",
    "- Minimum - September"
   ]
  },
  {
   "cell_type": "markdown",
   "id": "0d45be87-a3e8-4348-9984-e44db4d7634b",
   "metadata": {},
   "source": [
    "### Ice Area"
   ]
  },
  {
   "cell_type": "code",
   "execution_count": null,
   "id": "1327dccc-0065-43dc-874d-4404c07f6eba",
   "metadata": {
    "editable": true,
    "slideshow": {
     "slide_type": ""
    },
    "tags": [
     "hide-input"
    ]
   },
   "outputs": [],
   "source": [
    "ds1_area = (tarea * ds1.aice).isel(time=slice(-climo_nyears1 * 12, None)).where(\n",
    "    TLAT > 0\n",
    ").sum(dim=[\"nj\", \"ni\"]) * 1.0e-12\n",
    "ds2_area = (tarea * ds2.aice).isel(time=slice(-climo_nyears2 * 12, None)).where(\n",
    "    TLAT > 0\n",
    ").sum(dim=[\"nj\", \"ni\"]) * 1.0e-12"
   ]
  },
  {
   "cell_type": "code",
   "execution_count": null,
   "id": "715d863b-7be6-4c16-b59b-260805deee18",
   "metadata": {
    "editable": true,
    "slideshow": {
     "slide_type": ""
    },
    "tags": [
     "hide-input"
    ]
   },
   "outputs": [],
   "source": [
    "tag = \"NH\"\n",
    "\n",
    "ds1_mar_nh = ds1_area.sel(time=(ds1_area.time.dt.month == 3))\n",
    "ds2_mar_nh = ds2_area.sel(time=(ds2_area.time.dt.month == 3))\n",
    "\n",
    "cesm1_aicetot_nh_mar = ds_cesm1_aicetot_nh[\"aice_monthly\"].isel(nmonth=2)\n",
    "cesm2_aicetot_nh_mar = ds_cesm2_aicetot_nh[\"aice_monthly\"].isel(nmonth=2)\n",
    "\n",
    "cesm1_aicetot_sh_sep = ds_cesm1_aicetot_sh[\"aice_monthly\"].isel(nmonth=8)\n",
    "cesm2_aicetot_sh_sep = ds_cesm2_aicetot_sh[\"aice_monthly\"].isel(nmonth=8)\n",
    "\n",
    "# Set up axes\n",
    "if first_year >= 1850 or base_first_year >= 1850:\n",
    "    model_start_year1 = max(end_year, base_end_year) - len(ds1_mar_nh.time) + 1\n",
    "    model_end_year1 = max(end_year, base_end_year)\n",
    "    model_start_year2 = max(end_year, base_end_year) - len(ds2_mar_nh.time) + 1\n",
    "    model_end_year2 = max(end_year, base_end_year)\n",
    "    lens1_start_year = ds_cesm1_aicetot_nh.year[cesm1_climo_start]\n",
    "    lens1_end_year = ds_cesm1_aicetot_nh.year[cesm1_climo_end]\n",
    "    lens2_start_year = ds_cesm2_aicetot_nh.year[cesm2_climo_start]\n",
    "    lens2_end_year = ds_cesm2_aicetot_nh.year[cesm2_climo_end]\n",
    "else:\n",
    "    model_start_year1 = first_year\n",
    "    model_end_year1 = len(ds1_mar_nh.time) + first_year\n",
    "    model_start_year2 = base_first_year\n",
    "    model_end_year2 = len(ds2_mar_nh.time) + base_first_year\n",
    "    lens1_start_year = first_year\n",
    "    lens1_end_year = 35 + first_year\n",
    "    lens2_start_year = first_year\n",
    "    lens2_end_year = 35 + first_year\n",
    "\n",
    "del x1\n",
    "del x2\n",
    "\n",
    "x1 = np.linspace(model_start_year1, model_end_year1, len(ds1_mar_nh.time))\n",
    "x2 = np.linspace(model_start_year2, model_end_year2, len(ds2_mar_nh.time))\n",
    "x3 = np.linspace(lens1_start_year, lens1_end_year, 36)\n",
    "x4 = np.linspace(lens2_start_year, lens2_end_year, 36)\n",
    "\n",
    "obs_first_year = 0\n",
    "if first_year >= 1850 or base_first_year >= 1850:\n",
    "    obs_first_year = 1979\n",
    "x6 = np.linspace(1, 45, 45) + obs_first_year\n",
    "\n",
    "# Make Plot - two subplots - note it's nrow x ncol x index (starting upper left)\n",
    "fig = plt.figure(figsize=(20, 7))\n",
    "\n",
    "# First panel, timeseries\n",
    "ax = fig.add_subplot(1, 2, 1)\n",
    "for i in range(0, 38):\n",
    "    ax.plot(\n",
    "        x3,\n",
    "        cesm1_aicetot_nh_mar.isel(\n",
    "            n_members=i, nyr=slice(cesm1_climo_start, cesm1_climo_end + 1)\n",
    "        )\n",
    "        * 1.0e-12,\n",
    "        color=\"lightgrey\",\n",
    "    )\n",
    "for i in range(0, 49):\n",
    "    ax.plot(\n",
    "        x4,\n",
    "        cesm2_aicetot_nh_mar.isel(\n",
    "            n_members=i, nyr=slice(cesm2_climo_start, cesm2_climo_end + 1)\n",
    "        )\n",
    "        * 1.0e-12,\n",
    "        color=\"lightblue\",\n",
    "    )\n",
    "plt_plot_len_x_might_be_one(ds1_mar_nh, x1, x2, color=\"red\")\n",
    "plt_plot_len_x_might_be_one(ds2_mar_nh, x2, x1, color=\"blue\")\n",
    "ax.plot(x6, cdr_nh_mar, color=\"black\")\n",
    "\n",
    "plt.title(tag + \" March Mean Sea Ice Area\")\n",
    "plt.ylim((5, 25))\n",
    "plt.xlabel(\"Year\")\n",
    "plt.ylabel(\"Sea Ice Area $m^{2}x10^{12}$\")\n",
    "plt.legend(handles=[p1, p2, p3, p4, p5])\n",
    "\n",
    "### Second panel, boxplot\n",
    "ax = fig.add_subplot(1, 2, 2)\n",
    "# get just last years of large ensembles and one dimensionalize them\n",
    "cesm1_tmp = (\n",
    "    cesm1_aicetot_nh_mar.isel(nyr=slice(cesm1_climo_start, cesm1_climo_end + 1)).stack(\n",
    "        new=(\"n_members\", \"nyr\")\n",
    "    )\n",
    "    * 1.0e-12\n",
    ")\n",
    "cesm2_tmp = (\n",
    "    cesm2_aicetot_nh_mar.isel(nyr=slice(cesm2_climo_start, cesm2_climo_end + 1)).stack(\n",
    "        new=(\"n_members\", \"nyr\")\n",
    "    )\n",
    "    * 1.0e-12\n",
    ")\n",
    "\n",
    "# plot boxes\n",
    "boxplots1 = ax.boxplot(ds1_mar_nh, showfliers=False, autorange=False, positions=[0.25])\n",
    "boxplots2 = ax.boxplot(ds2_mar_nh, showfliers=False, autorange=False, positions=[0.50])\n",
    "boxplots3 = ax.boxplot(cdr_nh_mar, showfliers=False, autorange=False, positions=[0.75])\n",
    "boxplots4 = ax.boxplot(cesm1_tmp, showfliers=False, autorange=False, positions=[1.00])\n",
    "boxplots5 = ax.boxplot(cesm2_tmp, showfliers=False, autorange=False, positions=[1.25])\n",
    "\n",
    "# set colors for each box\n",
    "setBoxColor(boxplots1, 8 * [\"red\"])\n",
    "setBoxColor(boxplots2, 8 * [\"blue\"])\n",
    "setBoxColor(boxplots3, 8 * [\"black\"])\n",
    "setBoxColor(boxplots4, 8 * [\"lightgrey\"])\n",
    "setBoxColor(boxplots5, 8 * [\"lightblue\"])\n",
    "\n",
    "# set plot details\n",
    "plt.title(tag + \" March Mean Sea Ice Area Range\")\n",
    "plt.ylabel(\"Sea Ice Area $m^{2}x10^{12}$\")\n",
    "plt.ylim((5, 25))\n",
    "plt.xlim([0, 1.5])\n",
    "plt.xticks(visible=False)"
   ]
  },
  {
   "cell_type": "code",
   "execution_count": null,
   "id": "6fe23323-c7f4-4156-8843-837fb63aced5",
   "metadata": {
    "editable": true,
    "slideshow": {
     "slide_type": ""
    },
    "tags": [
     "hide-input"
    ]
   },
   "outputs": [],
   "source": [
    "tag = \"NH\"\n",
    "\n",
    "ds1_sep_nh = ds1_area.sel(time=(ds1_area.time.dt.month == 9))\n",
    "ds2_sep_nh = ds2_area.sel(time=(ds2_area.time.dt.month == 9))\n",
    "\n",
    "cesm1_aicetot_nh_sep = ds_cesm1_aicetot_nh[\"aice_monthly\"].isel(nmonth=8)\n",
    "cesm2_aicetot_nh_sep = ds_cesm2_aicetot_nh[\"aice_monthly\"].isel(nmonth=8)\n",
    "\n",
    "# Make Plot - two subplots - note it's nrow x ncol x index (starting upper left)\n",
    "fig = plt.figure(figsize=(20, 7))\n",
    "\n",
    "### First panel, timeseries\n",
    "ax = fig.add_subplot(1, 2, 1)\n",
    "for i in range(0, 38):\n",
    "    ax.plot(\n",
    "        x3,\n",
    "        cesm1_aicetot_nh_sep.isel(\n",
    "            n_members=i, nyr=slice(cesm1_climo_start, cesm1_climo_end + 1)\n",
    "        )\n",
    "        * 1.0e-12,\n",
    "        color=\"lightgrey\",\n",
    "    )\n",
    "for i in range(0, 49):\n",
    "    ax.plot(\n",
    "        x4,\n",
    "        cesm2_aicetot_nh_sep.isel(\n",
    "            n_members=i, nyr=slice(cesm2_climo_start, cesm2_climo_end + 1)\n",
    "        )\n",
    "        * 1.0e-12,\n",
    "        color=\"lightblue\",\n",
    "    )\n",
    "plt_plot_len_x_might_be_one(ds1_sep_nh, x1, x2, color=\"red\")\n",
    "plt_plot_len_x_might_be_one(ds2_sep_nh, x2, x1, color=\"blue\")\n",
    "ax.plot(x6, cdr_nh_sep, color=\"black\")\n",
    "\n",
    "plt.title(tag + \" September Mean Sea Ice Area\")\n",
    "plt.ylim((0, 15))\n",
    "plt.xlabel(\"Year\")\n",
    "plt.ylabel(\"Sea Ice Area $m^{2}x10^{12}$\")\n",
    "plt.legend(handles=[p1, p2, p3, p4, p5])\n",
    "\n",
    "### Second panel, boxplot\n",
    "ax = fig.add_subplot(1, 2, 2)\n",
    "# get just last years of large ensembles and one dimensionalize them\n",
    "cesm1_tmp = (\n",
    "    cesm1_aicetot_nh_sep.isel(nyr=slice(cesm1_climo_start, cesm1_climo_end + 1)).stack(\n",
    "        new=(\"n_members\", \"nyr\")\n",
    "    )\n",
    "    * 1.0e-12\n",
    ")\n",
    "cesm2_tmp = (\n",
    "    cesm2_aicetot_nh_sep.isel(nyr=slice(cesm2_climo_start, cesm2_climo_end + 1)).stack(\n",
    "        new=(\"n_members\", \"nyr\")\n",
    "    )\n",
    "    * 1.0e-12\n",
    ")\n",
    "\n",
    "# plot boxes\n",
    "boxplots1 = ax.boxplot(ds1_sep_nh, showfliers=False, autorange=False, positions=[0.25])\n",
    "boxplots2 = ax.boxplot(ds2_sep_nh, showfliers=False, autorange=False, positions=[0.50])\n",
    "boxplots3 = ax.boxplot(cdr_nh_sep, showfliers=False, autorange=False, positions=[0.75])\n",
    "boxplots4 = ax.boxplot(cesm1_tmp, showfliers=False, autorange=False, positions=[1.00])\n",
    "boxplots5 = ax.boxplot(cesm2_tmp, showfliers=False, autorange=False, positions=[1.25])\n",
    "\n",
    "# set colors for each box\n",
    "setBoxColor(boxplots1, 8 * [\"red\"])\n",
    "setBoxColor(boxplots2, 8 * [\"blue\"])\n",
    "setBoxColor(boxplots3, 8 * [\"black\"])\n",
    "setBoxColor(boxplots4, 8 * [\"lightgrey\"])\n",
    "setBoxColor(boxplots5, 8 * [\"lightblue\"])\n",
    "\n",
    "# set plot details\n",
    "plt.title(tag + \" September Mean Sea Ice Area Range\")\n",
    "plt.ylabel(\"Sea Ice Area $m^{2}x10^{12}$\")\n",
    "plt.ylim((0, 15))\n",
    "plt.xlim([0, 1.5])\n",
    "plt.xticks(visible=False)"
   ]
  },
  {
   "cell_type": "markdown",
   "id": "e68e1045-d92f-49ca-90b8-fa03de687032",
   "metadata": {},
   "source": [
    "### Ice Volume"
   ]
  },
  {
   "cell_type": "code",
   "execution_count": null,
   "id": "26f8c5c5-fcfe-4d37-8f31-0142d613aeb7",
   "metadata": {
    "editable": true,
    "slideshow": {
     "slide_type": ""
    },
    "tags": [
     "hide-input"
    ]
   },
   "outputs": [],
   "source": [
    "ds1_vol = (tarea * ds1.hi).isel(time=slice(-climo_nyears1 * 12, None)).where(\n",
    "    TLAT > 0\n",
    ").sum(dim=[\"nj\", \"ni\"]) * 1.0e-13\n",
    "ds2_vol = (tarea * ds2.hi).isel(time=slice(-climo_nyears2 * 12, None)).where(\n",
    "    TLAT > 0\n",
    ").sum(dim=[\"nj\", \"ni\"]) * 1.0e-13"
   ]
  },
  {
   "cell_type": "code",
   "execution_count": null,
   "id": "daac85cc-dd35-45f1-b37b-582409059d88",
   "metadata": {
    "editable": true,
    "slideshow": {
     "slide_type": ""
    },
    "tags": [
     "hide-input"
    ]
   },
   "outputs": [],
   "source": [
    "tag = \"NH\"\n",
    "\n",
    "ds1_mar_nh = ds1_vol.sel(time=(ds1_vol.time.dt.month == 3))\n",
    "ds2_mar_nh = ds2_vol.sel(time=(ds2_vol.time.dt.month == 3))\n",
    "\n",
    "cesm1_hitot_nh_mar = ds_cesm1_hitot_nh[\"hi_monthly\"].isel(nmonth=2)\n",
    "cesm2_hitot_nh_mar = ds_cesm2_hitot_nh[\"hi_monthly\"].isel(nmonth=2)\n",
    "\n",
    "# Make Plot - two subplots - note it's nrow x ncol x index (starting upper left)\n",
    "fig = plt.figure(figsize=(20, 7))\n",
    "\n",
    "### First panel, timeseries\n",
    "ax = fig.add_subplot(1, 2, 1)\n",
    "for i in range(0, 38):\n",
    "    ax.plot(\n",
    "        x3,\n",
    "        cesm1_hitot_nh_mar.isel(\n",
    "            n_members=i, nyr=slice(cesm1_climo_start, cesm1_climo_end + 1)\n",
    "        )\n",
    "        * 1.0e-13,\n",
    "        color=\"lightgrey\",\n",
    "    )\n",
    "for i in range(0, 49):\n",
    "    ax.plot(\n",
    "        x4,\n",
    "        cesm2_hitot_nh_mar.isel(\n",
    "            n_members=i, nyr=slice(cesm2_climo_start, cesm2_climo_end + 1)\n",
    "        )\n",
    "        * 1.0e-13,\n",
    "        color=\"lightblue\",\n",
    "    )\n",
    "plt_plot_len_x_might_be_one(ds1_mar_nh, x1, x2, color=\"red\")\n",
    "plt_plot_len_x_might_be_one(ds2_mar_nh, x2, x1, color=\"blue\")\n",
    "\n",
    "plt.title(tag + \" March Mean Sea Ice Volume\")\n",
    "plt.ylim((0, 10))\n",
    "plt.xlabel(\"Year\")\n",
    "plt.ylabel(\"Sea Ice Volume $m^{3}x10^{13}$\")\n",
    "plt.legend(handles=[p1, p2, p3, p4])\n",
    "\n",
    "### Second panel, boxplot\n",
    "ax = fig.add_subplot(1, 2, 2)\n",
    "# get just last years of large ensembles and one dimensionalize them\n",
    "cesm1_tmp = (\n",
    "    cesm1_hitot_nh_mar.isel(nyr=slice(cesm1_climo_start, cesm1_climo_end + 1)).stack(\n",
    "        new=(\"n_members\", \"nyr\")\n",
    "    )\n",
    "    * 1.0e-13\n",
    ")\n",
    "cesm2_tmp = (\n",
    "    cesm2_hitot_nh_mar.isel(nyr=slice(cesm2_climo_start, cesm2_climo_end + 1)).stack(\n",
    "        new=(\"n_members\", \"nyr\")\n",
    "    )\n",
    "    * 1.0e-13\n",
    ")\n",
    "\n",
    "# plot boxes\n",
    "boxplots1 = ax.boxplot(ds1_mar_nh, showfliers=False, autorange=False, positions=[0.25])\n",
    "boxplots2 = ax.boxplot(ds2_mar_nh, showfliers=False, autorange=False, positions=[0.50])\n",
    "boxplots4 = ax.boxplot(cesm1_tmp, showfliers=False, autorange=False, positions=[0.75])\n",
    "boxplots5 = ax.boxplot(cesm2_tmp, showfliers=False, autorange=False, positions=[1.00])\n",
    "\n",
    "# set colors for each box\n",
    "setBoxColor(boxplots1, 8 * [\"red\"])\n",
    "setBoxColor(boxplots2, 8 * [\"blue\"])\n",
    "setBoxColor(boxplots4, 8 * [\"lightgrey\"])\n",
    "setBoxColor(boxplots5, 8 * [\"lightblue\"])\n",
    "\n",
    "# set plot details\n",
    "plt.title(tag + \" March Mean Sea Ice Volume Range\")\n",
    "plt.ylabel(\"Sea Ice Area $m^{3}x10^{13}$\")\n",
    "plt.ylim((0, 10))\n",
    "plt.xlim([0, 1.5])\n",
    "plt.xticks(visible=False)"
   ]
  },
  {
   "cell_type": "code",
   "execution_count": null,
   "id": "1b15bc53-c4be-42b2-8691-451cdc73aee8",
   "metadata": {
    "editable": true,
    "slideshow": {
     "slide_type": ""
    },
    "tags": [
     "hide-input"
    ]
   },
   "outputs": [],
   "source": [
    "tag = \"NH\"\n",
    "\n",
    "ds1_sep_nh = ds1_vol.sel(time=(ds1_vol.time.dt.month == 9))\n",
    "ds2_sep_nh = ds2_vol.sel(time=(ds2_vol.time.dt.month == 9))\n",
    "\n",
    "cesm1_hitot_nh_sep = ds_cesm1_hitot_nh[\"hi_monthly\"].isel(nmonth=8)\n",
    "cesm2_hitot_nh_sep = ds_cesm2_hitot_nh[\"hi_monthly\"].isel(nmonth=8)\n",
    "\n",
    "# Make Plot - two subplots - note it's nrow x ncol x index (starting upper left)\n",
    "fig = plt.figure(figsize=(20, 7))\n",
    "\n",
    "### First panel, timeseries\n",
    "ax = fig.add_subplot(1, 2, 1)\n",
    "for i in range(0, 38):\n",
    "    ax.plot(\n",
    "        x3,\n",
    "        cesm1_hitot_nh_sep.isel(\n",
    "            n_members=i, nyr=slice(cesm1_climo_start, cesm1_climo_end + 1)\n",
    "        )\n",
    "        * 1.0e-13,\n",
    "        color=\"lightgrey\",\n",
    "    )\n",
    "for i in range(0, 49):\n",
    "    ax.plot(\n",
    "        x4,\n",
    "        cesm2_hitot_nh_sep.isel(\n",
    "            n_members=i, nyr=slice(cesm2_climo_start, cesm2_climo_end + 1)\n",
    "        )\n",
    "        * 1.0e-13,\n",
    "        color=\"lightblue\",\n",
    "    )\n",
    "plt_plot_len_x_might_be_one(ds1_sep_nh, x1, x2, color=\"red\")\n",
    "plt_plot_len_x_might_be_one(ds2_sep_nh, x2, x1, color=\"blue\")\n",
    "\n",
    "plt.title(tag + \" September Mean Sea Ice Volume\")\n",
    "plt.ylim((0, 6))\n",
    "plt.xlabel(\"Year\")\n",
    "plt.ylabel(\"Sea Ice Volume $m^{3}x10^{13}$\")\n",
    "plt.legend(handles=[p1, p2, p3, p4])\n",
    "\n",
    "### Second panel, boxplot\n",
    "ax = fig.add_subplot(1, 2, 2)\n",
    "# get just last years of large ensembles and one dimensionalize them\n",
    "cesm1_tmp = (\n",
    "    cesm1_hitot_nh_sep.isel(nyr=slice(cesm1_climo_start, cesm1_climo_end + 1)).stack(\n",
    "        new=(\"n_members\", \"nyr\")\n",
    "    )\n",
    "    * 1.0e-13\n",
    ")\n",
    "cesm2_tmp = (\n",
    "    cesm2_hitot_nh_sep.isel(nyr=slice(cesm2_climo_start, cesm2_climo_end + 1)).stack(\n",
    "        new=(\"n_members\", \"nyr\")\n",
    "    )\n",
    "    * 1.0e-13\n",
    ")\n",
    "\n",
    "# plot boxes\n",
    "boxplots1 = ax.boxplot(ds1_sep_nh, showfliers=False, autorange=False, positions=[0.25])\n",
    "boxplots2 = ax.boxplot(ds2_sep_nh, showfliers=False, autorange=False, positions=[0.50])\n",
    "boxplots4 = ax.boxplot(cesm1_tmp, showfliers=False, autorange=False, positions=[0.75])\n",
    "boxplots5 = ax.boxplot(cesm2_tmp, showfliers=False, autorange=False, positions=[1.00])\n",
    "\n",
    "# set colors for each box\n",
    "setBoxColor(boxplots1, 8 * [\"red\"])\n",
    "setBoxColor(boxplots2, 8 * [\"blue\"])\n",
    "setBoxColor(boxplots4, 8 * [\"lightgrey\"])\n",
    "setBoxColor(boxplots5, 8 * [\"lightblue\"])\n",
    "\n",
    "# set plot details\n",
    "plt.title(tag + \" September Mean Sea Ice Volume Range\")\n",
    "plt.ylabel(\"Sea Ice Area $m^{3}x10^{13}$\")\n",
    "plt.ylim((0, 6))\n",
    "plt.xlim([0, 1.5])\n",
    "plt.xticks(visible=False)"
   ]
  },
  {
   "cell_type": "markdown",
   "id": "cbc72c72-29b9-4c8d-a5e9-1753b485fd02",
   "metadata": {},
   "source": [
    "## SH\n",
    "- Maximum - September\n",
    "- Minimum - February"
   ]
  },
  {
   "cell_type": "markdown",
   "id": "05a5993d-f2ad-4216-8234-008c85e0cb39",
   "metadata": {},
   "source": [
    "### Ice Area"
   ]
  },
  {
   "cell_type": "code",
   "execution_count": null,
   "id": "3112d1e9-cf3a-4c85-8bd7-f0aea5e99717",
   "metadata": {
    "editable": true,
    "slideshow": {
     "slide_type": ""
    },
    "tags": [
     "hide-input"
    ]
   },
   "outputs": [],
   "source": [
    "ds1_area = (tarea * ds1.aice).isel(time=slice(-climo_nyears1 * 12, None)).where(\n",
    "    TLAT < 0\n",
    ").sum(dim=[\"nj\", \"ni\"]) * 1.0e-12\n",
    "ds2_area = (tarea * ds2.aice).isel(time=slice(-climo_nyears2 * 12, None)).where(\n",
    "    TLAT < 0\n",
    ").sum(dim=[\"nj\", \"ni\"]) * 1.0e-12"
   ]
  },
  {
   "cell_type": "code",
   "execution_count": null,
   "id": "56cbf59c-69c5-45d9-a0b0-38f490161484",
   "metadata": {
    "editable": true,
    "slideshow": {
     "slide_type": ""
    },
    "tags": [
     "hide-input"
    ]
   },
   "outputs": [],
   "source": [
    "tag = \"SH\"\n",
    "\n",
    "ds1_feb_sh = ds1_area.sel(time=(ds1_area.time.dt.month == 2))\n",
    "ds2_feb_sh = ds2_area.sel(time=(ds2_area.time.dt.month == 2))\n",
    "\n",
    "cesm1_aicetot_sh_feb = ds_cesm1_aicetot_sh[\"aice_monthly\"].isel(nmonth=1)\n",
    "cesm2_aicetot_sh_feb = ds_cesm2_aicetot_sh[\"aice_monthly\"].isel(nmonth=1)\n",
    "\n",
    "# Make Plot - two subplots - note it's nrow x ncol x index (starting upper left)\n",
    "fig = plt.figure(figsize=(20, 7))\n",
    "\n",
    "### First panel, timeseries\n",
    "ax = fig.add_subplot(1, 2, 1)\n",
    "for i in range(0, 38):\n",
    "    ax.plot(\n",
    "        x3,\n",
    "        cesm1_aicetot_sh_feb.isel(\n",
    "            n_members=i, nyr=slice(cesm1_climo_start, cesm1_climo_end + 1)\n",
    "        )\n",
    "        * 1.0e-12,\n",
    "        color=\"lightgrey\",\n",
    "    )\n",
    "for i in range(0, 49):\n",
    "    ax.plot(\n",
    "        x4,\n",
    "        cesm2_aicetot_sh_feb.isel(\n",
    "            n_members=i, nyr=slice(cesm2_climo_start, cesm2_climo_end + 1)\n",
    "        )\n",
    "        * 1.0e-12,\n",
    "        color=\"lightblue\",\n",
    "    )\n",
    "plt_plot_len_x_might_be_one(ds1_feb_sh, x1, x2, color=\"red\")\n",
    "plt_plot_len_x_might_be_one(ds2_feb_sh, x2, x1, color=\"blue\")\n",
    "ax.plot(x6, cdr_sh_feb, color=\"black\")\n",
    "\n",
    "plt.title(tag + \" February Mean Sea Ice Area\")\n",
    "plt.ylim((0, 10))\n",
    "plt.xlabel(\"Year\")\n",
    "plt.ylabel(\"Sea Ice Area $m^{2}x10^{12}$\")\n",
    "plt.legend(handles=[p1, p2, p3, p4, p5])\n",
    "\n",
    "### Second panel, boxplot\n",
    "ax = fig.add_subplot(1, 2, 2)\n",
    "# get just last years of large ensembles and one dimensionalize them\n",
    "cesm1_tmp = (\n",
    "    cesm1_aicetot_sh_feb.isel(nyr=slice(cesm1_climo_start, cesm1_climo_end + 1)).stack(\n",
    "        new=(\"n_members\", \"nyr\")\n",
    "    )\n",
    "    * 1.0e-12\n",
    ")\n",
    "cesm2_tmp = (\n",
    "    cesm2_aicetot_sh_feb.isel(nyr=slice(cesm2_climo_start, cesm2_climo_end + 1)).stack(\n",
    "        new=(\"n_members\", \"nyr\")\n",
    "    )\n",
    "    * 1.0e-12\n",
    ")\n",
    "\n",
    "# plot boxes\n",
    "boxplots1 = ax.boxplot(ds1_feb_sh, showfliers=False, autorange=False, positions=[0.25])\n",
    "boxplots2 = ax.boxplot(ds2_feb_sh, showfliers=False, autorange=False, positions=[0.50])\n",
    "boxplots3 = ax.boxplot(cdr_sh_feb, showfliers=False, autorange=False, positions=[0.75])\n",
    "boxplots4 = ax.boxplot(cesm1_tmp, showfliers=False, autorange=False, positions=[1.00])\n",
    "boxplots5 = ax.boxplot(cesm2_tmp, showfliers=False, autorange=False, positions=[1.25])\n",
    "\n",
    "# set colors for each box\n",
    "setBoxColor(boxplots1, 8 * [\"red\"])\n",
    "setBoxColor(boxplots2, 8 * [\"blue\"])\n",
    "setBoxColor(boxplots3, 8 * [\"black\"])\n",
    "setBoxColor(boxplots4, 8 * [\"lightgrey\"])\n",
    "setBoxColor(boxplots5, 8 * [\"lightblue\"])\n",
    "\n",
    "# set plot details\n",
    "plt.title(tag + \" February Mean Sea Ice Area Range\")\n",
    "plt.ylabel(\"Sea Ice Area $m^{2}x10^{12}$\")\n",
    "plt.ylim((0, 10))\n",
    "plt.xlim([0, 1.5])\n",
    "plt.xticks(visible=False)"
   ]
  },
  {
   "cell_type": "code",
   "execution_count": null,
   "id": "82a58805-082b-43d6-a0ec-49cc9725cfdd",
   "metadata": {
    "editable": true,
    "slideshow": {
     "slide_type": ""
    },
    "tags": [
     "hide-input"
    ]
   },
   "outputs": [],
   "source": [
    "tag = \"SH\"\n",
    "\n",
    "ds1_sep_sh = ds1_area.sel(time=(ds1_area.time.dt.month == 9))\n",
    "ds2_sep_sh = ds2_area.sel(time=(ds2_area.time.dt.month == 9))\n",
    "\n",
    "cesm1_aicetot_sh_sep = ds_cesm1_aicetot_sh[\"aice_monthly\"].isel(nmonth=8)\n",
    "cesm2_aicetot_sh_sep = ds_cesm2_aicetot_sh[\"aice_monthly\"].isel(nmonth=8)\n",
    "\n",
    "# Make Plot - two subplots - note it's nrow x ncol x index (starting upper left)\n",
    "fig = plt.figure(figsize=(20, 7))\n",
    "\n",
    "### First panel, timeseries\n",
    "ax = fig.add_subplot(1, 2, 1)\n",
    "for i in range(0, 38):\n",
    "    ax.plot(\n",
    "        x3,\n",
    "        cesm1_aicetot_sh_sep.isel(\n",
    "            n_members=i, nyr=slice(cesm1_climo_start, cesm1_climo_end + 1)\n",
    "        )\n",
    "        * 1.0e-12,\n",
    "        color=\"lightgrey\",\n",
    "    )\n",
    "for i in range(0, 49):\n",
    "    ax.plot(\n",
    "        x4,\n",
    "        cesm2_aicetot_sh_sep.isel(\n",
    "            n_members=i, nyr=slice(cesm2_climo_start, cesm2_climo_end + 1)\n",
    "        )\n",
    "        * 1.0e-12,\n",
    "        color=\"lightblue\",\n",
    "    )\n",
    "plt_plot_len_x_might_be_one(ds1_sep_sh, x1, x2, color=\"red\")\n",
    "plt_plot_len_x_might_be_one(ds2_sep_sh, x2, x1, color=\"blue\")\n",
    "ax.plot(x6, cdr_sh_sep, color=\"black\")\n",
    "\n",
    "plt.title(tag + \" September Mean Sea Ice Area\")\n",
    "plt.ylim((10, 30))\n",
    "plt.xlabel(\"Year\")\n",
    "plt.ylabel(\"Sea Ice Area $m^{2}x10^{12}$\")\n",
    "plt.legend(handles=[p1, p2, p3, p4, p5])\n",
    "\n",
    "### Second panel, boxplot\n",
    "ax = fig.add_subplot(1, 2, 2)\n",
    "# get just last years of large ensembles and one dimensionalize them\n",
    "cesm1_tmp = (\n",
    "    cesm1_aicetot_sh_sep.isel(nyr=slice(cesm1_climo_start, cesm1_climo_end + 1)).stack(\n",
    "        new=(\"n_members\", \"nyr\")\n",
    "    )\n",
    "    * 1.0e-12\n",
    ")\n",
    "cesm2_tmp = (\n",
    "    cesm2_aicetot_sh_sep.isel(nyr=slice(cesm2_climo_start, cesm2_climo_end + 1)).stack(\n",
    "        new=(\"n_members\", \"nyr\")\n",
    "    )\n",
    "    * 1.0e-12\n",
    ")\n",
    "\n",
    "# plot boxes\n",
    "boxplots1 = ax.boxplot(ds1_sep_sh, showfliers=False, autorange=False, positions=[0.25])\n",
    "boxplots2 = ax.boxplot(ds2_sep_sh, showfliers=False, autorange=False, positions=[0.50])\n",
    "boxplots3 = ax.boxplot(cdr_sh_sep, showfliers=False, autorange=False, positions=[0.75])\n",
    "boxplots4 = ax.boxplot(cesm1_tmp, showfliers=False, autorange=False, positions=[1.00])\n",
    "boxplots5 = ax.boxplot(cesm2_tmp, showfliers=False, autorange=False, positions=[1.25])\n",
    "\n",
    "# set colors for each box\n",
    "setBoxColor(boxplots1, 8 * [\"red\"])\n",
    "setBoxColor(boxplots2, 8 * [\"blue\"])\n",
    "setBoxColor(boxplots3, 8 * [\"black\"])\n",
    "setBoxColor(boxplots4, 8 * [\"lightgrey\"])\n",
    "setBoxColor(boxplots5, 8 * [\"lightblue\"])\n",
    "\n",
    "# set plot details\n",
    "plt.title(tag + \" September Mean Sea Ice Area Range\")\n",
    "plt.ylabel(\"Sea Ice Area $m^{2}x10^{12}$\")\n",
    "plt.ylim((10, 30))\n",
    "plt.xlim([0, 1.5])\n",
    "plt.xticks(visible=False)"
   ]
  },
  {
   "cell_type": "markdown",
   "id": "a953dd44-1ae4-41d8-afd5-0a00907cdb9a",
   "metadata": {},
   "source": [
    "### Ice Volume"
   ]
  },
  {
   "cell_type": "code",
   "execution_count": null,
   "id": "aae93437-7ba5-46a1-9e5a-aa2141e9a0f6",
   "metadata": {
    "editable": true,
    "slideshow": {
     "slide_type": ""
    },
    "tags": [
     "hide-input"
    ]
   },
   "outputs": [],
   "source": [
    "ds1_vol = (tarea * ds1.hi).isel(time=slice(-climo_nyears1 * 12, None)).where(\n",
    "    TLAT < 0\n",
    ").sum(dim=[\"nj\", \"ni\"]) * 1.0e-13\n",
    "ds2_vol = (tarea * ds2.hi).isel(time=slice(-climo_nyears2 * 12, None)).where(\n",
    "    TLAT < 0\n",
    ").sum(dim=[\"nj\", \"ni\"]) * 1.0e-13"
   ]
  },
  {
   "cell_type": "code",
   "execution_count": null,
   "id": "c5e9f371-23d8-48e5-83bd-d05f62007dfc",
   "metadata": {
    "editable": true,
    "slideshow": {
     "slide_type": ""
    },
    "tags": [
     "hide-input"
    ]
   },
   "outputs": [],
   "source": [
    "tag = \"SH\"\n",
    "\n",
    "ds1_feb_sh = ds1_vol.sel(time=(ds1_vol.time.dt.month == 3))\n",
    "ds2_feb_sh = ds2_vol.sel(time=(ds2_vol.time.dt.month == 3))\n",
    "\n",
    "cesm1_hitot_sh_feb = ds_cesm1_hitot_sh[\"hi_monthly\"].isel(nmonth=2)\n",
    "cesm2_hitot_sh_feb = ds_cesm2_hitot_sh[\"hi_monthly\"].isel(nmonth=2)\n",
    "\n",
    "# Make Plot - two subplots - note it's nrow x ncol x index (starting upper left)\n",
    "fig = plt.figure(figsize=(20, 7))\n",
    "\n",
    "### First panel, timeseries\n",
    "ax = fig.add_subplot(1, 2, 1)\n",
    "for i in range(0, 38):\n",
    "    ax.plot(\n",
    "        x3,\n",
    "        cesm1_hitot_sh_feb.isel(\n",
    "            n_members=i, nyr=slice(cesm1_climo_start, cesm1_climo_end + 1)\n",
    "        )\n",
    "        * 1.0e-13,\n",
    "        color=\"lightgrey\",\n",
    "    )\n",
    "for i in range(0, 49):\n",
    "    ax.plot(\n",
    "        x4,\n",
    "        cesm2_hitot_sh_feb.isel(\n",
    "            n_members=i, nyr=slice(cesm2_climo_start, cesm2_climo_end + 1)\n",
    "        )\n",
    "        * 1.0e-13,\n",
    "        color=\"lightblue\",\n",
    "    )\n",
    "plt_plot_len_x_might_be_one(ds1_feb_sh, x1, x2, color=\"red\")\n",
    "plt_plot_len_x_might_be_one(ds2_feb_sh, x2, x1, color=\"blue\")\n",
    "\n",
    "plt.title(tag + \" February Mean Sea Ice Volume\")\n",
    "plt.ylim((0, 2))\n",
    "plt.xlabel(\"Year\")\n",
    "plt.ylabel(\"Sea Ice Volume $m^{3}x10^{13}$\")\n",
    "plt.legend(handles=[p1, p2, p3, p4])\n",
    "\n",
    "### Second panel, boxplot\n",
    "ax = fig.add_subplot(1, 2, 2)\n",
    "# get just last years of large ensembles and one dimensionalize them\n",
    "cesm1_tmp = (\n",
    "    cesm1_hitot_sh_feb.isel(nyr=slice(cesm1_climo_start, cesm1_climo_end + 1)).stack(\n",
    "        new=(\"n_members\", \"nyr\")\n",
    "    )\n",
    "    * 1.0e-13\n",
    ")\n",
    "cesm2_tmp = (\n",
    "    cesm2_hitot_sh_feb.isel(nyr=slice(cesm2_climo_start, cesm2_climo_end + 1)).stack(\n",
    "        new=(\"n_members\", \"nyr\")\n",
    "    )\n",
    "    * 1.0e-13\n",
    ")\n",
    "\n",
    "# plot boxes\n",
    "boxplots1 = ax.boxplot(ds1_feb_sh, showfliers=False, autorange=False, positions=[0.25])\n",
    "boxplots2 = ax.boxplot(ds2_feb_sh, showfliers=False, autorange=False, positions=[0.50])\n",
    "boxplots4 = ax.boxplot(cesm1_tmp, showfliers=False, autorange=False, positions=[0.75])\n",
    "boxplots5 = ax.boxplot(cesm2_tmp, showfliers=False, autorange=False, positions=[1.00])\n",
    "\n",
    "# set colors for each box\n",
    "setBoxColor(boxplots1, 8 * [\"red\"])\n",
    "setBoxColor(boxplots2, 8 * [\"blue\"])\n",
    "setBoxColor(boxplots4, 8 * [\"lightgrey\"])\n",
    "setBoxColor(boxplots5, 8 * [\"lightblue\"])\n",
    "\n",
    "# set plot details\n",
    "plt.title(tag + \" February Mean Sea Ice Volume Range\")\n",
    "plt.ylabel(\"Sea Ice Area $m^{3}x10^{13}$\")\n",
    "plt.ylim((0, 2))\n",
    "plt.xlim([0, 1.5])\n",
    "plt.xticks(visible=False)"
   ]
  },
  {
   "cell_type": "code",
   "execution_count": null,
   "id": "9a78308f-a7fc-4872-ae9c-80cb51f740e5",
   "metadata": {
    "editable": true,
    "slideshow": {
     "slide_type": ""
    },
    "tags": [
     "hide-input"
    ]
   },
   "outputs": [],
   "source": [
    "tag = \"SH\"\n",
    "\n",
    "ds1_sep_sh = ds1_vol.sel(time=(ds1_vol.time.dt.month == 9))\n",
    "ds2_sep_sh = ds2_vol.sel(time=(ds2_vol.time.dt.month == 9))\n",
    "\n",
    "cesm1_hitot_sh_sep = ds_cesm1_hitot_sh[\"hi_monthly\"].isel(nmonth=8)\n",
    "cesm2_hitot_sh_sep = ds_cesm2_hitot_sh[\"hi_monthly\"].isel(nmonth=8)\n",
    "\n",
    "# Make Plot - two subplots - note it's nrow x ncol x index (starting upper left)\n",
    "fig = plt.figure(figsize=(20, 7))\n",
    "\n",
    "### First panel, timeseries\n",
    "ax = fig.add_subplot(1, 2, 1)\n",
    "for i in range(0, 38):\n",
    "    ax.plot(\n",
    "        x3,\n",
    "        cesm1_hitot_sh_sep.isel(\n",
    "            n_members=i, nyr=slice(cesm1_climo_start, cesm1_climo_end + 1)\n",
    "        )\n",
    "        * 1.0e-13,\n",
    "        color=\"lightgrey\",\n",
    "    )\n",
    "for i in range(0, 49):\n",
    "    ax.plot(\n",
    "        x4,\n",
    "        cesm2_hitot_sh_sep.isel(\n",
    "            n_members=i, nyr=slice(cesm2_climo_start, cesm2_climo_end + 1)\n",
    "        )\n",
    "        * 1.0e-13,\n",
    "        color=\"lightblue\",\n",
    "    )\n",
    "plt_plot_len_x_might_be_one(ds1_sep_sh, x1, x2, color=\"red\")\n",
    "plt_plot_len_x_might_be_one(ds2_sep_sh, x2, x1, color=\"blue\")\n",
    "\n",
    "plt.title(tag + \" September Mean Sea Ice Volume\")\n",
    "plt.ylim((0, 6))\n",
    "plt.xlabel(\"Year\")\n",
    "plt.ylabel(\"Sea Ice Volume $m^{3}x10^{13}$\")\n",
    "plt.legend(handles=[p1, p2, p3, p4])\n",
    "\n",
    "### Second panel, boxplot\n",
    "ax = fig.add_subplot(1, 2, 2)\n",
    "# get just last years of large ensembles and one dimensionalize them\n",
    "cesm1_tmp = (\n",
    "    cesm1_hitot_sh_sep.isel(nyr=slice(cesm1_climo_start, cesm1_climo_end + 1)).stack(\n",
    "        new=(\"n_members\", \"nyr\")\n",
    "    )\n",
    "    * 1.0e-13\n",
    ")\n",
    "cesm2_tmp = (\n",
    "    cesm2_hitot_sh_sep.isel(nyr=slice(cesm2_climo_start, cesm2_climo_end + 1)).stack(\n",
    "        new=(\"n_members\", \"nyr\")\n",
    "    )\n",
    "    * 1.0e-13\n",
    ")\n",
    "\n",
    "# plot boxes\n",
    "boxplots1 = ax.boxplot(ds1_sep_sh, showfliers=False, autorange=False, positions=[0.25])\n",
    "boxplots2 = ax.boxplot(ds2_sep_sh, showfliers=False, autorange=False, positions=[0.50])\n",
    "boxplots4 = ax.boxplot(cesm1_tmp, showfliers=False, autorange=False, positions=[0.75])\n",
    "boxplots5 = ax.boxplot(cesm2_tmp, showfliers=False, autorange=False, positions=[1.00])\n",
    "\n",
    "# set colors for each box\n",
    "setBoxColor(boxplots1, 8 * [\"red\"])\n",
    "setBoxColor(boxplots2, 8 * [\"blue\"])\n",
    "setBoxColor(boxplots4, 8 * [\"lightgrey\"])\n",
    "setBoxColor(boxplots5, 8 * [\"lightblue\"])\n",
    "\n",
    "# set plot details\n",
    "plt.title(tag + \" September Mean Sea Ice Volume Range\")\n",
    "plt.ylabel(\"Sea Ice Area $m^{3}x10^{13}$\")\n",
    "plt.ylim((0, 6))\n",
    "plt.xlim([0, 1.5])\n",
    "plt.xticks(visible=False)"
   ]
  },
  {
   "cell_type": "markdown",
   "id": "434453cd-b250-4786-b1e2-c56830a9ff80",
   "metadata": {},
   "source": [
    "# Labrador Sea Timeseries"
   ]
  },
  {
   "cell_type": "code",
   "execution_count": null,
   "id": "b9a9ad99-e580-4188-a328-950c84eb1b62",
   "metadata": {
    "editable": true,
    "slideshow": {
     "slide_type": ""
    },
    "tags": [
     "hide-input"
    ]
   },
   "outputs": [],
   "source": [
    "latm = cice_masks[\"Lab_lat\"]\n",
    "lonm = cice_masks[\"Lab_lon\"]\n",
    "\n",
    "lon = np.where(TLON < 0, TLON + 360.0, TLON)\n",
    "mask1 = np.where(np.logical_and(TLAT > latm[0], TLAT < latm[1]), 1.0, 0.0)\n",
    "mask2 = np.where(np.logical_or(lon > lonm[0], lon < lonm[1]), 1.0, 0.0)\n",
    "mask = mask1 * mask2\n",
    "\n",
    "ds1_lab = (mask * tarea * ds1.aice).sum(dim=[\"nj\", \"ni\"]) * 1.0e-12\n",
    "ds2_lab = (mask * tarea * ds2.aice).sum(dim=[\"nj\", \"ni\"]) * 1.0e-12\n",
    "\n",
    "# just want maximum extent (so March)\n",
    "ds1_lab_mar = ds1_lab.sel(time=ds1_lab.time.dt.month == 3)\n",
    "ds2_lab_mar = ds2_lab.sel(time=ds2_lab.time.dt.month == 3)\n",
    "\n",
    "# Set up axes\n",
    "if first_year >= 1850 or base_first_year >= 1850:\n",
    "    model_start_year1 = max(end_year, base_end_year) - len(ds1_lab_mar.time) + 1\n",
    "    model_end_year1 = max(end_year, base_end_year)\n",
    "    model_start_year2 = max(end_year, base_end_year) - len(ds2_lab_mar.time) + 1\n",
    "    model_end_year2 = max(end_year, base_end_year)\n",
    "else:\n",
    "    model_start_year1 = first_year\n",
    "    model_end_year1 = len(ds1_lab_mar.time) + first_year\n",
    "    model_start_year2 = base_first_year\n",
    "    model_end_year2 = len(ds2_lab_mar.time) + base_first_year\n",
    "\n",
    "del x1\n",
    "del x2\n",
    "\n",
    "x1 = np.linspace(model_start_year1, model_end_year1, len(ds1_lab_mar.time))\n",
    "x2 = np.linspace(model_start_year2, model_end_year2, len(ds2_lab_mar.time))\n",
    "\n",
    "plt_plot_len_x_might_be_one(ds1_lab_mar, x1, x2, color=\"red\")\n",
    "plt_plot_len_x_might_be_one(ds2_lab_mar, x2, x1, color=\"blue\")\n",
    "plt.plot(x6, cdr_lab_mar, color=\"black\")\n",
    "\n",
    "plt.title(\"Labrador Sea March Mean Sea Ice Area\")\n",
    "plt.ylim((0, 10))\n",
    "plt.xlabel(\"Year\")\n",
    "plt.ylabel(\"Labrador Sea Ice Area $m x 10^{12}$\")\n",
    "plt.legend(handles=[p3, p4, p5])"
   ]
  },
  {
   "cell_type": "code",
   "execution_count": null,
   "id": "4b5a2683-61de-4a4d-8f22-d05d185977c2",
   "metadata": {
    "editable": true,
    "slideshow": {
     "slide_type": ""
    },
    "tags": [
     "hide-input"
    ]
   },
   "outputs": [],
   "source": [
    "if not serial:\n",
    "    client.shutdown()"
   ]
  }
 ],
 "metadata": {
  "kernelspec": {
   "display_name": "Python [conda env:cupid-analysis]",
   "language": "python",
   "name": "conda-env-cupid-analysis-py"
  },
  "language_info": {
   "codemirror_mode": {
    "name": "ipython",
    "version": 3
   },
   "file_extension": ".py",
   "mimetype": "text/x-python",
   "name": "python",
   "nbconvert_exporter": "python",
   "pygments_lexer": "ipython3",
   "version": "3.11.4"
  }
 },
 "nbformat": 4,
 "nbformat_minor": 5
}
