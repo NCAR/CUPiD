{
 "cells": [
  {
   "cell_type": "markdown",
   "id": "623cbc23-45bf-4dfd-9f49-8d814d0394ba",
   "metadata": {},
   "source": [
    "# Link to ADF output\n",
    "\n",
    "The output from the stand-alone ADF configuration is in the link below\n",
    "\n",
    "\n",
    "Note that ADF is currently run by users. We hope to update this in response to [CUPiD issue #105](https://github.com/NCAR/CUPiD/issues/105). Temporarily, we suggest users walk through the following process:\n",
    "1) Install ADF\n",
    "2) Use the `CUPiD/helper_scripts/generate_adf_config_file.py` script to generate an ADF config file based on a CUPiD configuration file.\n",
    "   * `cd CUPiD/helper_scripts`\n",
    "   * `./generate_adf_config_file.py --cupid_file ../examples/external_diag_packages/config.yml --adf_template ../../ADF/config_amwg_default_plots.yaml --out_file ../../ADF_config.yaml`\n",
    "4) Run ADF with the newly created configuration file.\n",
    "   * `cd ../../ADF`\n",
    "   * `./run_adf_diag ../ADF_config.yaml`"
   ]
  },
  {
   "cell_type": "code",
   "execution_count": null,
   "id": "82af7435-3849-4fd1-bb2d-2e062719ec5b",
   "metadata": {
    "editable": true,
    "slideshow": {
     "slide_type": ""
    },
    "tags": [
     "hide-cell"
    ]
   },
   "outputs": [],
   "source": [
    "import os\n",
    "from IPython.core.display import HTML, Image\n",
    "from IPython.display import display"
   ]
  },
  {
   "cell_type": "code",
   "execution_count": null,
   "id": "2a759f1b-eca7-4eec-a16a-eede1a6ab36c",
   "metadata": {
    "editable": true,
    "slideshow": {
     "slide_type": ""
    },
    "tags": [
     "parameters",
     "hide-cell"
    ]
   },
   "outputs": [],
   "source": [
    "adf_root = \".\"\n",
    "case_name = None\n",
    "base_case_name = None\n",
    "case_year_range = None\n",
    "base_case_year_range = None\n",
    "# adf_root will be external_diag_packages/computed_notebooks/external_diag_packages/ADF/"
   ]
  },
  {
   "cell_type": "code",
   "execution_count": null,
   "id": "ee0774cc-c68a-4385-b94c-08fa806f28c0",
   "metadata": {},
   "outputs": [],
   "source": [
    "adf_comparison_name = (\n",
    "    f\"{case_name}_{case_year_range}_vs_{base_case_name}_{base_case_year_range}\"\n",
    ")\n",
    "adf_root = os.path.join(adf_root, adf_comparison_name)\n",
    "display(\n",
    "    HTML(\n",
    "        f'<a href=\"../ADF/{adf_comparison_name}/website/index.html\">Link to Full ADF output</a>'\n",
    "    )\n",
    ")"
   ]
  },
  {
   "cell_type": "markdown",
   "id": "f9234aec-1fe5-4bbf-ad6c-fb565297afbe",
   "metadata": {},
   "source": [
    "## Key Metrics from ADF\n",
    "These will eventually be put in the key_metrics example, but are a proof of concept of including individual plots from ADF directly linked in the JupyterBook."
   ]
  },
  {
   "cell_type": "code",
   "execution_count": null,
   "id": "be819352-c723-4f48-afac-d93f6d192f96",
   "metadata": {
    "editable": true,
    "slideshow": {
     "slide_type": ""
    },
    "tags": [
     "hide-input"
    ]
   },
   "outputs": [],
   "source": [
    "list_of_key_plots = [\n",
    "    \"Surface_Wind_Stress_ANN_LatLon_Vector_Mean.png\",\n",
    "    \"PRECT_ANN_LatLon_Mean.png\",\n",
    "    \"PS_DJF_SHPolar_Mean.png\",\n",
    "    \"TaylorDiag_ANN_Special_Mean.png\",\n",
    "]\n",
    "for path_to_key_plot in list_of_key_plots:\n",
    "    full_path = os.path.join(adf_root, path_to_key_plot)\n",
    "    if os.path.isfile(full_path):\n",
    "        display(Image(full_path))"
   ]
  }
 ],
 "metadata": {
  "kernelspec": {
   "display_name": "Python 3 (ipykernel)",
   "language": "python",
   "name": "cupid-analysis"
  },
  "language_info": {
   "codemirror_mode": {
    "name": "ipython",
    "version": 3
   },
   "file_extension": ".py",
   "mimetype": "text/x-python",
   "name": "python",
   "nbconvert_exporter": "python",
   "pygments_lexer": "ipython3",
   "version": "3.11.4"
  }
 },
 "nbformat": 4,
 "nbformat_minor": 5
}
