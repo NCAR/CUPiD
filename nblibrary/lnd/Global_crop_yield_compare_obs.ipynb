{
 "cells": [
  {
   "cell_type": "markdown",
   "id": "00bde298-3456-40dd-8011-c61df95f5f77",
   "metadata": {},
   "source": [
    "# Compare crop yields to observations\n",
    "\n",
    "- Uses raw annual CTSM outputs (NOT timeseries files).\n",
    "\n",
    "Notebook created by Sam Rabin (samrabin@ucar.edu)."
   ]
  },
  {
   "cell_type": "code",
   "execution_count": null,
   "id": "750da831-1c5c-4b41-947e-a9e57a62a820",
   "metadata": {
    "editable": true,
    "slideshow": {
     "slide_type": ""
    },
    "tags": [
     "hide-cell"
    ]
   },
   "outputs": [],
   "source": [
    "import os\n",
    "import glob\n",
    "import numpy as np\n",
    "import xarray as xr\n",
    "from dask.distributed import Client\n",
    "\n",
    "# Plotting utils\n",
    "import matplotlib.pyplot as plt"
   ]
  },
  {
   "cell_type": "code",
   "execution_count": null,
   "id": "ea6fbebd-9d73-47c4-b54e-b3bbace234fb",
   "metadata": {},
   "outputs": [],
   "source": [
    "# Start a local Dask cluster using all available cores\n",
    "client = Client()"
   ]
  },
  {
   "cell_type": "markdown",
   "id": "81bff86d-21fe-41a6-a998-76cb6a57606f",
   "metadata": {},
   "source": [
    "## 1. Settings"
   ]
  },
  {
   "cell_type": "markdown",
   "id": "ba69c65d-fe0e-435f-b448-7ad69233f97a",
   "metadata": {},
   "source": [
    "### 1.1 Parameters modifiable in config.yml"
   ]
  },
  {
   "cell_type": "code",
   "execution_count": null,
   "id": "7f8f2d17-c653-4ad1-9dc3-c49bf836ceb6",
   "metadata": {
    "editable": true,
    "slideshow": {
     "slide_type": ""
    },
    "tags": [
     "parameters",
     "hide-cell"
    ]
   },
   "outputs": [],
   "source": [
    "# Where land output is stored\n",
    "cesm_output_dir = os.path.join(\n",
    "    os.path.sep,\n",
    "    \"glade\",\n",
    "    \"work\",\n",
    "    \"samrabin\",\n",
    ")\n",
    "\n",
    "# Full casenames that are present in CESM_output_dir and in individual filenames\n",
    "# caseNames = [\n",
    "#             'b.e23_alpha16b.BLT1850.ne30_t232.054',\n",
    "# 'b.e30_beta02.BLT1850.ne30_t232.104',\n",
    "#             ]\n",
    "case_name_list = None\n",
    "case_name = \"ctsm53019_f09_BNF_hist\"\n",
    "\n",
    "clm_file_h = \".h5.\"\n",
    "\n",
    "cfts_to_include = [\n",
    "    \"temperate_corn\",\n",
    "    \"tropical_corn\",\n",
    "    \"cotton\",\n",
    "    \"rice\",\n",
    "    \"temperate_soybean\",\n",
    "    \"tropical_soybean\",\n",
    "    \"sugarcane\",\n",
    "    \"spring_wheat\",\n",
    "    \"irrigated_temperate_corn\",\n",
    "    \"irrigated_tropical_corn\",\n",
    "    \"irrigated_cotton\",\n",
    "    \"irrigated_rice\",\n",
    "    \"irrigated_temperate_soybean\",\n",
    "    \"irrigated_tropical_soybean\",\n",
    "    \"irrigated_sugarcane\",\n",
    "    \"irrigated_spring_wheat\",\n",
    "]\n",
    "\n",
    "# NOT USED YET\n",
    "crops_to_include = [\n",
    "    \"corn\",\n",
    "    \"cotton\",\n",
    "    \"rice\",\n",
    "    \"soybean\",\n",
    "    \"sugarcane\",\n",
    "    \"wheat\",\n",
    "]"
   ]
  },
  {
   "cell_type": "markdown",
   "id": "ecb4028f-3211-4454-956e-7b35be7f239b",
   "metadata": {},
   "source": [
    "### 1.2 Hard-coded settings"
   ]
  },
  {
   "cell_type": "code",
   "execution_count": null,
   "id": "0014712f-d094-4dae-b583-740bf7a9789c",
   "metadata": {
    "editable": true,
    "slideshow": {
     "slide_type": ""
    },
    "tags": [
     "hide-cell"
    ]
   },
   "outputs": [],
   "source": [
    "# Set up directory for any scratch output\n",
    "if \"SCRATCH\" in os.environ:\n",
    "    cupid_temp = os.path.join(os.environ[\"SCRATCH\"], \"CUPiD_scratch\")\n",
    "    os.makedirs(cupid_temp, exist_ok=True)\n",
    "else:\n",
    "    cupid_temp = \".\"\n",
    "\n",
    "N_PFTS = 78"
   ]
  },
  {
   "cell_type": "markdown",
   "id": "11dce402-12e2-4c14-b986-4dca2acebf44",
   "metadata": {},
   "source": [
    "### 1.3 Process settings"
   ]
  },
  {
   "cell_type": "code",
   "execution_count": null,
   "id": "3ec98835-b0c1-4e8d-93cd-a2944b64022e",
   "metadata": {},
   "outputs": [],
   "source": [
    "if (case_name_list and case_name) or (not case_name_list and not case_name):\n",
    "    raise RuntimeError(\"Specify one of caseNames or case_name\")\n",
    "if not case_name_list:\n",
    "    case_name_list = [\n",
    "        case_name,\n",
    "    ]\n",
    "\n",
    "short_names = [case.split(\".\")[-1] for case in case_name_list]"
   ]
  },
  {
   "cell_type": "markdown",
   "id": "d9f59509-0094-466e-bded-0929077936e4",
   "metadata": {},
   "source": [
    "## 2. Import case data"
   ]
  },
  {
   "cell_type": "markdown",
   "id": "4be5f640-06c4-4904-8813-b749263e1d8c",
   "metadata": {},
   "source": [
    "### 2.1 Set up classes etc."
   ]
  },
  {
   "cell_type": "code",
   "execution_count": null,
   "id": "42654bef-46e3-4c55-82c4-467c6d05ab55",
   "metadata": {},
   "outputs": [],
   "source": [
    "def get_cft_ds(ds, cft):\n",
    "    ds = ds.isel(pft=cft.where)\n",
    "    ds[\"cft\"] = cft.pft_num\n",
    "    ds[\"cft_name\"] = cft.name\n",
    "    ds = ds.set_coords(\"cft\")\n",
    "    return ds\n",
    "\n",
    "\n",
    "class Case:\n",
    "    def __init__(\n",
    "        self, name, cesm_output_dir, clm_file_h, cfts_to_include, crops_to_include\n",
    "    ):\n",
    "        # Get list of necessary time series files\n",
    "        file_pattern = os.path.join(\n",
    "            cesm_output_dir,\n",
    "            name,\n",
    "            \"lnd\",\n",
    "            \"hist\",\n",
    "            name + \".clm2\" + clm_file_h + \"*.nc\",\n",
    "        )\n",
    "        self.file_list = np.sort(glob.glob(file_pattern))\n",
    "        if len(self.file_list) == 0:\n",
    "            raise FileNotFoundError(\"No files found matching pattern: \" + file_pattern)\n",
    "\n",
    "        # Read files\n",
    "        ds = xr.open_mfdataset(self.file_list, decode_times=True, chunks={})\n",
    "\n",
    "        # Get CFT info\n",
    "        self.cft_list = CftList(ds, N_PFTS, cfts_to_include)\n",
    "\n",
    "        # Get crop list\n",
    "        self.crop_list = CropList(crops_to_include, self.cft_list, ds)\n",
    "\n",
    "        # Save CFT dataset\n",
    "        for i, cft in enumerate(self.cft_list):\n",
    "            this_cft_ds = get_cft_ds(ds, cft)\n",
    "            if i == 0:\n",
    "                self.cft_ds = this_cft_ds.copy()\n",
    "                n_expected = self.cft_ds.sizes[\"pft\"]\n",
    "            else:\n",
    "                # Check # of gridcells with this PFT\n",
    "                n_this = this_cft_ds.sizes[\"pft\"]\n",
    "                if n_this != n_expected:\n",
    "                    raise RuntimeError(\n",
    "                        f\"Expected {n_expected} gridcells with {cft.name}; found {n_this}\"\n",
    "                    )\n",
    "                self.cft_ds = xr.concat([self.cft_ds, this_cft_ds], dim=\"cft\")"
   ]
  },
  {
   "cell_type": "code",
   "execution_count": null,
   "id": "97335a15-84d3-407d-9f50-80c2dabfa94d",
   "metadata": {
    "editable": true,
    "slideshow": {
     "slide_type": ""
    },
    "tags": [
     "hide-cell"
    ]
   },
   "outputs": [],
   "source": [
    "class Cft:\n",
    "    def __init__(self, name, cft_num):\n",
    "        self.name = name\n",
    "\n",
    "        # 1-indexed in the FORTRAN style\n",
    "        self.cft_num = cft_num\n",
    "        self.pft_num = None  # Need to know max cft_num\n",
    "\n",
    "        # 0-indexed in the Python style\n",
    "        self.pft_ind = None  # Need to know pft_num\n",
    "        self.where = None\n",
    "\n",
    "    def __str__(self):\n",
    "        return \"\\n\".join(\n",
    "            [\n",
    "                self.name + \":\",\n",
    "                f\"   cft_num: {self.cft_num}\",\n",
    "                f\"   pft_num: {self.pft_num}\",\n",
    "                f\"   pft_ind: {self.pft_ind}\",\n",
    "                f\"   N cells: {len(self.where)}\",\n",
    "            ]\n",
    "        )\n",
    "\n",
    "    def update_pft(self, n_non_crop_pfts):\n",
    "        \"\"\"\n",
    "        You don't know n_non_crop_pfts until after reading in all CFTs, so\n",
    "        this function gets called once that's done in CftList.__init__().\n",
    "        \"\"\"\n",
    "        self.pft_num = n_non_crop_pfts + self.cft_num - 1\n",
    "        self.pft_ind = self.pft_num - 1\n",
    "\n",
    "    def get_where(self, ds):\n",
    "        \"\"\"\n",
    "        Get the indices on the pft dimension corresponding to this CFT\n",
    "        \"\"\"\n",
    "        if self.pft_num is None:\n",
    "            raise RuntimeError(\n",
    "                \"get_where() can't be run until after calling Crop.update_pft()\"\n",
    "            )\n",
    "        pfts1d_itype_veg = ds[\"pfts1d_itype_veg\"]\n",
    "        if \"time\" in pfts1d_itype_veg.dims:\n",
    "            pfts1d_itype_veg = pfts1d_itype_veg.isel(time=0)\n",
    "        self.where = np.where(pfts1d_itype_veg.values == self.pft_num)[0].astype(int)\n",
    "        return self.where\n",
    "\n",
    "\n",
    "class CftList:\n",
    "    def __init__(self, ds, n_pfts, cfts_to_include):\n",
    "        # Get list of all possible CFTs\n",
    "        self.cft_list = []\n",
    "        for i, (key, value) in enumerate(ds.attrs.items()):\n",
    "            if not key.startswith(\"cft_\"):\n",
    "                continue\n",
    "            cft_name = key[4:]\n",
    "            self.cft_list.append(Cft(cft_name, value))\n",
    "\n",
    "        # Figure out PFT indices\n",
    "        max_cft_num = max([x.cft_num for x in self.cft_list])\n",
    "        n_non_crop_pfts = n_pfts - max_cft_num + 1  # Incl. unvegetated\n",
    "        for cft in self.cft_list:\n",
    "            cft = cft.update_pft(n_non_crop_pfts)\n",
    "\n",
    "        # Only include CFTs we care about\n",
    "        self.cft_list = [x for x in self.cft_list if x.name in cfts_to_include]\n",
    "\n",
    "        # Figure out where the pft index is each CFT\n",
    "        for cft in self.cft_list:\n",
    "            cft.get_where(ds)\n",
    "            if len(cft.where) == 0:\n",
    "                print(\"Warning: No occurrences found of \" + cft.name)\n",
    "\n",
    "    def __getitem__(self, index):\n",
    "        return self.cft_list[index]\n",
    "\n",
    "    def __str__(self):\n",
    "        results = []\n",
    "        for cft in self.cft_list:\n",
    "            results.append(str(cft))\n",
    "        return \"\\n\".join(results)"
   ]
  },
  {
   "cell_type": "code",
   "execution_count": null,
   "id": "f1a65203-0dd9-4077-b70d-b2ee90a9501e",
   "metadata": {},
   "outputs": [],
   "source": [
    "class Crop:\n",
    "    def __init__(self, name, cft_list, ds):\n",
    "        self.name = name\n",
    "\n",
    "        # Get CFTs included in this crop\n",
    "        self.cft_list = []\n",
    "        for cft in cft_list:\n",
    "            if self.name not in cft.name:\n",
    "                continue\n",
    "            self.cft_list.append(cft)\n",
    "\n",
    "        # Get information for all CFTs in this crop\n",
    "        self.cft_names = []\n",
    "        self.pft_nums = []\n",
    "        self.pft_inds = []\n",
    "        self.where = np.array([], dtype=np.int64)\n",
    "        for cft in self.cft_list:\n",
    "            self.cft_names.append(cft.name)\n",
    "            self.pft_nums.append(cft.pft_num)\n",
    "            self.pft_inds.append(cft.pft_ind)\n",
    "            self.where = np.append(self.where, cft.get_where(ds))\n",
    "        self.where = np.sort(self.where)\n",
    "\n",
    "        # Placeholders\n",
    "        self.ds = None\n",
    "\n",
    "    def __str__(self):\n",
    "        return f\"{self.name}: {', '.join(f'{x.name} ({x.pft_num})' for x in self.cft_list)}\"\n",
    "\n",
    "\n",
    "class CropList:\n",
    "    def __init__(self, crops_to_include, cft_list, ds):\n",
    "        self.crop_list = [Crop(x, cft_list, ds) for x in crops_to_include]\n",
    "\n",
    "    def __getitem__(self, index):\n",
    "        if isinstance(index, str):\n",
    "            found = False\n",
    "            for i, crop in enumerate(self.crop_list):\n",
    "                found = crop.name == index\n",
    "                if found:\n",
    "                    break\n",
    "            if not found:\n",
    "                raise KeyError(f\"No crop found matching '{index}'\")\n",
    "            return self.crop_list[i]\n",
    "        return self.crop_list[index]\n",
    "\n",
    "    def __str__(self):\n",
    "        results = []\n",
    "        for crop in self.crop_list:\n",
    "            results.append(str(crop))\n",
    "        return \"\\n\".join(results)"
   ]
  },
  {
   "cell_type": "markdown",
   "id": "ff581f2e-8178-4ce5-8e04-cc33390d71f8",
   "metadata": {},
   "source": [
    "### 2.2 Import cases"
   ]
  },
  {
   "cell_type": "code",
   "execution_count": null,
   "id": "3c35ae8d-dfff-44b0-a854-dfc2b5b030c0",
   "metadata": {
    "editable": true,
    "slideshow": {
     "slide_type": ""
    },
    "tags": [
     "hide-cell"
    ]
   },
   "outputs": [],
   "source": [
    "case_list = []\n",
    "for i, case in enumerate(case_name_list):\n",
    "    print(f\"Importing {case}...\")\n",
    "    case_list.append(\n",
    "        Case(case, cesm_output_dir, clm_file_h, cfts_to_include, crops_to_include)\n",
    "    )\n",
    "\n",
    "print(\"Done.\")"
   ]
  },
  {
   "cell_type": "markdown",
   "id": "ba958fb9-fbea-4211-83fb-eda9ae46a578",
   "metadata": {
    "editable": true,
    "slideshow": {
     "slide_type": ""
    },
    "tags": []
   },
   "source": [
    "## 3. Time series plots"
   ]
  },
  {
   "cell_type": "code",
   "execution_count": null,
   "id": "39ed96fb-60f2-40e9-b089-700dc0beb984",
   "metadata": {
    "editable": true,
    "slideshow": {
     "slide_type": ""
    },
    "tags": []
   },
   "outputs": [],
   "source": [
    "# ↓ Incorrectly assumes that all gridcells have the same area\n",
    "gridcell_area = (\n",
    "    case_list[0].cft_ds[\"area\"].isel(time=0).mean() * 1e6\n",
    ")  # *1e6 to convert km2 to m2\n",
    "\n",
    "for crop in crops_to_include:\n",
    "    for case in case_list:\n",
    "        ds = case.cft_ds.sel(cft=case.crop_list[crop].pft_nums)\n",
    "\n",
    "        cft_area = gridcell_area * ds[\"pfts1d_wtgcell\"]\n",
    "        cft_prod = ds[\"GRAINC_TO_FOOD_ANN\"] * cft_area\n",
    "        crop_prod_ts = cft_prod.sum(dim=[\"cft\", \"pft\"])\n",
    "        crop_area_ts = cft_area.sum(dim=[\"cft\", \"pft\"])\n",
    "        crop_yield_ts = crop_prod_ts / crop_area_ts\n",
    "\n",
    "        # Plot data\n",
    "        crop_yield_ts *= 1e-6 * 1e4  # Convert gC/m2 to tC/ha\n",
    "        crop_yield_ts.attrs[\"units\"] = \"tC / ha\"\n",
    "        crop_yield_ts.plot()\n",
    "\n",
    "    # Finish plot\n",
    "    plt.title(crop)\n",
    "    plt.show()"
   ]
  }
 ],
 "metadata": {
  "kernelspec": {
   "display_name": "Python [conda env:cupid-analysis]",
   "language": "python",
   "name": "conda-env-cupid-analysis-py"
  },
  "language_info": {
   "codemirror_mode": {
    "name": "ipython",
    "version": 3
   },
   "file_extension": ".py",
   "mimetype": "text/x-python",
   "name": "python",
   "nbconvert_exporter": "python",
   "pygments_lexer": "ipython3",
   "version": "3.11.4"
  }
 },
 "nbformat": 4,
 "nbformat_minor": 5
}
