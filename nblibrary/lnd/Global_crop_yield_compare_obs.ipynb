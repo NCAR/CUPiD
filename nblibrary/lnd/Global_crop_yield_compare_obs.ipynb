{
 "cells": [
  {
   "cell_type": "markdown",
   "id": "00bde298-3456-40dd-8011-c61df95f5f77",
   "metadata": {},
   "source": [
    "# Compare crop yields to observations\n",
    "\n",
    "- Uses raw annual CTSM outputs (NOT timeseries files).\n",
    "\n",
    "Notebook created by Sam Rabin (samrabin@ucar.edu)."
   ]
  },
  {
   "cell_type": "code",
   "execution_count": null,
   "id": "750da831-1c5c-4b41-947e-a9e57a62a820",
   "metadata": {
    "editable": true,
    "slideshow": {
     "slide_type": ""
    },
    "tags": [
     "hide-cell"
    ]
   },
   "outputs": [],
   "source": [
    "import sys\n",
    "import os\n",
    "import glob\n",
    "import numpy as np\n",
    "import xarray as xr\n",
    "import pandas as pd\n",
    "from time import time\n",
    "from dask.distributed import Client, wait\n",
    "import convert_pft1d_to_sparse\n",
    "import importlib\n",
    "import earthstat\n",
    "import caselist\n",
    "\n",
    "# Plotting utils\n",
    "import matplotlib.pyplot as plt\n",
    "import clm_and_earthstat_maps as caem\n",
    "\n",
    "# Start a local Dask cluster using all available cores\n",
    "client = Client()\n",
    "client"
   ]
  },
  {
   "cell_type": "markdown",
   "id": "81bff86d-21fe-41a6-a998-76cb6a57606f",
   "metadata": {
    "editable": true,
    "slideshow": {
     "slide_type": ""
    },
    "tags": []
   },
   "source": [
    "## 1. Settings"
   ]
  },
  {
   "cell_type": "markdown",
   "id": "ba69c65d-fe0e-435f-b448-7ad69233f97a",
   "metadata": {},
   "source": [
    "### 1.1 Parameters modifiable in config.yml"
   ]
  },
  {
   "cell_type": "code",
   "execution_count": null,
   "id": "7f8f2d17-c653-4ad1-9dc3-c49bf836ceb6",
   "metadata": {
    "editable": true,
    "slideshow": {
     "slide_type": ""
    },
    "tags": [
     "parameters",
     "hide-cell"
    ]
   },
   "outputs": [],
   "source": [
    "# Path to CUPiD externals. This method is supposedly unreliable, so it's best for this to be\n",
    "# overridden by a value given in config.yml. See examples/crops/config.yml.\n",
    "externals_path = os.path.join(os.getcwd(), os.pardir, os.pardir, \"externals\")\n",
    "\n",
    "# Where land output is stored\n",
    "CESM_output_dir = os.path.join(\n",
    "    os.path.sep,\n",
    "    \"glade\",\n",
    "    \"work\",\n",
    "    \"samrabin\",\n",
    "    \"clm6_crop_reparam_outputs\",\n",
    ")\n",
    "\n",
    "# Full casenames that are present in CESM_output_dir and in individual filenames\n",
    "case_name_list = [\n",
    "    \"ctsm53019_f09_BNF_hist\",\n",
    "    \"clm6_crop_032\",\n",
    "    \"clm6_crop_032_nomaxlaitrig\",\n",
    "    \"clm6_crop_032_nmlt_phaseparams\",\n",
    "]\n",
    "\n",
    "# Names of cases to show in figure legends\n",
    "case_legend_list = [\n",
    "    \"A: ctsm5.3.019 (GSWP3)\",\n",
    "    \"B: ctsm5.3.032 (CRU-JRA)\",\n",
    "    \"C: As B + w/o max LAI triggering grainfill\",\n",
    "    \"D: As C + pre-CLM5 crop phase params\",\n",
    "]\n",
    "\n",
    "clm_file_h = \".h0.\"\n",
    "\n",
    "# The actual netCDF timesteps, not the names of the files\n",
    "start_year = 1961\n",
    "end_year = 1965\n",
    "\n",
    "cfts_to_include = [\n",
    "    \"temperate_corn\",\n",
    "    \"tropical_corn\",\n",
    "    \"cotton\",\n",
    "    \"rice\",\n",
    "    \"temperate_soybean\",\n",
    "    \"tropical_soybean\",\n",
    "    \"sugarcane\",\n",
    "    \"spring_wheat\",\n",
    "    \"irrigated_temperate_corn\",\n",
    "    \"irrigated_tropical_corn\",\n",
    "    \"irrigated_cotton\",\n",
    "    \"irrigated_rice\",\n",
    "    \"irrigated_temperate_soybean\",\n",
    "    \"irrigated_tropical_soybean\",\n",
    "    \"irrigated_sugarcane\",\n",
    "    \"irrigated_spring_wheat\",\n",
    "]\n",
    "\n",
    "crops_to_include = [\n",
    "    \"corn\",\n",
    "    \"cotton\",\n",
    "    \"rice\",\n",
    "    \"soybean\",\n",
    "    \"sugarcane\",\n",
    "    \"wheat\",\n",
    "]\n",
    "fao_to_clm_dict = {\n",
    "    \"Maize\": \"corn\",\n",
    "    \"Rice\": \"rice\",\n",
    "    \"Seed cotton, unginned\": \"cotton\",\n",
    "    \"Soya beans\": \"soybean\",\n",
    "    \"Sugar cane\": \"sugarcane\",\n",
    "    \"Wheat\": \"wheat\",\n",
    "}\n",
    "\n",
    "dev_mode = True\n",
    "verbose = True\n",
    "\n",
    "obs_data_dir = os.path.join(\n",
    "    os.sep + \"glade\",\n",
    "    \"campaign\",\n",
    "    \"cesm\",\n",
    "    \"development\",\n",
    "    \"cross-wg\",\n",
    "    \"diagnostic_framework\",\n",
    "    \"CUPiD_obs_data\",\n",
    ")"
   ]
  },
  {
   "cell_type": "markdown",
   "id": "ecb4028f-3211-4454-956e-7b35be7f239b",
   "metadata": {
    "editable": true,
    "slideshow": {
     "slide_type": ""
    },
    "tags": []
   },
   "source": [
    "### 1.2 Other settings"
   ]
  },
  {
   "cell_type": "code",
   "execution_count": null,
   "id": "0014712f-d094-4dae-b583-740bf7a9789c",
   "metadata": {
    "editable": true,
    "slideshow": {
     "slide_type": ""
    },
    "tags": [
     "hide-cell"
    ]
   },
   "outputs": [],
   "source": [
    "# Set up directory for any scratch output\n",
    "if \"SCRATCH\" in os.environ:\n",
    "    cupid_temp = os.path.join(os.environ[\"SCRATCH\"], \"CUPiD_scratch\")\n",
    "    os.makedirs(cupid_temp, exist_ok=True)\n",
    "else:\n",
    "    cupid_temp = \".\"\n",
    "\n",
    "N_PFTS = 78\n",
    "\n",
    "short_names = [case.split(\".\")[-1] for case in case_name_list]\n",
    "\n",
    "if start_year > end_year:\n",
    "    raise RuntimeError(f\"start_year ({start_year}) > end_year ({end_year})\")\n",
    "\n",
    "if case_legend_list:\n",
    "    if len(case_name_list) != len(case_legend_list):\n",
    "        raise RuntimeError(\"case_legend_list must be same length as case_name_list\")\n",
    "else:\n",
    "    case_legend_list = case_name_list"
   ]
  },
  {
   "cell_type": "code",
   "execution_count": null,
   "id": "cb666811-fd44-4698-b06c-dffcfff96a5c",
   "metadata": {
    "editable": true,
    "slideshow": {
     "slide_type": ""
    },
    "tags": [
     "hide-cell"
    ]
   },
   "outputs": [],
   "source": [
    "# Move options to dict for easier passing among functions\n",
    "opts = {}\n",
    "opts[\"CESM_output_dir\"] = CESM_output_dir\n",
    "del CESM_output_dir\n",
    "opts[\"case_name_list\"] = case_name_list\n",
    "del case_name_list\n",
    "opts[\"case_legend_list\"] = case_legend_list\n",
    "del case_legend_list\n",
    "opts[\"clm_file_h\"] = clm_file_h\n",
    "del clm_file_h\n",
    "opts[\"start_year\"] = start_year\n",
    "del start_year\n",
    "opts[\"end_year\"] = end_year\n",
    "del end_year\n",
    "opts[\"cfts_to_include\"] = cfts_to_include\n",
    "del cfts_to_include\n",
    "opts[\"crops_to_include\"] = crops_to_include\n",
    "del crops_to_include\n",
    "opts[\"fao_to_clm_dict\"] = fao_to_clm_dict\n",
    "del fao_to_clm_dict\n",
    "opts[\"dev_mode\"] = dev_mode\n",
    "del dev_mode\n",
    "opts[\"verbose\"] = verbose\n",
    "del verbose\n",
    "opts[\"obs_data_dir\"] = obs_data_dir\n",
    "del obs_data_dir"
   ]
  },
  {
   "cell_type": "markdown",
   "id": "6472e627",
   "metadata": {},
   "source": [
    "### 1.3 Import stuff from externals"
   ]
  },
  {
   "cell_type": "code",
   "execution_count": null,
   "id": "e3492cb4",
   "metadata": {},
   "outputs": [],
   "source": [
    "sys.path.append(externals_path)\n",
    "import ctsm_postprocessing.utils as utils\n",
    "from ctsm_postprocessing.crops import crop_secondary_variables as c2o\n",
    "from ctsm_postprocessing.crops import cropcase\n",
    "import ctsm_postprocessing.crops.faostat as faostat\n",
    "from ctsm_postprocessing.resolutions import identify_resolution"
   ]
  },
  {
   "cell_type": "markdown",
   "id": "d9f59509-0094-466e-bded-0929077936e4",
   "metadata": {
    "editable": true,
    "slideshow": {
     "slide_type": ""
    },
    "tags": []
   },
   "source": [
    "## 2. Import case data"
   ]
  },
  {
   "cell_type": "markdown",
   "id": "ff581f2e-8178-4ce5-8e04-cc33390d71f8",
   "metadata": {},
   "source": [
    "### 2.1 Import cases"
   ]
  },
  {
   "cell_type": "code",
   "execution_count": null,
   "id": "3c35ae8d-dfff-44b0-a854-dfc2b5b030c0",
   "metadata": {
    "editable": true,
    "slideshow": {
     "slide_type": ""
    },
    "tags": [
     "hide-cell"
    ]
   },
   "outputs": [],
   "source": [
    "importlib.reload(cropcase)\n",
    "importlib.reload(caselist)\n",
    "\n",
    "case_list = caselist.CaseList(\n",
    "    CropCase=cropcase.CropCase,\n",
    "    identify_resolution=identify_resolution,\n",
    "    opts=opts,\n",
    ")"
   ]
  },
  {
   "cell_type": "code",
   "execution_count": null,
   "id": "b593d30d-1ad0-420d-80a0-fa81014dc787",
   "metadata": {},
   "outputs": [],
   "source": [
    "# Calculate some extra variables\n",
    "# TODO: Move these calculations to CropCase\n",
    "for case in case_list:\n",
    "    case_ds = case.cft_ds\n",
    "    for i, crop in enumerate(opts[\"crops_to_include\"]):\n",
    "        cft_ds = case_ds.sel(cft=case.crop_list[crop].pft_nums)\n",
    "\n",
    "        # Get area\n",
    "        cft_area = cft_ds[\"pfts1d_gridcellarea\"] * cft_ds[\"pfts1d_wtgcell\"]\n",
    "        cft_area *= 1e6  # Convert km2 to m2\n",
    "        cft_area.attrs[\"units\"] = \"m2\"\n",
    "\n",
    "        # Get production\n",
    "        cft_prod = cft_ds[\"YIELD_ANN\"] * cft_area\n",
    "        cft_prod.attrs[\"units\"] = \"g\"\n",
    "\n",
    "        # Setup crop_cft_* variables or append to them\n",
    "        cft_area_expanded = cft_area.expand_dims(dim=\"crop\", axis=0)\n",
    "        cft_prod_expanded = cft_prod.expand_dims(dim=\"crop\", axis=0)\n",
    "        if i == 0:\n",
    "\n",
    "            # Add crop (names) variable/dimension to case_ds, if needed\n",
    "            if \"crop\" not in case_ds:\n",
    "                crop_da = xr.DataArray(\n",
    "                    data=opts[\"crops_to_include\"],\n",
    "                    dims=[\"crop\"],\n",
    "                )\n",
    "                case_ds[\"crop\"] = crop_da\n",
    "\n",
    "            # Define crop_cft_* variables\n",
    "            crop_cft_area_da = xr.DataArray(\n",
    "                data=cft_area_expanded,\n",
    "            )\n",
    "            crop_cft_prod_da = xr.DataArray(\n",
    "                data=cft_prod_expanded,\n",
    "            )\n",
    "        else:\n",
    "            # Append this crop's DataArrays to existing ones\n",
    "            crop_cft_area_da = xr.concat(\n",
    "                [crop_cft_area_da, cft_area_expanded],\n",
    "                dim=\"crop\",\n",
    "            )\n",
    "            crop_cft_prod_da = xr.concat(\n",
    "                [crop_cft_prod_da, cft_prod_expanded],\n",
    "                dim=\"crop\",\n",
    "            )\n",
    "\n",
    "    # Add crop_cft_* variables to case_ds\n",
    "    case_ds[\"crop_cft_area\"] = crop_cft_area_da\n",
    "    case_ds[\"crop_cft_prod\"] = crop_cft_prod_da\n",
    "\n",
    "    # Calculate yield\n",
    "    case_ds[\"crop_cft_yield\"] = crop_cft_prod_da / crop_cft_area_da\n",
    "    case_ds[\"crop_cft_yield\"].attrs[\"units\"] = (\n",
    "        crop_cft_prod_da.attrs[\"units\"] + \"/\" + crop_cft_area_da.attrs[\"units\"]\n",
    "    )"
   ]
  },
  {
   "cell_type": "markdown",
   "id": "5708d0f6-2fee-418d-882c-0202ea88e79c",
   "metadata": {},
   "source": [
    "### 2.3 Import FAOSTAT"
   ]
  },
  {
   "cell_type": "code",
   "execution_count": null,
   "id": "7d1d3bb4-4df1-48a2-881c-fc3feab42ed1",
   "metadata": {},
   "outputs": [],
   "source": [
    "fao_file = os.path.join(\n",
    "    opts[\"obs_data_dir\"],\n",
    "    \"lnd\",\n",
    "    \"analysis_datasets\",\n",
    "    \"ungridded\",\n",
    "    \"timeseries\",\n",
    "    \"FAOSTAT\",\n",
    "    \"Production_Crops_Livestock_2025-02-25\",\n",
    "    \"norm\",\n",
    "    \"Production_Crops_Livestock_E_All_Data_(Normalized).csv\",\n",
    ")\n",
    "\n",
    "fao = faostat.FaostatProductionCropsLivestock(\n",
    "    fao_file,\n",
    "    y1=opts[\"start_year\"],\n",
    "    yN=opts[\"end_year\"],\n",
    ")\n",
    "\n",
    "# TODO: Move all the following to FaostatProductionCropsLivestock class\n",
    "\n",
    "fao_prod = fao.get_element(\"Production\", fao_to_clm_dict=opts[\"fao_to_clm_dict\"])\n",
    "fao_area = fao.get_element(\"Area harvested\", fao_to_clm_dict=opts[\"fao_to_clm_dict\"])\n",
    "\n",
    "# Only include where both production and area data are present\n",
    "def drop_a_where_not_in_b(a, b):\n",
    "    return a.drop([i for i in a.index.difference(b.index)])\n",
    "\n",
    "\n",
    "fao_prod = drop_a_where_not_in_b(fao_prod, fao_area)\n",
    "fao_area = drop_a_where_not_in_b(fao_area, fao_prod)\n",
    "if not fao_prod.index.equals(fao_area.index):\n",
    "    raise RuntimeError(\"Mismatch of prod and area indices after trying to align them\")\n",
    "\n",
    "# Don't allow production where no area\n",
    "is_bad = (fao_prod[\"Value\"] > 0) & (fao_area[\"Value\"] == 0)\n",
    "where_bad = np.where(is_bad)[0]\n",
    "bad_prod = fao_prod.iloc[where_bad]\n",
    "bad_area = fao_area.iloc[where_bad]\n",
    "fao_prod = fao_prod[~is_bad]\n",
    "fao_area = fao_area[~is_bad]\n",
    "if not fao_prod.index.equals(fao_area.index):\n",
    "    raise RuntimeError(\n",
    "        \"Mismatch of prod and area indices after disallowing production where no area\"\n",
    "    )\n",
    "\n",
    "# Get yield\n",
    "fao_yield = fao_prod.copy()\n",
    "fao_yield[\"Element\"] = \"Yield\"\n",
    "fao_yield[\"Unit\"] = \"/\".join([fao_prod[\"Unit\"].iloc[0], fao_area[\"Unit\"].iloc[0]])\n",
    "fao_yield[\"Value\"] = fao_prod[\"Value\"] / fao_area[\"Value\"]"
   ]
  },
  {
   "cell_type": "markdown",
   "id": "1f381900-3375-49bb-b4bc-15e9bddd6fff",
   "metadata": {},
   "source": [
    "### 2.3 Import EarthStat (basically gridded FAOSTAT)"
   ]
  },
  {
   "cell_type": "code",
   "execution_count": null,
   "id": "d0bfaf96-f416-442e-b879-53b98e88adc1",
   "metadata": {},
   "outputs": [],
   "source": [
    "importlib.reload(earthstat)\n",
    "\n",
    "earthstat_dir = os.path.join(\n",
    "    opts[\"obs_data_dir\"],\n",
    "    \"lnd\",\n",
    "    \"analysis_datasets\",\n",
    "    \"multi_grid\",\n",
    "    \"annual\",\n",
    "    \"FAO-EarthStatYields\",\n",
    ")\n",
    "\n",
    "earthstat_data = earthstat.EarthStat(earthstat_dir, case_list.resolutions, opts)"
   ]
  },
  {
   "cell_type": "markdown",
   "id": "ba958fb9-fbea-4211-83fb-eda9ae46a578",
   "metadata": {
    "editable": true,
    "slideshow": {
     "slide_type": ""
    },
    "tags": []
   },
   "source": [
    "## 3. Yield time series"
   ]
  },
  {
   "cell_type": "code",
   "execution_count": null,
   "id": "39ed96fb-60f2-40e9-b089-700dc0beb984",
   "metadata": {
    "editable": true,
    "slideshow": {
     "slide_type": ""
    },
    "tags": [
     "hide-input"
    ]
   },
   "outputs": [],
   "source": [
    "# TODO: Move this to its own module. Waiting for resolution of TODO in \"Import\n",
    "# FAOSTAT\" cell so I don't have to pass so much stuff.\n",
    "\n",
    "if opts[\"verbose\"]:\n",
    "    start = time()\n",
    "\n",
    "# Get figure layout info\n",
    "n_crops_to_include = len(opts[\"crops_to_include\"])\n",
    "if 5 <= n_crops_to_include <= 6:\n",
    "    nrows = 2\n",
    "    ncols = 3\n",
    "    height = 10.5\n",
    "    width = 15\n",
    "    hspace = 0.25\n",
    "    wspace = 0.35\n",
    "else:\n",
    "    raise RuntimeError(f\"Specify figure layout for Ncrops=={n_crops_to_include}\")\n",
    "fig, axes = plt.subplots(nrows=nrows, ncols=ncols, figsize=(width, height))\n",
    "\n",
    "fao_yield_world = fao_yield.query(\"Area == 'World'\")\n",
    "\n",
    "earthstat_res_to_plot = \"f09\"\n",
    "earthstat_ds_to_plot = earthstat_data[earthstat_res_to_plot]\n",
    "\n",
    "for i, crop in enumerate(opts[\"crops_to_include\"]):\n",
    "    ax = axes.ravel()[i]\n",
    "    plt.sca(ax)\n",
    "\n",
    "    # Plot case data\n",
    "    for c, case in enumerate(case_list):\n",
    "\n",
    "        # Do NOT use crop_cft_yield here, because you need to sum across cft and pft before doing the division\n",
    "        crop_prod_ts = (\n",
    "            case.cft_ds[\"crop_cft_prod\"].sel(crop=crop).sum(dim=[\"cft\", \"pft\"])\n",
    "        )\n",
    "        crop_area_ts = (\n",
    "            case.cft_ds[\"crop_cft_area\"].sel(crop=crop).sum(dim=[\"cft\", \"pft\"])\n",
    "        )\n",
    "        crop_yield_ts = crop_prod_ts / crop_area_ts\n",
    "\n",
    "        # Plot data\n",
    "        # TODO: Increase robustness of unit conversion: Check that it really is\n",
    "        # g/m2 to start with.\n",
    "        crop_yield_ts *= 1e-6 * 1e4  # Convert g/m2 to tons/ha\n",
    "        crop_yield_ts.name = \"Yield\"\n",
    "        ctsm_units = \"t/ha\"\n",
    "        crop_yield_ts.attrs[\"units\"] = ctsm_units\n",
    "\n",
    "        # Change line style for one line that overlaps another for some crops\n",
    "        # TODO: Optionally define linestyle for each case in config.yml\n",
    "        if \"clm6_crop_032_nomaxlaitrig\" in opts[\"case_name_list\"] and opts[\n",
    "            \"case_name_list\"\n",
    "        ][c].endswith(\"clm6_crop_032_nmlt_phaseparams\"):\n",
    "            linestyle = \"--\"\n",
    "        else:\n",
    "            linestyle = \"-\"\n",
    "\n",
    "        # Plot\n",
    "        crop_yield_ts.plot(linestyle=linestyle)\n",
    "\n",
    "    # Plot FAOSTAT data\n",
    "    faostat_units = fao_yield_world[\"Unit\"].iloc[0]\n",
    "    if faostat_units != ctsm_units:\n",
    "        raise RuntimeError(\n",
    "            f\"CTSM units ({ctsm_units}) do not match FAOSTAT units ({faostat_units})\"\n",
    "        )\n",
    "    fao_yield_world_thiscrop = fao_yield_world.query(f\"Crop == '{crop}'\")\n",
    "    ax.plot(\n",
    "        crop_yield_ts.time,\n",
    "        fao_yield_world_thiscrop[\"Value\"].values,\n",
    "        \"-k\",\n",
    "    )\n",
    "\n",
    "    # Plot EarthStat data\n",
    "    earthstat_crop_idx = None\n",
    "    try:\n",
    "        earthstat_crop_idx = earthstat_data.crops.index(crop)\n",
    "    except ValueError:\n",
    "        print(f\"{crop} not in EarthStat res {earthstat_res_to_plot}; skipping\")\n",
    "    if earthstat_crop_idx is not None:\n",
    "        earthstat_crop_ds = earthstat_ds_to_plot.isel(crop=earthstat_crop_idx)\n",
    "        earthstat_area_da_tyx = earthstat_crop_ds[\"HarvestArea\"]\n",
    "        earthstat_prod_da_tyx = earthstat_crop_ds[\"Production\"]\n",
    "        earthstat_prod_da_t = earthstat_prod_da_tyx.sum(dim=[\"lat\", \"lon\"])\n",
    "        earthstat_area_da_t = earthstat_area_da_tyx.sum(dim=[\"lat\", \"lon\"])\n",
    "        earthstat_yield_da_t = earthstat_prod_da_t / earthstat_area_da_t\n",
    "        ax.plot(\n",
    "            earthstat_yield_da_t[\"time\"],\n",
    "            earthstat_yield_da_t.values,\n",
    "            \"0.5\",  # gray\n",
    "        )\n",
    "\n",
    "    # Finish plot\n",
    "    ax.set_title(crop)\n",
    "    plt.xlabel(\"\")\n",
    "\n",
    "plt.subplots_adjust(wspace=wspace, hspace=hspace)\n",
    "fig.legend(\n",
    "    labels=opts[\"case_legend_list\"] + [\"FAOSTAT\", f\"EarthStat {earthstat_res_to_plot}\"],\n",
    "    loc=\"upper center\",\n",
    "    bbox_to_anchor=(0.5, 0.96),\n",
    "    ncol=3,\n",
    "    bbox_transform=fig.transFigure,\n",
    ")\n",
    "fig.suptitle(\"Global yield\", fontsize=\"x-large\", fontweight=\"bold\")\n",
    "plt.show()\n",
    "\n",
    "if opts[\"verbose\"]:\n",
    "    end = time()\n",
    "    print(f\"Time series plots took {int(end - start)} s\")"
   ]
  },
  {
   "cell_type": "markdown",
   "id": "07fbf7af-d3bd-4fe0-9c69-d63394da0d6b",
   "metadata": {
    "editable": true,
    "slideshow": {
     "slide_type": ""
    },
    "tags": []
   },
   "source": [
    "## 4. Yield maps"
   ]
  },
  {
   "cell_type": "code",
   "execution_count": null,
   "id": "eb1f68c2-d066-4092-927e-d7f801bad525",
   "metadata": {},
   "outputs": [],
   "source": [
    "importlib.reload(caem)\n",
    "\n",
    "caem.clm_and_earthstat_maps(\n",
    "    which=\"yield\",\n",
    "    case_list=case_list,\n",
    "    earthstat_data=earthstat_data,\n",
    "    utils=utils,\n",
    "    opts=opts,\n",
    ")"
   ]
  },
  {
   "cell_type": "code",
   "execution_count": null,
   "id": "8fb35103-f975-445b-8dde-760fc5f5de95",
   "metadata": {},
   "outputs": [],
   "source": [
    "importlib.reload(caem)\n",
    "\n",
    "caem.clm_and_earthstat_maps(\n",
    "    which=\"prod\",\n",
    "    case_list=case_list,\n",
    "    earthstat_data=earthstat_data,\n",
    "    utils=utils,\n",
    "    opts=opts,\n",
    ")"
   ]
  },
  {
   "cell_type": "code",
   "execution_count": null,
   "id": "8926ec4b-201a-43e0-ae01-969d9d680b7a",
   "metadata": {},
   "outputs": [],
   "source": [
    "importlib.reload(caem)\n",
    "\n",
    "caem.clm_and_earthstat_maps(\n",
    "    which=\"area\",\n",
    "    case_list=case_list,\n",
    "    earthstat_data=earthstat_data,\n",
    "    utils=utils,\n",
    "    opts=opts,\n",
    ")"
   ]
  }
 ],
 "metadata": {
  "kernelspec": {
   "display_name": "Python [conda env:cupid-analysis]",
   "language": "python",
   "name": "conda-env-cupid-analysis-py"
  },
  "language_info": {
   "codemirror_mode": {
    "name": "ipython",
    "version": 3
   },
   "file_extension": ".py",
   "mimetype": "text/x-python",
   "name": "python",
   "nbconvert_exporter": "python",
   "pygments_lexer": "ipython3",
   "version": "3.11.4"
  }
 },
 "nbformat": 4,
 "nbformat_minor": 5
}
