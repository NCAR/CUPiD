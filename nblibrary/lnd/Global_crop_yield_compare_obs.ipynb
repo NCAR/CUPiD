{
 "cells": [
  {
   "cell_type": "code",
   "execution_count": null,
   "id": "750da831-1c5c-4b41-947e-a9e57a62a820",
   "metadata": {
    "editable": true,
    "slideshow": {
     "slide_type": ""
    },
    "tags": [
     "hide-cell"
    ]
   },
   "outputs": [],
   "source": [
    "import os\n",
    "import glob\n",
    "import numpy as np\n",
    "import xarray as xr\n",
    "\n",
    "# Plotting utils\n",
    "import matplotlib.pyplot as plt"
   ]
  },
  {
   "cell_type": "code",
   "execution_count": null,
   "id": "7f8f2d17-c653-4ad1-9dc3-c49bf836ceb6",
   "metadata": {
    "editable": true,
    "slideshow": {
     "slide_type": ""
    },
    "tags": [
     "parameters",
     "hide-cell"
    ]
   },
   "outputs": [],
   "source": [
    "# Where land output is stored\n",
    "cesm_output_dir = os.path.join(\n",
    "    os.path.sep,\n",
    "    \"glade\",\n",
    "    \"work\",\n",
    "    \"samrabin\",\n",
    ")\n",
    "\n",
    "# Full casenames that are present in CESM_output_dir and in individual filenames\n",
    "# caseNames = [\n",
    "#             'b.e23_alpha16b.BLT1850.ne30_t232.054',\n",
    "# 'b.e30_beta02.BLT1850.ne30_t232.104',\n",
    "#             ]\n",
    "case_name_list = None\n",
    "case_name = \"ctsm53019_f09_BNF_hist\"\n",
    "\n",
    "clm_file_h = \".h5.\"\n",
    "\n",
    "cfts_to_include = [\n",
    "    \"spring_wheat\",\n",
    "    \"irrigated_spring_wheat\",\n",
    "]\n",
    "\n",
    "## NOT WORKING YET\n",
    "crops_to_include = [\n",
    "    # \"corn\",\n",
    "    \"cotton\",\n",
    "    \"rice\",\n",
    "    # \"soybean\",\n",
    "    # \"sugarcane\",\n",
    "    # \"wheat\",\n",
    "]"
   ]
  },
  {
   "cell_type": "code",
   "execution_count": null,
   "id": "0014712f-d094-4dae-b583-740bf7a9789c",
   "metadata": {
    "editable": true,
    "slideshow": {
     "slide_type": ""
    },
    "tags": [
     "hide-cell"
    ]
   },
   "outputs": [],
   "source": [
    "# Set up directory for any scratch output\n",
    "if \"SCRATCH\" in os.environ:\n",
    "    cupid_temp = os.path.join(os.environ[\"SCRATCH\"], \"CUPiD_scratch\")\n",
    "    os.makedirs(cupid_temp, exist_ok=True)\n",
    "else:\n",
    "    cupid_temp = \".\"\n",
    "\n",
    "if (case_name_list and case_name) or (not case_name_list and not case_name):\n",
    "    raise RuntimeError(\"Specify one of caseNames or case_name\")\n",
    "if not case_name_list:\n",
    "    case_name_list = [\n",
    "        case_name,\n",
    "    ]\n",
    "\n",
    "short_names = [case.split(\".\")[-1] for case in case_name_list]\n",
    "\n",
    "n_pfts = 78"
   ]
  },
  {
   "cell_type": "code",
   "execution_count": null,
   "id": "3c35ae8d-dfff-44b0-a854-dfc2b5b030c0",
   "metadata": {
    "editable": true,
    "slideshow": {
     "slide_type": ""
    },
    "tags": [
     "hide-cell"
    ]
   },
   "outputs": [],
   "source": [
    "ds_list = []\n",
    "for i, case in enumerate(case_name_list):\n",
    "    print(f\"Importing {case}...\")\n",
    "\n",
    "    # Get list of necessary time series files\n",
    "    file_pattern = os.path.join(\n",
    "        cesm_output_dir,\n",
    "        case,\n",
    "        \"lnd\",\n",
    "        \"hist\",\n",
    "        case + \".clm2\" + clm_file_h + \"*.nc\",\n",
    "    )\n",
    "    file_list = np.sort(glob.glob(file_pattern))\n",
    "    if len(file_list) == 0:\n",
    "        raise FileNotFoundError(\"No files found matching pattern: \" + file_pattern)\n",
    "\n",
    "    # Open files\n",
    "    ds_list.append(xr.open_mfdataset(file_list, decode_times=True))\n",
    "print(\"Done.\")"
   ]
  },
  {
   "cell_type": "markdown",
   "id": "b60a0261-95be-4b21-9307-47dcc5678d0c",
   "metadata": {},
   "source": [
    "### Get CFT info"
   ]
  },
  {
   "cell_type": "code",
   "execution_count": null,
   "id": "97335a15-84d3-407d-9f50-80c2dabfa94d",
   "metadata": {
    "editable": true,
    "slideshow": {
     "slide_type": ""
    },
    "tags": [
     "hide-cell"
    ]
   },
   "outputs": [],
   "source": [
    "class Cft:\n",
    "    def __init__(self, name, cft_num):\n",
    "        self.name = name\n",
    "\n",
    "        # 1-indexed in the FORTRAN style\n",
    "        self.cft_num = cft_num\n",
    "        self.pft_num = None  # Need to know max cft_num\n",
    "\n",
    "        # 0-indexed in the Python style\n",
    "        self.pft_ind = None  # Need to know pft_num\n",
    "        self.where = None\n",
    "\n",
    "    def __str__(self):\n",
    "        return \"\\n\".join(\n",
    "            [\n",
    "                self.name + \":\",\n",
    "                f\"   cft_num: {self.cft_num}\",\n",
    "                f\"   pft_num: {self.pft_num}\",\n",
    "                f\"   pft_ind: {self.pft_ind}\",\n",
    "            ]\n",
    "        )\n",
    "\n",
    "    def update_pft(self, n_non_crop_pfts):\n",
    "        \"\"\"\n",
    "        You don't know n_non_crop_pfts until after reading in all CFTs, so\n",
    "        this function gets called once that's done in CftList.__init__().\n",
    "        \"\"\"\n",
    "        self.pft_num = n_non_crop_pfts + self.cft_num\n",
    "        self.pft_ind = self.pft_num - 1\n",
    "\n",
    "    def get_where(self, ds):\n",
    "        \"\"\"\n",
    "        Get the indices on the pft dimension corresponding to this CFT\n",
    "        \"\"\"\n",
    "        if self.pft_num is None:\n",
    "            raise RuntimeError(\n",
    "                \"get_where() can't be run until after calling Crop.update_pft()\"\n",
    "            )\n",
    "        pfts1d_itype_veg = ds[\"pfts1d_itype_veg\"]\n",
    "        if \"time\" in pfts1d_itype_veg.dims:\n",
    "            pfts1d_itype_veg = pfts1d_itype_veg.isel(time=0)\n",
    "        self.where = np.where(pfts1d_itype_veg.values == self.pft_num)[0].astype(int)\n",
    "        return self.where\n",
    "\n",
    "\n",
    "class CftList:\n",
    "    def __init__(self, ds, n_pfts, cfts_to_include):\n",
    "        # Get list of all possible CFTs\n",
    "        self.cft_list = []\n",
    "        for i, (key, value) in enumerate(ds.attrs.items()):\n",
    "            if not key.startswith(\"cft_\"):\n",
    "                continue\n",
    "            cft_name = key[4:]\n",
    "            self.cft_list.append(Cft(cft_name, value))\n",
    "\n",
    "        # Figure out PFT indices\n",
    "        max_cft_num = max([x.cft_num for x in self.cft_list])\n",
    "        n_non_crop_pfts = n_pfts - max_cft_num + 1  # Incl. unvegetated\n",
    "        for cft in self.cft_list:\n",
    "            cft = cft.update_pft(n_non_crop_pfts)\n",
    "\n",
    "        # Only include CFTs we care about\n",
    "        self.cft_list = [x for x in self.cft_list if x.name in cfts_to_include]\n",
    "\n",
    "        # Figure out where the pft index is each CFT\n",
    "        for cft in self.cft_list:\n",
    "            cft.get_where(ds)\n",
    "\n",
    "    def __getitem__(self, index):\n",
    "        return self.cft_list[index]\n",
    "\n",
    "    def __str__(self):\n",
    "        results = []\n",
    "        for cft in self.cft_list:\n",
    "            results.append(str(cft))\n",
    "        return \"\\n\".join(results)"
   ]
  },
  {
   "cell_type": "code",
   "execution_count": null,
   "id": "070a130d-8971-4e9b-847b-4b1f5d30c27e",
   "metadata": {
    "editable": true,
    "slideshow": {
     "slide_type": ""
    },
    "tags": [
     "hide-cell"
    ]
   },
   "outputs": [],
   "source": [
    "for i, case in enumerate(case_name_list):\n",
    "    ds = ds_list[i]\n",
    "    this_cftlist = CftList(ds, n_pfts, cfts_to_include)\n",
    "\n",
    "    # Save or check\n",
    "    if i == 0:\n",
    "        cft_list = this_cftlist\n",
    "    elif this_cftlist != cft_list:\n",
    "        raise NotImplementedError(\n",
    "            \"This code can't handle cases with different CFT lists\"\n",
    "        )\n",
    "print(cft_list)"
   ]
  },
  {
   "cell_type": "markdown",
   "id": "ba958fb9-fbea-4211-83fb-eda9ae46a578",
   "metadata": {
    "editable": true,
    "slideshow": {
     "slide_type": ""
    },
    "tags": []
   },
   "source": [
    "## Make time series"
   ]
  },
  {
   "cell_type": "code",
   "execution_count": null,
   "id": "39ed96fb-60f2-40e9-b089-700dc0beb984",
   "metadata": {
    "editable": true,
    "slideshow": {
     "slide_type": ""
    },
    "tags": []
   },
   "outputs": [],
   "source": [
    "# ↓ Incorrectly assumes that all gridcells have the same area\n",
    "gridcell_area = ds[\"area\"].isel(time=0).mean() * 1e6  # *1e6 to convert km2 to m2\n",
    "\n",
    "for cft in cft_list:\n",
    "    for ds in ds_list:\n",
    "        ds = ds_list[i].isel(pft=cft.where)\n",
    "\n",
    "        cft_area = gridcell_area * ds[\"pfts1d_wtgcell\"]\n",
    "        cft_production = cft_area * ds[\"GRAINC_TO_FOOD_ANN\"]\n",
    "\n",
    "        # Plot data\n",
    "        cft_production_ts = cft_production.sum(dim=\"pft\")\n",
    "        cft_production_ts *= 1e-6 * 1e-6  # Convert gC to MtC\n",
    "        cft_production_ts.attrs[\"units\"] = \"Mt C\"\n",
    "        cft_production_ts.plot()\n",
    "\n",
    "    # Finish plot\n",
    "    plt.title(cft.name.replace(\"_\", \" \"))\n",
    "    plt.show()"
   ]
  },
  {
   "cell_type": "markdown",
   "id": "d1340377-06f9-4113-83f4-15f00c94535c",
   "metadata": {
    "editable": true,
    "slideshow": {
     "slide_type": ""
    },
    "tags": [
     "hide-cell"
    ]
   },
   "source": [
    "## ↓ COMBINED-CFT CROPS; NOT WORKING"
   ]
  },
  {
   "cell_type": "code",
   "execution_count": null,
   "id": "4ccf97d3-52e7-46ee-b3ef-6239398adc9e",
   "metadata": {
    "editable": true,
    "slideshow": {
     "slide_type": ""
    },
    "tags": [
     "hide-cell"
    ]
   },
   "outputs": [],
   "source": [
    "class Crop:\n",
    "    def __init__(self, name, cft_list, ds):\n",
    "        self.name = name\n",
    "\n",
    "        # Get CFTs included in this crop\n",
    "        self.cft_list = []\n",
    "        for cft in cft_list:\n",
    "            if self.name not in cft.name:\n",
    "                continue\n",
    "            self.cft_list.append(cft)\n",
    "\n",
    "        # Get information for all CFTs in this crop\n",
    "        self.cft_names = []\n",
    "        self.pft_inds = []\n",
    "        self.where = np.array([], dtype=np.int64)\n",
    "        for cft in self.cft_list:\n",
    "            self.cft_names.append(cft.name)\n",
    "            self.pft_inds.append(cft.pft_ind)\n",
    "            self.where = np.append(self.where, cft.get_where(ds))\n",
    "        self.where = np.sort(self.where)\n",
    "\n",
    "        # Placeholders\n",
    "        self.ds = None\n",
    "\n",
    "    def __str__(self):\n",
    "        return f\"{self.name}: {', '.join(f'{x.name} ({x.pft_ind})' for x in self.cft_list)}\"\n",
    "\n",
    "\n",
    "crop_list = [Crop(x, cft_list, ds) for x in crops_to_include]\n",
    "for crop in crop_list:\n",
    "    print(crop)"
   ]
  }
 ],
 "metadata": {
  "kernelspec": {
   "display_name": "Python [conda env:cupid-analysis]",
   "language": "python",
   "name": "conda-env-cupid-analysis-py"
  },
  "language_info": {
   "codemirror_mode": {
    "name": "ipython",
    "version": 3
   },
   "file_extension": ".py",
   "mimetype": "text/x-python",
   "name": "python",
   "nbconvert_exporter": "python",
   "pygments_lexer": "ipython3",
   "version": "3.11.4"
  }
 },
 "nbformat": 4,
 "nbformat_minor": 5
}
