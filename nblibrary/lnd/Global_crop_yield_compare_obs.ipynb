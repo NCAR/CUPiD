{
 "cells": [
  {
   "cell_type": "markdown",
   "id": "00bde298-3456-40dd-8011-c61df95f5f77",
   "metadata": {},
   "source": [
    "# Compare crop yields to observations\n",
    "\n",
    "- Uses raw annual CTSM outputs (NOT timeseries files).\n",
    "\n",
    "Notebook created by Sam Rabin (samrabin@ucar.edu)."
   ]
  },
  {
   "cell_type": "code",
   "execution_count": null,
   "id": "750da831-1c5c-4b41-947e-a9e57a62a820",
   "metadata": {
    "editable": true,
    "slideshow": {
     "slide_type": ""
    },
    "tags": [
     "hide-cell"
    ]
   },
   "outputs": [],
   "source": [
    "import sys\n",
    "import os\n",
    "import glob\n",
    "import numpy as np\n",
    "import xarray as xr\n",
    "import pandas as pd\n",
    "from time import time\n",
    "from dask.distributed import Client, wait\n",
    "import convert_pft1d_to_sparse\n",
    "import importlib\n",
    "import earthstat\n",
    "import caselist\n",
    "import crop_timeseries_figs\n",
    "import plotting_utils\n",
    "\n",
    "# Plotting utils\n",
    "import matplotlib.pyplot as plt\n",
    "import clm_and_earthstat_maps as caem\n",
    "\n",
    "# Start a local Dask cluster using all available cores\n",
    "client = Client()\n",
    "client"
   ]
  },
  {
   "cell_type": "markdown",
   "id": "81bff86d-21fe-41a6-a998-76cb6a57606f",
   "metadata": {
    "editable": true,
    "slideshow": {
     "slide_type": ""
    },
    "tags": []
   },
   "source": [
    "## 1. Settings"
   ]
  },
  {
   "cell_type": "markdown",
   "id": "ba69c65d-fe0e-435f-b448-7ad69233f97a",
   "metadata": {},
   "source": [
    "### 1.1 Parameters modifiable in config.yml"
   ]
  },
  {
   "cell_type": "code",
   "execution_count": null,
   "id": "7f8f2d17-c653-4ad1-9dc3-c49bf836ceb6",
   "metadata": {
    "editable": true,
    "slideshow": {
     "slide_type": ""
    },
    "tags": [
     "parameters",
     "hide-cell"
    ]
   },
   "outputs": [],
   "source": [
    "# Path to CUPiD externals. This method is supposedly unreliable, so it's best for this to be\n",
    "# overridden by a value given in config.yml. See examples/crops/config.yml.\n",
    "externals_path = os.path.join(os.getcwd(), os.pardir, os.pardir, \"externals\")\n",
    "\n",
    "# Where land output is stored\n",
    "CESM_output_dir = os.path.join(\n",
    "    os.path.sep,\n",
    "    \"glade\",\n",
    "    \"work\",\n",
    "    \"samrabin\",\n",
    "    \"clm6_crop_reparam_outputs\",\n",
    ")\n",
    "\n",
    "# Full casenames that are present in CESM_output_dir and in individual filenames\n",
    "case_name_list = [\n",
    "    # \"ctsm53019_f09_BNF_hist\",\n",
    "    \"clm6_crop_032\",\n",
    "    # \"clm6_crop_032_nomaxlaitrig\",\n",
    "    # \"clm6_crop_032_nmlt_phaseparams\",\n",
    "    \"alpha-ctsm5.4.CMIP7.09.ctsm5.3.068\",\n",
    "    \"alpha-ctsm5.4.CMIP7.09.ctsm5.3.068_nogddadapt\",\n",
    "]\n",
    "\n",
    "# Names of cases to show in figure legends\n",
    "case_legend_list = [\n",
    "    # \"A: ctsm5.3.019 (GSWP3)\",\n",
    "    \"B: ctsm5.3.032 (CRU-JRA)\",\n",
    "    # \"C: As B + w/o max LAI triggering grainfill\",\n",
    "    # \"D: As C + pre-CLM5 crop phase params\",\n",
    "    \"E: 5.4 branch\",\n",
    "    \"F: 5.4 branch (no GDD adapt)\",\n",
    "]\n",
    "\n",
    "# The actual netCDF timesteps, not the names of the files\n",
    "start_year = 1961\n",
    "end_year = 2023\n",
    "\n",
    "cfts_to_include = [\n",
    "    \"temperate_corn\",\n",
    "    \"tropical_corn\",\n",
    "    \"cotton\",\n",
    "    \"rice\",\n",
    "    \"temperate_soybean\",\n",
    "    \"tropical_soybean\",\n",
    "    \"sugarcane\",\n",
    "    \"spring_wheat\",\n",
    "    \"irrigated_temperate_corn\",\n",
    "    \"irrigated_tropical_corn\",\n",
    "    \"irrigated_cotton\",\n",
    "    \"irrigated_rice\",\n",
    "    \"irrigated_temperate_soybean\",\n",
    "    \"irrigated_tropical_soybean\",\n",
    "    \"irrigated_sugarcane\",\n",
    "    \"irrigated_spring_wheat\",\n",
    "]\n",
    "\n",
    "crops_to_include = [\n",
    "    \"corn\",\n",
    "    \"cotton\",\n",
    "    \"rice\",\n",
    "    \"soybean\",\n",
    "    \"sugarcane\",\n",
    "    \"wheat\",\n",
    "]\n",
    "fao_to_clm_dict = {\n",
    "    \"Maize\": \"corn\",\n",
    "    \"Rice\": \"rice\",\n",
    "    \"Seed cotton, unginned\": \"cotton\",\n",
    "    \"Soya beans\": \"soybean\",\n",
    "    \"Sugar cane\": \"sugarcane\",\n",
    "    \"Wheat\": \"wheat\",\n",
    "}\n",
    "\n",
    "dev_mode = True\n",
    "verbose = True\n",
    "\n",
    "obs_data_dir = os.path.join(\n",
    "    os.sep + \"glade\",\n",
    "    \"campaign\",\n",
    "    \"cesm\",\n",
    "    \"development\",\n",
    "    \"cross-wg\",\n",
    "    \"diagnostic_framework\",\n",
    "    \"CUPiD_obs_data\",\n",
    ")"
   ]
  },
  {
   "cell_type": "markdown",
   "id": "ecb4028f-3211-4454-956e-7b35be7f239b",
   "metadata": {
    "editable": true,
    "slideshow": {
     "slide_type": ""
    },
    "tags": []
   },
   "source": [
    "### 1.2 Other settings"
   ]
  },
  {
   "cell_type": "code",
   "execution_count": null,
   "id": "0014712f-d094-4dae-b583-740bf7a9789c",
   "metadata": {
    "editable": true,
    "slideshow": {
     "slide_type": ""
    },
    "tags": [
     "hide-cell"
    ]
   },
   "outputs": [],
   "source": [
    "# Set up directory for any scratch output\n",
    "if \"SCRATCH\" in os.environ:\n",
    "    cupid_temp = os.path.join(os.environ[\"SCRATCH\"], \"CUPiD_scratch\")\n",
    "    os.makedirs(cupid_temp, exist_ok=True)\n",
    "else:\n",
    "    cupid_temp = \".\"\n",
    "\n",
    "N_PFTS = 78\n",
    "\n",
    "short_names = [case.split(\".\")[-1] for case in case_name_list]\n",
    "\n",
    "if start_year > end_year:\n",
    "    raise RuntimeError(f\"start_year ({start_year}) > end_year ({end_year})\")\n",
    "\n",
    "if case_legend_list:\n",
    "    if len(case_name_list) != len(case_legend_list):\n",
    "        raise RuntimeError(\"case_legend_list must be same length as case_name_list\")\n",
    "else:\n",
    "    case_legend_list = case_name_list"
   ]
  },
  {
   "cell_type": "code",
   "execution_count": null,
   "id": "cb666811-fd44-4698-b06c-dffcfff96a5c",
   "metadata": {
    "editable": true,
    "slideshow": {
     "slide_type": ""
    },
    "tags": [
     "hide-cell"
    ]
   },
   "outputs": [],
   "source": [
    "# Move options to dict for easier passing among functions\n",
    "opts = {}\n",
    "opts[\"CESM_output_dir\"] = CESM_output_dir\n",
    "del CESM_output_dir\n",
    "opts[\"case_name_list\"] = case_name_list\n",
    "del case_name_list\n",
    "opts[\"case_legend_list\"] = case_legend_list\n",
    "del case_legend_list\n",
    "opts[\"start_year\"] = start_year\n",
    "del start_year\n",
    "opts[\"end_year\"] = end_year\n",
    "del end_year\n",
    "opts[\"cfts_to_include\"] = cfts_to_include\n",
    "del cfts_to_include\n",
    "opts[\"crops_to_include\"] = crops_to_include\n",
    "del crops_to_include\n",
    "opts[\"fao_to_clm_dict\"] = fao_to_clm_dict\n",
    "del fao_to_clm_dict\n",
    "opts[\"dev_mode\"] = dev_mode\n",
    "del dev_mode\n",
    "opts[\"verbose\"] = verbose\n",
    "del verbose\n",
    "opts[\"obs_data_dir\"] = obs_data_dir\n",
    "del obs_data_dir"
   ]
  },
  {
   "cell_type": "markdown",
   "id": "6472e627",
   "metadata": {},
   "source": [
    "### 1.3 Import stuff from externals"
   ]
  },
  {
   "cell_type": "code",
   "execution_count": null,
   "id": "e3492cb4",
   "metadata": {},
   "outputs": [],
   "source": [
    "sys.path.append(externals_path)\n",
    "import ctsm_postprocessing.utils as utils\n",
    "from ctsm_postprocessing.crops import crop_secondary_variables as c2o\n",
    "from ctsm_postprocessing.crops import cropcase\n",
    "import ctsm_postprocessing.crops.faostat as faostat\n",
    "from ctsm_postprocessing.resolutions import identify_resolution"
   ]
  },
  {
   "cell_type": "markdown",
   "id": "d9f59509-0094-466e-bded-0929077936e4",
   "metadata": {
    "editable": true,
    "slideshow": {
     "slide_type": ""
    },
    "tags": []
   },
   "source": [
    "## 2. Import case data"
   ]
  },
  {
   "cell_type": "markdown",
   "id": "ff581f2e-8178-4ce5-8e04-cc33390d71f8",
   "metadata": {},
   "source": [
    "### 2.1 Import cases"
   ]
  },
  {
   "cell_type": "code",
   "execution_count": null,
   "id": "3c35ae8d-dfff-44b0-a854-dfc2b5b030c0",
   "metadata": {
    "editable": true,
    "slideshow": {
     "slide_type": ""
    },
    "tags": [
     "hide-cell"
    ]
   },
   "outputs": [],
   "source": [
    "importlib.reload(cropcase)\n",
    "importlib.reload(caselist)\n",
    "\n",
    "case_list = caselist.CaseList(\n",
    "    CropCase=cropcase.CropCase,\n",
    "    identify_resolution=identify_resolution,\n",
    "    opts=opts,\n",
    ")"
   ]
  },
  {
   "cell_type": "code",
   "execution_count": null,
   "id": "b593d30d-1ad0-420d-80a0-fa81014dc787",
   "metadata": {},
   "outputs": [],
   "source": [
    "# Calculate some extra variables\n",
    "# TODO: Move these calculations to CropCase\n",
    "for case in case_list:\n",
    "    case_ds = case.cft_ds\n",
    "    \n",
    "    # Set up for adding cft_crop variable\n",
    "    cft_crop_array = np.full(case_ds.sizes[\"cft\"], \"\", dtype=object)\n",
    "\n",
    "    for i, crop in enumerate(opts[\"crops_to_include\"]):\n",
    "        # Get data for CFTs of this crop\n",
    "        pft_nums = case.crop_list[crop].pft_nums\n",
    "        cft_ds = case_ds.sel(cft=pft_nums)\n",
    "\n",
    "        # Save name of this crop for cft_crop variable\n",
    "        for pft_num in pft_nums:\n",
    "            cft_crop_array[np.where(case_ds[\"cft\"].values == pft_num)] = crop\n",
    "\n",
    "        # Get area\n",
    "        cft_area = cft_ds[\"pfts1d_gridcellarea\"] * cft_ds[\"pfts1d_wtgcell\"]\n",
    "        cft_area *= 1e6  # Convert km2 to m2\n",
    "        cft_area.attrs[\"units\"] = \"m2\"\n",
    "\n",
    "        # Get production\n",
    "        cft_prod = cft_ds[\"YIELD_ANN\"] * cft_area\n",
    "        cft_prod.attrs[\"units\"] = \"g\"\n",
    "\n",
    "        # Setup crop_cft_* variables or append to them\n",
    "        cft_area_expanded = cft_area.expand_dims(dim=\"crop\", axis=0)\n",
    "        cft_prod_expanded = cft_prod.expand_dims(dim=\"crop\", axis=0)\n",
    "        if i == 0:\n",
    "\n",
    "            # Add crop (names) variable/dimension to case_ds, if needed\n",
    "            if \"crop\" not in case_ds:\n",
    "                crop_da = xr.DataArray(\n",
    "                    data=opts[\"crops_to_include\"],\n",
    "                    dims=[\"crop\"],\n",
    "                )\n",
    "                case_ds[\"crop\"] = crop_da\n",
    "\n",
    "            # Define crop_cft_* variables\n",
    "            crop_cft_area_da = xr.DataArray(\n",
    "                data=cft_area_expanded,\n",
    "            )\n",
    "            crop_cft_prod_da = xr.DataArray(\n",
    "                data=cft_prod_expanded,\n",
    "            )\n",
    "        else:\n",
    "            # Append this crop's DataArrays to existing ones\n",
    "            crop_cft_area_da = xr.concat(\n",
    "                [crop_cft_area_da, cft_area_expanded],\n",
    "                dim=\"crop\",\n",
    "            )\n",
    "            crop_cft_prod_da = xr.concat(\n",
    "                [crop_cft_prod_da, cft_prod_expanded],\n",
    "                dim=\"crop\",\n",
    "            )\n",
    "\n",
    "    # Add crop_cft_* variables to case_ds\n",
    "    case_ds[\"crop_cft_area\"] = crop_cft_area_da\n",
    "    case_ds[\"crop_cft_prod\"] = crop_cft_prod_da\n",
    "\n",
    "    # Calculate CFT-level yield\n",
    "    case_ds[\"crop_cft_yield\"] = crop_cft_prod_da / crop_cft_area_da\n",
    "    case_ds[\"crop_cft_yield\"].attrs[\"units\"] = (\n",
    "        crop_cft_prod_da.attrs[\"units\"] + \"/\" + crop_cft_area_da.attrs[\"units\"]\n",
    "    )\n",
    "\n",
    "    # Collapse CFTs to individual crops\n",
    "    case_ds[\"crop_area\"] = crop_cft_area_da.sum(dim=\"cft\", keep_attrs=True)\n",
    "    case_ds[\"crop_prod\"] = crop_cft_prod_da.sum(dim=\"cft\", keep_attrs=True)\n",
    "\n",
    "    # Calculate crop-level yield\n",
    "    case_ds[\"crop_yield\"] = case_ds[\"crop_prod\"] / case_ds[\"crop_area\"]\n",
    "    case_ds[\"crop_yield\"].attrs[\"units\"] = (\n",
    "        case_ds[\"crop_prod\"].attrs[\"units\"] + \"/\" + case_ds[\"crop_area\"].attrs[\"units\"]\n",
    "    )\n",
    "\n",
    "    # Save cft_crop variable\n",
    "    case.cft_ds[\"cft_crop\"] = xr.DataArray(\n",
    "        data=cft_crop_array,\n",
    "        dims=[\"cft\"],\n",
    "        coords={\"cft\": case_ds[\"cft\"]},\n",
    "    )\n",
    "    \n",
    "    # Area harvested\n",
    "    hr = case_ds[\"HARVEST_REASON_PERHARV\"]\n",
    "    cft_planted_area = (case_ds[\"pfts1d_gridcellarea\"] * case_ds[\"pfts1d_wtgcell\"]).where(case_ds[\"pfts1d_wtgcell\"]>0) * 1e6  # convert km2 to m2\n",
    "    cft_planted_area.attrs[\"units\"] = \"m2\"\n",
    "    case.cft_ds[\"cft_harv_area\"] = (cft_planted_area * (hr > 0)).sum(dim=\"mxharvests\")\n",
    "    case.cft_ds[\"cft_harv_area_immature\"] = (cft_planted_area * (hr > 1)).sum(dim=\"mxharvests\")\n",
    "    case.cft_ds[\"cft_harv_area_failed\"] = (cft_planted_area * (1 - case_ds[\"VALID_HARVEST\"]).where(hr > 0)).sum(dim=\"mxharvests\")\n",
    "    case.cft_ds[\"crop_harv_area\"] = case.cft_ds[\"cft_harv_area\"].groupby(case_ds[\"cft_crop\"]).sum(dim=\"cft\").rename({\"cft_crop\": \"crop\"})\n",
    "    case.cft_ds[\"crop_harv_area_immature\"] = case.cft_ds[\"cft_harv_area_immature\"].groupby(case_ds[\"cft_crop\"]).sum(dim=\"cft\").rename({\"cft_crop\": \"crop\"})\n",
    "    case.cft_ds[\"crop_harv_area_failed\"] = case.cft_ds[\"cft_harv_area_failed\"].groupby(case_ds[\"cft_crop\"]).sum(dim=\"cft\").rename({\"cft_crop\": \"crop\"})\n"
   ]
  },
  {
   "cell_type": "markdown",
   "id": "5708d0f6-2fee-418d-882c-0202ea88e79c",
   "metadata": {},
   "source": [
    "### 2.3 Import FAOSTAT"
   ]
  },
  {
   "cell_type": "code",
   "execution_count": null,
   "id": "7d1d3bb4-4df1-48a2-881c-fc3feab42ed1",
   "metadata": {},
   "outputs": [],
   "source": [
    "fao_file = os.path.join(\n",
    "    opts[\"obs_data_dir\"],\n",
    "    \"lnd\",\n",
    "    \"analysis_datasets\",\n",
    "    \"ungridded\",\n",
    "    \"timeseries\",\n",
    "    \"FAOSTAT\",\n",
    "    \"Production_Crops_Livestock_2025-02-25\",\n",
    "    \"norm\",\n",
    "    \"Production_Crops_Livestock_E_All_Data_(Normalized).csv\",\n",
    ")\n",
    "\n",
    "fao = faostat.FaostatProductionCropsLivestock(\n",
    "    fao_file,\n",
    "    y1=opts[\"start_year\"],\n",
    "    yN=opts[\"end_year\"],\n",
    ")\n",
    "\n",
    "# TODO: Move all the following to FaostatProductionCropsLivestock class\n",
    "\n",
    "fao_prod = fao.get_element(\"Production\", fao_to_clm_dict=opts[\"fao_to_clm_dict\"])\n",
    "fao_area = fao.get_element(\"Area harvested\", fao_to_clm_dict=opts[\"fao_to_clm_dict\"])\n",
    "\n",
    "# Only include where both production and area data are present\n",
    "def drop_a_where_not_in_b(a, b):\n",
    "    return a.drop([i for i in a.index.difference(b.index)])\n",
    "\n",
    "\n",
    "fao_prod = drop_a_where_not_in_b(fao_prod, fao_area)\n",
    "fao_area = drop_a_where_not_in_b(fao_area, fao_prod)\n",
    "if not fao_prod.index.equals(fao_area.index):\n",
    "    raise RuntimeError(\"Mismatch of prod and area indices after trying to align them\")\n",
    "\n",
    "# Don't allow production where no area\n",
    "is_bad = (fao_prod[\"Value\"] > 0) & (fao_area[\"Value\"] == 0)\n",
    "where_bad = np.where(is_bad)[0]\n",
    "bad_prod = fao_prod.iloc[where_bad]\n",
    "bad_area = fao_area.iloc[where_bad]\n",
    "fao_prod = fao_prod[~is_bad]\n",
    "fao_area = fao_area[~is_bad]\n",
    "if not fao_prod.index.equals(fao_area.index):\n",
    "    raise RuntimeError(\n",
    "        \"Mismatch of prod and area indices after disallowing production where no area\"\n",
    "    )\n",
    "\n",
    "# Get yield\n",
    "fao_yield = fao_prod.copy()\n",
    "fao_yield[\"Element\"] = \"Yield\"\n",
    "fao_yield[\"Unit\"] = \"/\".join([fao_prod[\"Unit\"].iloc[0], fao_area[\"Unit\"].iloc[0]])\n",
    "fao_yield[\"Value\"] = fao_prod[\"Value\"] / fao_area[\"Value\"]"
   ]
  },
  {
   "cell_type": "markdown",
   "id": "1f381900-3375-49bb-b4bc-15e9bddd6fff",
   "metadata": {},
   "source": [
    "### 2.3 Import EarthStat (basically gridded FAOSTAT)"
   ]
  },
  {
   "cell_type": "code",
   "execution_count": null,
   "id": "d0bfaf96-f416-442e-b879-53b98e88adc1",
   "metadata": {},
   "outputs": [],
   "source": [
    "importlib.reload(earthstat)\n",
    "\n",
    "earthstat_dir = os.path.join(\n",
    "    opts[\"obs_data_dir\"],\n",
    "    \"lnd\",\n",
    "    \"analysis_datasets\",\n",
    "    \"multi_grid\",\n",
    "    \"annual\",\n",
    "    \"FAO-EarthStatYields\",\n",
    ")\n",
    "\n",
    "earthstat_data = earthstat.EarthStat(earthstat_dir, case_list.resolutions, opts)"
   ]
  },
  {
   "cell_type": "markdown",
   "id": "ba958fb9-fbea-4211-83fb-eda9ae46a578",
   "metadata": {
    "editable": true,
    "slideshow": {
     "slide_type": ""
    },
    "tags": []
   },
   "source": [
    "## 3. Time series figures"
   ]
  },
  {
   "cell_type": "code",
   "execution_count": null,
   "id": "39ed96fb-60f2-40e9-b089-700dc0beb984",
   "metadata": {
    "editable": true,
    "slideshow": {
     "slide_type": ""
    },
    "tags": [
     "hide-input"
    ]
   },
   "outputs": [],
   "source": [
    "importlib.reload(crop_timeseries_figs)\n",
    "\n",
    "crop_timeseries_figs.main(\"yield\", earthstat_data, case_list, fao_yield, opts)\n",
    "crop_timeseries_figs.main(\"prod\", earthstat_data, case_list, fao_prod, opts)\n",
    "crop_timeseries_figs.main(\"area\", earthstat_data, case_list, fao_area, opts)"
   ]
  },
  {
   "cell_type": "markdown",
   "id": "07fbf7af-d3bd-4fe0-9c69-d63394da0d6b",
   "metadata": {
    "editable": true,
    "slideshow": {
     "slide_type": ""
    },
    "tags": []
   },
   "source": [
    "## 4. Yield maps"
   ]
  },
  {
   "cell_type": "code",
   "execution_count": null,
   "id": "eb1f68c2-d066-4092-927e-d7f801bad525",
   "metadata": {},
   "outputs": [],
   "source": [
    "importlib.reload(caem)\n",
    "\n",
    "caem.clm_and_earthstat_maps(\n",
    "    which=\"yield\",\n",
    "    case_list=case_list,\n",
    "    earthstat_data=earthstat_data,\n",
    "    utils=utils,\n",
    "    opts=opts,\n",
    ")"
   ]
  },
  {
   "cell_type": "code",
   "execution_count": null,
   "id": "8fb35103-f975-445b-8dde-760fc5f5de95",
   "metadata": {},
   "outputs": [],
   "source": [
    "importlib.reload(caem)\n",
    "\n",
    "caem.clm_and_earthstat_maps(\n",
    "    which=\"prod\",\n",
    "    case_list=case_list,\n",
    "    earthstat_data=earthstat_data,\n",
    "    utils=utils,\n",
    "    opts=opts,\n",
    ")"
   ]
  },
  {
   "cell_type": "code",
   "execution_count": null,
   "id": "8926ec4b-201a-43e0-ae01-969d9d680b7a",
   "metadata": {},
   "outputs": [],
   "source": [
    "importlib.reload(caem)\n",
    "\n",
    "caem.clm_and_earthstat_maps(\n",
    "    which=\"area\",\n",
    "    case_list=case_list,\n",
    "    earthstat_data=earthstat_data,\n",
    "    utils=utils,\n",
    "    opts=opts,\n",
    ")"
   ]
  },
  {
   "cell_type": "markdown",
   "id": "71e6af78",
   "metadata": {},
   "source": [
    "## 5. Immature and failed harvests"
   ]
  },
  {
   "cell_type": "code",
   "execution_count": null,
   "id": "5b3a2fa6",
   "metadata": {},
   "outputs": [],
   "source": [
    "importlib.reload(plotting_utils)\n",
    "\n",
    "for crop in opts[\"crops_to_include\"]:\n",
    "    results = plotting_utils.ResultsMaps(case_list.mapfig_layout)\n",
    "    for case in case_list:\n",
    "        tmp = case.cft_ds.sel(crop=crop)\n",
    "        tmp[\"frac_immature_harv_timemean\"] = tmp[\"crop_harv_area_immature\"].sum(dim=\"time\") / tmp[\"crop_harv_area\"].sum(dim=\"time\")\n",
    "        map_clm = utils.grid_one_variable(tmp, \"frac_immature_harv_timemean\")\n",
    "        map_clm.attrs[\"units\"] = \"unitless\"\n",
    "        map_clm.name = \"Fraction immature harvests\"\n",
    "        results[case.name] = map_clm\n",
    "    results.plot(case_name_list=case_list.names, crop=crop)"
   ]
  },
  {
   "cell_type": "code",
   "execution_count": null,
   "id": "9b6f5132",
   "metadata": {},
   "outputs": [],
   "source": [
    "importlib.reload(plotting_utils)\n",
    "\n",
    "for crop in opts[\"crops_to_include\"]:\n",
    "    results = plotting_utils.ResultsMaps(case_list.mapfig_layout)\n",
    "    for case in case_list:\n",
    "        tmp = case.cft_ds.sel(crop=crop)\n",
    "        tmp[\"frac_failed_harv_timemean\"] = tmp[\"crop_harv_area_failed\"].sum(dim=\"time\") / tmp[\"crop_harv_area\"].sum(dim=\"time\")\n",
    "        map_clm = utils.grid_one_variable(tmp, \"frac_failed_harv_timemean\")\n",
    "        map_clm.attrs[\"units\"] = \"unitless\"\n",
    "        map_clm.name = \"Fraction failed harvests\"\n",
    "        results[case.name] = map_clm\n",
    "    results.plot(case_name_list=case_list.names, crop=crop)"
   ]
  }
 ],
 "metadata": {
  "kernelspec": {
   "display_name": "Python [conda env:cupid-analysis]",
   "language": "python",
   "name": "conda-env-cupid-analysis-py"
  },
  "language_info": {
   "codemirror_mode": {
    "name": "ipython",
    "version": 3
   },
   "file_extension": ".py",
   "mimetype": "text/x-python",
   "name": "python",
   "nbconvert_exporter": "python",
   "pygments_lexer": "ipython3",
   "version": "3.11.4"
  }
 },
 "nbformat": 4,
 "nbformat_minor": 5
}
