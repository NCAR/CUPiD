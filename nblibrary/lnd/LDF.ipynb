{
 "cells": [
  {
   "cell_type": "markdown",
   "id": "623cbc23-45bf-4dfd-9f49-8d814d0394ba",
   "metadata": {},
   "source": [
    "# LDF\n",
    "\n",
    "The output from the stand-alone LDF configuration is in the link below\n",
    "\n",
    "\n",
    "Note that LDF is currently run by users. Temporarily, we suggest users walk through the following process:\n",
    "1) Install LDF and activate cupid-analysis\n",
    "2) Use the `CUPiD/helper_scripts/generate_ldf_config_file.py` script to generate a LDF config file based on a CUPiD configuration file.\n",
    "   * `cd CUPiD/examples/external_diag_packages`\n",
    "   * `../../helper_scripts/generate_ldf_config_file.py --cupid-config-loc . --ldf-template ../../externals/LDF/config_clm_unstructured_plots.yaml --out-file LDF_config.yaml`\n",
    "2) Run LDF with the newly created configuration file.\n",
    "   * `../../externals/LDF/run_adf_diag LDF_config.yaml`"
   ]
  },
  {
   "cell_type": "code",
   "execution_count": null,
   "id": "82af7435-3849-4fd1-bb2d-2e062719ec5b",
   "metadata": {
    "editable": true,
    "slideshow": {
     "slide_type": ""
    },
    "tags": [
     "hide-cell"
    ]
   },
   "outputs": [],
   "source": [
    "import os\n",
    "\n",
    "from IPython.core.display import HTML, Image\n",
    "from IPython.display import display\n",
    "import pandas as pd"
   ]
  },
  {
   "cell_type": "code",
   "execution_count": null,
   "id": "2a759f1b-eca7-4eec-a16a-eede1a6ab36c",
   "metadata": {
    "editable": true,
    "slideshow": {
     "slide_type": ""
    },
    "tags": [
     "parameters",
     "hide-cell"
    ]
   },
   "outputs": [],
   "source": [
    "ldf_root = \".\"\n",
    "case_name = None\n",
    "base_case_name = None\n",
    "start_date = \"\"\n",
    "end_date = \"\"\n",
    "base_start_date = None\n",
    "base_end_date = None\n",
    "key_plots = None\n",
    "# ldf_root will be external_diag_packages/computed_notebooks/LDF/"
   ]
  },
  {
   "cell_type": "code",
   "execution_count": null,
   "id": "81bf4573-8806-486f-a2f6-79e244415c07",
   "metadata": {
    "editable": true,
    "slideshow": {
     "slide_type": ""
    },
    "tags": [
     "hide-cell"
    ]
   },
   "outputs": [],
   "source": [
    "# Want some base case parameter defaults to equal control case values\n",
    "if base_case_name is not None:\n",
    "    if base_start_date is None:\n",
    "        base_start_date = start_date\n",
    "\n",
    "    if base_end_date is None:\n",
    "        base_end_date = end_date"
   ]
  },
  {
   "cell_type": "code",
   "execution_count": null,
   "id": "4104f878-a8c3-4d0f-8c00-555e6b2b3273",
   "metadata": {
    "editable": true,
    "slideshow": {
     "slide_type": ""
    },
    "tags": [
     "hide-cell"
    ]
   },
   "outputs": [],
   "source": [
    "# convert start-date and end-date to year range\n",
    "case_year_range = [int(start_date.split(\"-\")[0]), int(end_date.split(\"-\")[0]) - 1]\n",
    "\n",
    "base_case_year_range = [\n",
    "    int(base_start_date.split(\"-\")[0]),\n",
    "    int(base_end_date.split(\"-\")[0]) - 1,\n",
    "]"
   ]
  },
  {
   "cell_type": "code",
   "execution_count": null,
   "id": "ee0774cc-c68a-4385-b94c-08fa806f28c0",
   "metadata": {
    "editable": true,
    "slideshow": {
     "slide_type": ""
    },
    "tags": [
     "hide-input"
    ]
   },
   "outputs": [],
   "source": [
    "ldf_comparison_name = f\"{case_name}_{case_year_range[0]}_{case_year_range[1]}_vs_{base_case_name}_{base_case_year_range[0]}_{base_case_year_range[1]}\"\n",
    "ldf_root = os.path.join(ldf_root, ldf_comparison_name)\n",
    "display(\n",
    "    HTML(\n",
    "        f'<a href=\"../LDF/{ldf_comparison_name}/website/index.html\">Full LDF output</a>'\n",
    "    )\n",
    ")"
   ]
  },
  {
   "cell_type": "markdown",
   "id": "f9234aec-1fe5-4bbf-ad6c-fb565297afbe",
   "metadata": {},
   "source": [
    "## Key Metrics from LDF\n",
    "\n",
    "Some important things to look at from LDF include a comparison table and a few maps:"
   ]
  },
  {
   "cell_type": "code",
   "execution_count": null,
   "id": "a5b02451-98ad-4089-b184-75391a262db3",
   "metadata": {
    "editable": true,
    "slideshow": {
     "slide_type": ""
    },
    "tags": [
     "hide-input"
    ]
   },
   "outputs": [],
   "source": [
    "comparison_table = os.path.join(ldf_root, \"amwg_table_comp.csv\")\n",
    "if os.path.isfile(comparison_table):\n",
    "    table = pd.read_csv(comparison_table)\n",
    "    display(HTML(table.to_html(index=False, float_format=\"{:6g}\".format)))"
   ]
  },
  {
   "cell_type": "code",
   "execution_count": null,
   "id": "be819352-c723-4f48-afac-d93f6d192f96",
   "metadata": {
    "editable": true,
    "slideshow": {
     "slide_type": ""
    },
    "tags": [
     "hide-input"
    ]
   },
   "outputs": [],
   "source": [
    "for path_to_key_plot in key_plots:\n",
    "    full_path = os.path.join(ldf_root, path_to_key_plot)\n",
    "    if os.path.isfile(full_path):\n",
    "        display(Image(full_path))"
   ]
  }
 ],
 "metadata": {
  "kernelspec": {
   "display_name": "Python 3 (ipykernel)",
   "language": "python",
   "name": "cupid-analysis"
  },
  "language_info": {
   "codemirror_mode": {
    "name": "ipython",
    "version": 3
   },
   "file_extension": ".py",
   "mimetype": "text/x-python",
   "name": "python",
   "nbconvert_exporter": "python",
   "pygments_lexer": "ipython3",
   "version": "3.11.4"
  }
 },
 "nbformat": 4,
 "nbformat_minor": 5
}
