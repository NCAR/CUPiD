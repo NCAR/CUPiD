{
 "cells": [
  {
   "cell_type": "markdown",
   "id": "ebbe956a",
   "metadata": {},
   "source": [
    "## Regional Ocean: Basic Region and Surface Field Visualization"
   ]
  },
  {
   "cell_type": "markdown",
   "id": "8c75d984",
   "metadata": {},
   "source": [
    "Note: This notebook is meant to be run with the cupid-analysis kernel (see [CUPiD Installation](https://ncar.github.io/CUPiD/index.html#installing)). This notebook is often run by default as part of [CESM post-processing steps](https://ncar.github.io/CUPiD/run_cesm.html), but you can also run it manually."
   ]
  },
  {
   "cell_type": "markdown",
   "id": "8a6429ca",
   "metadata": {},
   "source": [
    "### Diagnostics and Plotting Resources\n",
    "#### Highly Recommended:\n",
    "\n",
    "[Xarray Fundamentals - Earth Environmental Data Science Course (recommend the entire course!)](https://earth-env-data-science.github.io/intro.html)\n",
    "\n",
    "[MOM6 Analysis Cookbook](https://mom6-analysiscookbook.readthedocs.io/en/latest/index.html)\n",
    "\n",
    "#### Great! Focused on Global Output Diagnostics\n",
    "\n",
    "[MOM6 Tools (parimarily for global metrics)](https://mom6-tools.readthedocs.io/examples.html)\n",
    "\n",
    "[MOM6 Diagnostics - CESM Tutorial](https://ncar.github.io/CESM-Tutorial/notebooks/diagnostics/mom/basics_mom.html)\n",
    "\n",
    "#### Misc.\n",
    "\n",
    "[MOM6 File Structure](https://regional-mom6.readthedocs.io/en/latest/mom6-file-structure-primer.html)\n",
    "\n",
    "[xGCM - python package for staggered grids](https://xgcm.readthedocs.io/en/latest/xgcm-examples/03_MOM6.html)"
   ]
  },
  {
   "cell_type": "code",
   "execution_count": null,
   "id": "e6f02d06",
   "metadata": {
    "tags": [
     "hide-input"
    ]
   },
   "outputs": [],
   "source": [
    "%load_ext autoreload\n",
    "%autoreload 2\n",
    "import os\n",
    "\n",
    "import matplotlib.pyplot as plt\n",
    "import numpy as np\n",
    "import regional_utils as utils\n",
    "import xarray as xr\n",
    "from cartopy import crs as ccrs"
   ]
  },
  {
   "cell_type": "code",
   "execution_count": null,
   "id": "885bf6f4",
   "metadata": {
    "tags": [
     "parameters",
     "hide-input"
    ]
   },
   "outputs": [],
   "source": [
    "case_name = \"\"  # \"/glade/campaign/cgd/oce/projects/CROCODILE/workshops/2025/Diagnostics/CESM_Output/\"\n",
    "CESM_output_dir = \"\"  # \"CROCODILE_tutorial_nwa12_MARBL\"\n",
    "\n",
    "# As regional domains vary so much in purpose, simulation length, and extent, we don't want to assume a minimum duration\n",
    "## Thus, we ignore start and end dates and simply reduce/output over the whole time frame for all of the examples given.\n",
    "start_date = None  # \"0001-01-01\"\n",
    "end_date = None  # \"0101-01-01\n",
    "\n",
    "save_figs = False\n",
    "fig_output_dir = None\n",
    "\n",
    "lc_kwargs = {}\n",
    "serial = False\n",
    "\n",
    "sfc_variables = []  # ['SSH', 'tos', 'sos', 'speed', 'SSV', 'SSU']\n",
    "monthly_variables = []  # ['thetao', 'so', 'uo', 'vo']"
   ]
  },
  {
   "cell_type": "code",
   "execution_count": null,
   "id": "2833b40c",
   "metadata": {
    "tags": [
     "hide-input"
    ]
   },
   "outputs": [],
   "source": [
    "OUTDIR = os.path.join(CESM_output_dir, case_name, \"ocn\", \"hist\")\n",
    "print(\"Output directory is:\", OUTDIR)"
   ]
  },
  {
   "cell_type": "markdown",
   "id": "2bf72fec",
   "metadata": {},
   "source": [
    "## Load in Model Output and Look at Variables/Meta Data\n",
    "\n",
    "#### Default File Structure in MOM6\n",
    "This file structure will be different if you modify the diag_table.\n",
    "\n",
    "- **static data**: contains horizontal grid, vertical grid, land/sea mask, bathymetry, lat/lon information\n",
    "- **sfc data**: daily output of 2D surface fields (salinity, temp, SSH, velocities)\n",
    "- **monthly data**: averaged monthly output of the full 3D domain, regridded to a predefined grid (MOM6 default is WOA, see more below)\n",
    "- **native data**: averaged monthly output of ocean state and atmospheric fluxes on the native MOM6 grid"
   ]
  },
  {
   "cell_type": "code",
   "execution_count": null,
   "id": "9e3ca8f8",
   "metadata": {
    "tags": [
     "hide-input"
    ]
   },
   "outputs": [],
   "source": [
    "# Xarray time decoding things\n",
    "time_coder = xr.coders.CFDatetimeCoder(use_cftime=True)\n",
    "\n",
    "## Static data includes hgrid, vgrid, bathymetry, land/sea mask\n",
    "static_data = xr.open_mfdataset(\n",
    "    os.path.join(OUTDIR, \"*h.static.nc\"),\n",
    "    decode_timedelta=True,\n",
    "    decode_times=time_coder,\n",
    "    engine=\"netcdf4\",\n",
    ")\n",
    "\n",
    "## Surface Data\n",
    "sfc_data = xr.open_mfdataset(\n",
    "    os.path.join(OUTDIR, \"*h.sfc*.nc\"),\n",
    "    decode_timedelta=True,\n",
    "    decode_times=time_coder,\n",
    "    engine=\"netcdf4\",\n",
    ")\n",
    "\n",
    "## Monthly Full Domain Data\n",
    "## Not used in this notebook by default\n",
    "monthly_data = xr.open_mfdataset(\n",
    "    os.path.join(OUTDIR, \"*h.z*.nc\"),\n",
    "    decode_timedelta=True,\n",
    "    decode_times=time_coder,\n",
    "    engine=\"netcdf4\",\n",
    ")\n",
    "\n",
    "## Monthly Full Domain Data, on native MOM6 grid\n",
    "## Not used in this notebook by default\n",
    "native_data = xr.open_mfdataset(\n",
    "    os.path.join(OUTDIR, \"*h.native*.nc\"),\n",
    "    decode_timedelta=True,\n",
    "    decode_times=time_coder,\n",
    "    engine=\"netcdf4\",\n",
    ")\n",
    "\n",
    "## Image/Gif Output Directory\n",
    "if fig_output_dir is None:\n",
    "    image_output_dir = os.path.join(\n",
    "        \"/glade/derecho/scratch/\",\n",
    "        os.environ[\"USER\"],\n",
    "        \"archive\",\n",
    "        case_name,\n",
    "        \"ocn\",\n",
    "        \"cupid_images\",\n",
    "    )\n",
    "else:\n",
    "    image_output_dir = os.path.join(fig_output_dir, case_name, \"ocn\", \"cupid_images\")\n",
    "if not os.path.exists(image_output_dir):\n",
    "    os.makedirs(image_output_dir)\n",
    "print(\"Image output directory is:\", image_output_dir)"
   ]
  },
  {
   "cell_type": "code",
   "execution_count": null,
   "id": "2889a3ec",
   "metadata": {
    "tags": [
     "hide-input"
    ]
   },
   "outputs": [],
   "source": [
    "## Select for only the variables we want to analyze\n",
    "if len(sfc_variables) > 0:\n",
    "    print(\"Selecting only the following surface variables:\", sfc_variables)\n",
    "    sfc_data = sfc_data[sfc_variables]\n",
    "if len(monthly_variables) > 0:\n",
    "    print(\"Selecting only the following monthly variables:\", monthly_variables)\n",
    "    monthly_data = monthly_data[monthly_variables]\n",
    "\n",
    "## Apply time boundaries\n",
    "## if they are the right format\n",
    "if len(start_date.split(\"-\")) == 3 and len(end_date.split(\"-\")) == 3:\n",
    "    import cftime\n",
    "\n",
    "    calendar = sfc_data.time.encoding.get(\"calendar\", \"standard\")\n",
    "\n",
    "    calendar_map = {\n",
    "        \"gregorian\": cftime.DatetimeProlepticGregorian,\n",
    "        \"noleap\": cftime.DatetimeNoLeap,\n",
    "    }\n",
    "\n",
    "    CFTime = calendar_map.get(calendar, cftime.DatetimeGregorian)\n",
    "    y, m, d = [int(i) for i in start_date.split(\"-\")]\n",
    "    start_date_time = CFTime(y, m, d)\n",
    "    y, m, d = [int(i) for i in end_date.split(\"-\")]\n",
    "    end_date_time = CFTime(y, m, d)\n",
    "\n",
    "    print(\n",
    "        f\"Applying time range from start_date: {start_date_time} and end_date: {end_date_time}.\"\n",
    "    )\n",
    "\n",
    "    sfc_data = sfc_data.sel(time=slice(start_date_time, end_date_time))\n",
    "    monthly_data = monthly_data.sel(time=slice(start_date_time, end_date_time))\n",
    "    native_data = native_data.sel(time=slice(start_date_time, end_date_time))\n",
    "\n",
    "sfc_time_bounds = [\n",
    "    sfc_data[\"time\"].isel(time=0).compute().item(),\n",
    "    sfc_data[\"time\"].isel(time=-1).compute().item(),\n",
    "]\n",
    "monthly_time_bounds = [\n",
    "    monthly_data[\"time\"].isel(time=0).compute().item(),\n",
    "    monthly_data[\"time\"].isel(time=-1).compute().item(),\n",
    "]\n",
    "\n",
    "print(f\"Surface Data Time Bounds: {sfc_time_bounds[0]} to {sfc_time_bounds[-1]}\")\n",
    "print(\n",
    "    f\"Monthly Data Time Bounds: {monthly_time_bounds[0]} to {monthly_time_bounds[-1]}\"\n",
    ")"
   ]
  },
  {
   "cell_type": "markdown",
   "id": "69846e14",
   "metadata": {},
   "source": [
    "#### **`*mom6.h.static*.nc`**: static information about the domain\n",
    "The MOM6 grid uses an Arakawa C grid which staggers velocities and tracers (temp, salinity, SSH, etc.). See [this MOM6 documentation](https://mom6.readthedocs.io/en/main/api/generated/pages/Discrete_Grids.html#horizontal-grids) for more information.\n",
    "\n",
    "##### Some variables of interest:\n",
    "- **`geolon`/`geolat`** (and c/u/v variants): specifies the true lat/lon of each cell. We use these variables for plotting and placing the data geographically.\n",
    "- **`wet`** (and c/u/v variants): the land-sea mask that specifies if a given point is on land or sea. \n",
    "- **`areacello`** (and bu,cu,cv variants): area of grid cell (important for taking area-weighted averages)\n",
    "- **`deptho`**: depth of ocean floor - bathymetry"
   ]
  },
  {
   "cell_type": "code",
   "execution_count": null,
   "id": "de0a58dd",
   "metadata": {
    "tags": [
     "hide-input"
    ]
   },
   "outputs": [],
   "source": [
    "static_data"
   ]
  },
  {
   "cell_type": "markdown",
   "id": "33b981ee",
   "metadata": {},
   "source": [
    "<div class=\"alert alert-info\">\n",
    "<strong>Indexing and the Horizontal C-grid in MOM6</strong>\n",
    "\n",
    "When accessing the output, we need to pay particular attention to which variables we are accessing and which coordinates correspond to their position on the grid. This also affects plotting and spatial averages (as we will see in this notebook and others). \n",
    "- `xh`/`yh`: index the center of the cell in `x` and `y` respectively\n",
    "- `xq`/`yq`: index the corner of the cell in `x` and `y` respectively\n",
    "  \n",
    "<strong>Coordinates:</strong>\n",
    "- (`xh`,`yh`): center of cell, where tracers are. Plot with `geolon`,`geolat`.\n",
    "- (`xh`,`yq`): middle of horizontal interface, where meridional (v) velocity is. Plot with `geolon_v`,`geolat_v`.\n",
    "- (`xq`,`yh`): middle of vertical interface, where zonal (u) velocity is. Plot with `geolon_u`,`geolat_u`.\n",
    "- (`xq`,`yq`): corners between cells, where vorticity is.\n",
    "\n",
    "</div>"
   ]
  },
  {
   "cell_type": "markdown",
   "id": "7c8d2e78",
   "metadata": {},
   "source": [
    "#### **`*h.sfc*.nc`**: daily surface fields\n",
    "The surface fields are especially useful for diagnosing short runs. This is not only the most dynamic field for short runs, but it also is the only file that stores daily results (by default). A lot of the diagnostics in this notebook use surface fields because we are able to take time averages and look at time series for any run longer than a couple of days (unlike the full 3D domain fields which are averaged over each month).\n",
    "\n",
    "##### Some variables of interest:\n",
    "- `SSH`: sea surface height\n",
    "- `tos`: temperature of ocean surface\n",
    "- `sos`: salinity of ocean surface\n",
    "- `speed`: magnitude of speed (considered a tracer, at the center of a cell)\n",
    "- `SSU` and `SSV`: zonal and meridional velocity at the surface"
   ]
  },
  {
   "cell_type": "code",
   "execution_count": null,
   "id": "089cc9fb",
   "metadata": {
    "tags": [
     "hide-input"
    ]
   },
   "outputs": [],
   "source": [
    "sfc_data"
   ]
  },
  {
   "cell_type": "markdown",
   "id": "6aee9973",
   "metadata": {},
   "source": [
    "#### **`*h.z*.nc`**: fields for the full 3D domain, averaged monthly, regridded vertically\n",
    "These are vertically remapped diagnostics files that capture the full 3D domain, but they only output monthly averages. For runs less than a month, they will average over the full length of the run. \n",
    "\n",
    "By default, this diagnostics MOM6 regrids output to the vertical grid from the 2009 World Ocean Atlas (35 layers down to 6750 m). \n",
    "\n",
    "##### Some variables of interest:\n",
    "- `uo` and `vo`: zonal and meridional velocity\n",
    "- `thetao`: potential temperature\n",
    "- `so`: salinity\n",
    "- `vmo` and `umo`: zonal and meridional mass transport \n",
    "- `volcello`: volume of each cell (important for averaging over a volume of the domain)\n",
    "\n",
    "**Note:** now there are two `z` coordinates. `z_i` is the vertical interface between cells and `z_l` identifies the depth of the cell centers. "
   ]
  },
  {
   "cell_type": "code",
   "execution_count": null,
   "id": "eaf5f4a5",
   "metadata": {
    "tags": [
     "hide-input"
    ]
   },
   "outputs": [],
   "source": [
    "monthly_data"
   ]
  },
  {
   "cell_type": "markdown",
   "id": "e5202058",
   "metadata": {},
   "source": [
    "<div class=\"alert alert-info\">\n",
    "<strong>Note on Vertically Remapped Diagnostics in MOM6</strong>\n",
    "\n",
    "The output found in `*mom6.h.z.*.nc` files is vertically remapped by MOM6. By default, this output is on the 2009 World Ocean Atlas grid. You can regrid the output after runtime (see packages like [xgcm](https://xgcm.readthedocs.io/en/latest/index.html) and and [xESMF](https://xesmf.readthedocs.io/en/stable/)), but if you know a vertical grid that you need output on, MOM6 can handle the interpolation automatically. \n",
    "\n",
    "The vertical grid settings for a particular CESM run can be found in `MOM_parameter_doc.all` in the CESM case run directory. See [this MOM6 documentation](https://mom6.readthedocs.io/en/main/api/generated/pages/Diagnostics.html#vertically-remapped-diagnostics) for more information.\n",
    "\n",
    "</div>\n"
   ]
  },
  {
   "cell_type": "markdown",
   "id": "6eaf7bb1",
   "metadata": {},
   "source": [
    "#### **`*h.native*.nc`**: fields for the full 3D domain, averaged monthly, on native MOM6 grid.\n",
    "These outputs are on the MOM6 native grid. From the [MOM6 Documentation](https://mom6.readthedocs.io/en/main/api/generated/pages/Diagnostics.html#native-diagnostics):\n",
    "> Since the model can be run in arbitrary coordinates, say in hybrid-coordinate mode, then native-space diagnostics can be potentially confusing. Native diagnostics are useful when examining exactly what the model is doing\n",
    "\n",
    "The default native file (as configured by CESM) also outputs useful global averages and atmospheric variables. \n",
    "\n",
    "##### Some variables of interest:\n",
    "- `soga`: global mean ocean salinity\n",
    "- `thetaoga`: global mean ocean potential temperature\n",
    "- `tauuo` and `tauvo`: zonal and meridional downward stress from the atmospheric forcing\n",
    "- `hfds`: net downward surface heat flux\n",
    "  - `hf*`: various individual heat fluxes into the ocean\n",
    "- `friver`: freshwater flux from rivers"
   ]
  },
  {
   "cell_type": "code",
   "execution_count": null,
   "id": "467bdf33",
   "metadata": {},
   "outputs": [],
   "source": [
    "native_data"
   ]
  },
  {
   "cell_type": "markdown",
   "id": "4c30d729",
   "metadata": {},
   "source": [
    "## Look at Regional Domain"
   ]
  },
  {
   "cell_type": "code",
   "execution_count": null,
   "id": "8a255ad1",
   "metadata": {
    "tags": [
     "hide-input"
    ]
   },
   "outputs": [],
   "source": [
    "%matplotlib inline"
   ]
  },
  {
   "cell_type": "markdown",
   "id": "9af882af",
   "metadata": {},
   "source": [
    "Note: you may see some numpy divide by zero errors below. I don't why, but they aren't an issue!"
   ]
  },
  {
   "cell_type": "code",
   "execution_count": null,
   "id": "c8314056",
   "metadata": {
    "tags": [
     "hide-input"
    ]
   },
   "outputs": [],
   "source": [
    "utils.visualizeRegionalDomain(static_data)"
   ]
  },
  {
   "cell_type": "markdown",
   "id": "63c78a97",
   "metadata": {},
   "source": [
    "## Plotting Regional MOM6 Output\n",
    "We will primarily look at the surface fields and some of the monthly full domain fields in this notebook. \n",
    "\n",
    "Xarray comes with great default plotting wrappers that can do a lot! If you take an Xarray DataArray (one variable data structure) and call \n",
    "```\n",
    "xr.DataArray.plot()\n",
    "```\n",
    "it will usually do a pretty good job! Here we'll walk through some powerful ways to use this plot wrapper, and we provide some additional functions to help the plotting along!"
   ]
  },
  {
   "cell_type": "markdown",
   "id": "543d49bf",
   "metadata": {},
   "source": [
    "### Simple plotting with Xarray\n",
    "\n",
    "By default, these files are all loaded in as Datasets which store a large set of variables with a variety of shared coordinates/dimensions. \n",
    "\n",
    "When plotting, we need to reduce this space to a single variable. If we want to plot a spatial field we need one time step, and if we want to plot a timeseries, we need to average over the spatial dimensions (this is a bit more complicated than it might seem because the grid cells are not all the same size).\n",
    "\n",
    "Let's use some basic Xarray plotting to look at a surface field:"
   ]
  },
  {
   "cell_type": "code",
   "execution_count": null,
   "id": "7c1bc2bb",
   "metadata": {},
   "outputs": [],
   "source": [
    "## Select a single variable at a single time\n",
    "sst = sfc_data[\"tos\"].isel(time=0)\n",
    "sst.plot(cmap=\"viridis\", vmin=-1.9, vmax=30)  # approx. color bar bounds for temp\n",
    "# Note that it automatically labels with coordinate names and attributes."
   ]
  },
  {
   "cell_type": "markdown",
   "id": "53845dad",
   "metadata": {},
   "source": [
    "Looks good! But from above we know we want to plot with `geolon` and `geolat` for an accurate map. We can also choose some different color maps and projections. Let's use some `regional_utils` to get this done. "
   ]
  },
  {
   "cell_type": "code",
   "execution_count": null,
   "id": "294e3e00",
   "metadata": {},
   "outputs": [],
   "source": [
    "## Select a single variable at a single time\n",
    "sst = sfc_data[\"tos\"].isel(time=0)\n",
    "\n",
    "coords = utils.chooseGeoCoords(sst.dims)\n",
    "lat = static_data[coords[\"latitude\"]]\n",
    "lon = static_data[coords[\"longitude\"]]\n",
    "\n",
    "sst = sst.assign_coords({\"lon\": lon, \"lat\": lat})\n",
    "\n",
    "cmap = utils.chooseColorMap(sst.name)\n",
    "\n",
    "cbar_levels = utils.chooseColorLevels(\n",
    "    sst.min().compute().item(),\n",
    "    sst.max().compute().item(),\n",
    ")\n",
    "\n",
    "# Create the plot with projection\n",
    "fig = plt.figure(dpi=200)\n",
    "ax = plt.axes(projection=ccrs.Mercator())\n",
    "\n",
    "# Plot the data\n",
    "p = sst.plot(\n",
    "    x=\"lon\",\n",
    "    y=\"lat\",\n",
    "    cmap=cmap,\n",
    "    levels=cbar_levels,\n",
    "    transform=ccrs.PlateCarree(),\n",
    "    ax=ax,\n",
    "    add_colorbar=True,\n",
    ")\n",
    "\n",
    "# Add coastlines - now this should work\n",
    "ax.coastlines(resolution=\"50m\", color=\"black\", linewidth=0.3)\n",
    "\n",
    "plt.show()"
   ]
  },
  {
   "cell_type": "markdown",
   "id": "55a5942a",
   "metadata": {},
   "source": [
    "Looks good! Doing all this setup everytime would be cumbersome, so we wrapped it in a function `utils.plotLatLonField`. \n",
    "\n",
    "Please go check it out and see what's going on behind the scenes. It also can calculate statistics for the field taking into account area/volume weights. "
   ]
  },
  {
   "cell_type": "markdown",
   "id": "6e7c142a",
   "metadata": {},
   "source": [
    "### MOM6 Output - Surface Fields"
   ]
  },
  {
   "cell_type": "markdown",
   "id": "dc8692dd",
   "metadata": {},
   "source": [
    "The cells below visualize the mean state and the std of the fields over the full time given."
   ]
  },
  {
   "cell_type": "code",
   "execution_count": null,
   "id": "9c0e8fb7",
   "metadata": {
    "tags": [
     "hide-input"
    ]
   },
   "outputs": [],
   "source": [
    "## Ploting basic surface state variables\n",
    "add_stats = True\n",
    "time_bounds = (\n",
    "    sfc_data[\"time\"][0].compute().item(),\n",
    "    sfc_data[\"time\"][-1].compute().item(),\n",
    ")\n",
    "\n",
    "for var in sfc_variables:\n",
    "    if var not in list(sfc_data.variables):\n",
    "        print(f\"Variable '{var}' not in given sfc_data. It will not be plotted.\")\n",
    "        sfc_variables.remove(var)\n",
    "\n",
    "\n",
    "print(f\"Taking mean and std dev from {time_bounds[0]} to {time_bounds[-1]}\")\n",
    "for var in sfc_variables:\n",
    "    field = sfc_data[var]\n",
    "\n",
    "    coords = utils.chooseGeoCoords(field.dims)\n",
    "    areacello = utils.chooseAreacello(field.dims)\n",
    "\n",
    "    mean = field.mean(dim=\"time\", skipna=True).compute()\n",
    "    std = field.std(dim=\"time\", skipna=True).compute()\n",
    "    mean.attrs = field.attrs\n",
    "    std.attrs = field.attrs\n",
    "    mean.attrs[\"long_name\"] = f\"Mean {field.long_name}\"\n",
    "    std.attrs[\"long_name\"] = f\"Std Dev {field.long_name}\"\n",
    "\n",
    "    utils.plotLatLonField(\n",
    "        mean,\n",
    "        latitude=static_data[coords[\"latitude\"]],\n",
    "        longitude=static_data[coords[\"longitude\"]],\n",
    "        stats=add_stats,\n",
    "        area_weights=static_data[areacello],\n",
    "        save=save_figs,\n",
    "        save_path=image_output_dir,\n",
    "    )\n",
    "    plt.show()\n",
    "\n",
    "    utils.plotLatLonField(\n",
    "        std,\n",
    "        latitude=static_data[coords[\"latitude\"]],\n",
    "        longitude=static_data[coords[\"longitude\"]],\n",
    "        stats=add_stats,\n",
    "        area_weights=static_data[areacello],\n",
    "        save=save_figs,\n",
    "        save_path=image_output_dir,\n",
    "    )\n",
    "    plt.show()"
   ]
  },
  {
   "cell_type": "markdown",
   "id": "dfcddbe9",
   "metadata": {},
   "source": [
    "## Area Weighted Averages and Timeseries"
   ]
  },
  {
   "cell_type": "markdown",
   "id": "725e5081",
   "metadata": {},
   "source": [
    "Calculating and plotting timeseries can also be complicated. We need to be careful when taking an average of the fields that we take weighted statistics because the grid cells are not guaranteed to be constant area or volume. \n",
    "\n",
    "The information we need for these weighted averages is contained in the `areacello*` variables (in static_data) and the `volcello` variable (in native_data and monthly_data).\n",
    "\n",
    "We have to pay attention to coordinates and dimensions because of MOM6's staggered grid (see how we choose the geolon/lat coords above).\n",
    "\n",
    "**Note:** These timeseries may be less helpful for shorter runs, but see what they reveal!"
   ]
  },
  {
   "cell_type": "code",
   "execution_count": null,
   "id": "a5561324",
   "metadata": {
    "tags": [
     "hide-input"
    ]
   },
   "outputs": [],
   "source": [
    "for var in sfc_variables:\n",
    "    field = sfc_data[var]\n",
    "    areacello_var = utils.chooseAreacello(field.dims)\n",
    "\n",
    "    utils.plotAvgTimeseries(\n",
    "        sfc_data[var],\n",
    "        static_data[areacello_var],\n",
    "        save=save_figs,\n",
    "        save_path=image_output_dir,\n",
    "    )"
   ]
  },
  {
   "cell_type": "markdown",
   "id": "e87913cc",
   "metadata": {},
   "source": [
    "## Viewing Full Domain Monthly Output\n",
    "\n",
    "Let's look at the monthly output. When using longer runs (years or decades). These hold a lot more information about how your model is evolving and performing over time. For shorter runs (like many regional models often are), we may only have a handful of monthly output timesteps. \n",
    "\n",
    "Xarray has some very useful methods for visualizing multiple levels and easily plotting them using the `col` and `col_wrap` keywords. \n",
    "\n",
    "**Note: ** none of the following plots are saved. If you want to save them, rerun the first few cells of the notebook and manually save these."
   ]
  },
  {
   "cell_type": "code",
   "execution_count": null,
   "id": "b879ae55",
   "metadata": {},
   "outputs": [],
   "source": [
    "for var in monthly_variables:\n",
    "    if var not in list(monthly_data.variables):\n",
    "        print(f\"Variable '{var}' not in given monthly_data. It will not be plotted.\")\n",
    "        monthly_variables.remove(var)\n",
    "\n",
    "## Let's only look at one variable for now (this plotting can be slow)\n",
    "for var in monthly_variables[0:1]:\n",
    "    # Look at only the first time step for now\n",
    "    field = monthly_data[var].isel(time=0)\n",
    "\n",
    "    cmap = utils.chooseColorMap(var)\n",
    "    levels = utils.chooseColorLevels(\n",
    "        field.min().compute().item(),\n",
    "        field.max().compute().item(),\n",
    "    )\n",
    "\n",
    "    subplot_kwargs = {\n",
    "        \"projection\": ccrs.Mercator(),\n",
    "    }\n",
    "\n",
    "    p = field.plot(\n",
    "        col=\"z_l\",\n",
    "        col_wrap=5,\n",
    "        cmap=cmap,\n",
    "        levels=levels,\n",
    "        transform=ccrs.PlateCarree(),\n",
    "        subplot_kws=subplot_kwargs,\n",
    "    )\n",
    "    plt.suptitle(f\"{var} at depths\", y=1.0, fontsize=20)\n",
    "\n",
    "    for ax in p.axs.flat:\n",
    "        ax.coastlines(resolution=\"50m\", color=\"black\", linewidth=0.3)"
   ]
  },
  {
   "cell_type": "markdown",
   "id": "abc15ddb",
   "metadata": {},
   "source": [
    "### Vertical Profiles\n",
    "Another useful tool, sometimes we want to look at the vertical profile of something like salinity or temperature. Be careful to use area weighted averages here. (This could be a tool in regional_utils, but it's not too much code, you decide!)\n",
    "\n"
   ]
  },
  {
   "cell_type": "code",
   "execution_count": null,
   "id": "6d895ffc",
   "metadata": {},
   "outputs": [],
   "source": [
    "for var in monthly_variables[0:1]:  # only one variable again, make it more!\n",
    "    # Look at only the first time step for now\n",
    "    field = monthly_data[var].isel(time=0)\n",
    "\n",
    "    area_weights = utils.chooseAreacello(field.dims)\n",
    "    field_weighted = field.weighted(static_data[area_weights])\n",
    "\n",
    "    mean_vars = [dim for dim in field.dims if dim != \"z_l\"]\n",
    "    field_mean = field_weighted.mean(mean_vars)\n",
    "\n",
    "    field_mean.plot(y=\"z_l\", yincrease=False)"
   ]
  },
  {
   "cell_type": "markdown",
   "id": "020d6238",
   "metadata": {},
   "source": [
    "### Bonus: Interpolating Levels and Slices\n",
    "We successfully plotted different levels above, we can also plot vertical slices. In both cases, we might run into an issue where we want to interpolate to a depth or lat/lon that is not explicitly resolved in the model. We can write our own tailored methods for this, but for simple visual inspection/comparison Xarray tools work well!"
   ]
  },
  {
   "cell_type": "code",
   "execution_count": null,
   "id": "d4296f41",
   "metadata": {},
   "outputs": [],
   "source": [
    "monthly_data[\"z_l\"]"
   ]
  },
  {
   "cell_type": "code",
   "execution_count": null,
   "id": "774fe69b",
   "metadata": {},
   "outputs": [],
   "source": [
    "## Plot a specific depth\n",
    "field = monthly_data[\"thetao\"].isel(time=0)\n",
    "field = field.interp(\n",
    "    z_l=550, method=\"linear\"\n",
    ")  # you may choose a different depth if you want to test the interpolation\n",
    "\n",
    "coords = utils.chooseGeoCoords(field.dims)\n",
    "areacello = utils.chooseAreacello(field.dims)\n",
    "\n",
    "utils.plotLatLonField(\n",
    "    field,\n",
    "    latitude=static_data[coords[\"latitude\"]],\n",
    "    longitude=static_data[coords[\"longitude\"]],\n",
    "    stats=True,\n",
    "    area_weights=static_data[areacello],\n",
    "    save=save_figs,\n",
    "    save_path=image_output_dir,\n",
    ")\n",
    "plt.show()"
   ]
  },
  {
   "cell_type": "markdown",
   "id": "29c405a3",
   "metadata": {},
   "source": [
    "#### Let's try it with a vertical slice now too!"
   ]
  },
  {
   "cell_type": "code",
   "execution_count": null,
   "id": "b1ce28e2",
   "metadata": {},
   "outputs": [],
   "source": [
    "field = monthly_data[\"thetao\"].isel(time=0)\n",
    "x_var = \"xh\" if \"xh\" in field.dims else \"xq\"\n",
    "longitude = np.mean(field[x_var].to_numpy())\n",
    "vertical = field.interp({x_var: longitude})\n",
    "levels = np.linspace(\n",
    "    vertical.min().compute().item(), vertical.max().compute().item(), 35\n",
    ")\n",
    "vertical.plot(\n",
    "    yincrease=False,\n",
    "    levels=levels,\n",
    ")"
   ]
  }
 ],
 "metadata": {
  "kernelspec": {
   "display_name": "Python 3",
   "language": "python",
   "name": "python3"
  },
  "language_info": {
   "codemirror_mode": {
    "name": "ipython",
    "version": 3
   },
   "file_extension": ".py",
   "mimetype": "text/x-python",
   "name": "python",
   "nbconvert_exporter": "python",
   "pygments_lexer": "ipython3",
   "version": "3.11.4"
  }
 },
 "nbformat": 4,
 "nbformat_minor": 5
}
