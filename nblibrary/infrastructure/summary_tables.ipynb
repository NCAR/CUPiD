{
 "cells": [
  {
   "cell_type": "markdown",
   "id": "8fcdc2ce-60ea-4f46-8209-87f10f7243da",
   "metadata": {},
   "source": [
    "# Summary Tables"
   ]
  },
  {
   "cell_type": "code",
   "execution_count": 1,
   "id": "1abf1c61",
   "metadata": {
    "tags": [
     "hide-cell"
    ]
   },
   "outputs": [],
   "source": [
    "import os\n",
    "\n",
    "from IPython.core.display import HTML, Image\n",
    "from IPython.display import display\n",
    "import pandas as pd"
   ]
  },
  {
   "cell_type": "code",
   "execution_count": 2,
   "id": "20e996a2",
   "metadata": {
    "tags": [
     "hide-cell",
     "parameters"
    ]
   },
   "outputs": [],
   "source": [
    "ADF_BASE = os.environ.get(\n",
    "    \"ADF_BASE\",\n",
    "    \"/glade/u/home/jturner/cesm_0_beta06/tools/CUPiD/examples/external_diag_packages/ADF_output\",\n",
    ")\n",
    "comparison_name = \"f.e23_alpha17f.FLTHIST_ne30.roughtopo.099_1995_2006_vs_b.e30_beta02.BLT1850.ne30_t232.104_1_100\"\n",
    "adf_root = os.path.join(ADF_BASE, comparison_name)\n",
    "case_name = None\n",
    "base_case_name = None\n",
    "start_date = \"\"\n",
    "end_date = \"\"\n",
    "base_start_date = None\n",
    "base_end_date = None\n",
    "key_plots = [\n",
    "    \"PRECT_MAM_LatLon_Mean.png\",\n",
    "    \"PRECT_ANN_LatLon_Mean.png\",\n",
    "    \"SST_ANN_LatLon_Mean.png\",\n",
    "    \"SST_MAM_LatLon_Mean.png\",\n",
    "]"
   ]
  },
  {
   "cell_type": "code",
   "execution_count": 3,
   "id": "7aa11df1",
   "metadata": {
    "tags": [
     "hide-cell"
    ]
   },
   "outputs": [
    {
     "data": {
      "text/html": [
       "<table border=\"1\" class=\"dataframe\">\n",
       "  <thead>\n",
       "    <tr style=\"text-align: right;\">\n",
       "      <th>variable</th>\n",
       "      <th>unit</th>\n",
       "      <th>test</th>\n",
       "      <th>control</th>\n",
       "      <th>diff</th>\n",
       "    </tr>\n",
       "  </thead>\n",
       "  <tbody>\n",
       "    <tr>\n",
       "      <td>OCNFRAC</td>\n",
       "      <td>fraction</td>\n",
       "      <td>0.67</td>\n",
       "      <td>0.662</td>\n",
       "      <td>0.008</td>\n",
       "    </tr>\n",
       "    <tr>\n",
       "      <td>PRECT</td>\n",
       "      <td>m/s</td>\n",
       "      <td>3.56e-08</td>\n",
       "      <td>3.56e-08</td>\n",
       "      <td>0</td>\n",
       "    </tr>\n",
       "    <tr>\n",
       "      <td>SST</td>\n",
       "      <td>K</td>\n",
       "      <td>292.952</td>\n",
       "      <td>292.333</td>\n",
       "      <td>0.619</td>\n",
       "    </tr>\n",
       "  </tbody>\n",
       "</table>"
      ],
      "text/plain": [
       "<IPython.core.display.HTML object>"
      ]
     },
     "metadata": {},
     "output_type": "display_data"
    }
   ],
   "source": [
    "comparison_table = os.path.join(adf_root, \"amwg_table_comp.csv\")\n",
    "if os.path.isfile(comparison_table):\n",
    "    table = pd.read_csv(comparison_table, skipinitialspace=True)\n",
    "    display(HTML(table.to_html(index=False, float_format=\"{:6g}\".format)))"
   ]
  }
 ],
 "metadata": {
  "kernelspec": {
   "display_name": "cupid-infrastructure",
   "language": "python",
   "name": "python3"
  },
  "language_info": {
   "codemirror_mode": {
    "name": "ipython",
    "version": 3
   },
   "file_extension": ".py",
   "mimetype": "text/x-python",
   "name": "python",
   "nbconvert_exporter": "python",
   "pygments_lexer": "ipython3",
   "version": "3.11.4"
  }
 },
 "nbformat": 4,
 "nbformat_minor": 5
}
