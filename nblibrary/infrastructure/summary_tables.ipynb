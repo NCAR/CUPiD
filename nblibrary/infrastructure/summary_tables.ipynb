{
 "cells": [
  {
   "cell_type": "markdown",
   "id": "8fcdc2ce-60ea-4f46-8209-87f10f7243da",
   "metadata": {},
   "source": [
    "# Summary Tables\n",
    "\n",
    "This page provides an overview of key diagnostics and metrics from model output and observational comparisons. The tables below summarize results from the AMWG and ILAMB diagnostics (is it diagnostics?) Use these tables to quickly assess model performance and identify areas for further analysis.\n",
    "\n"
   ]
  },
  {
   "cell_type": "code",
   "execution_count": null,
   "id": "1abf1c61",
   "metadata": {
    "tags": [
     "hide-cell"
    ]
   },
   "outputs": [],
   "source": [
    "import os\n",
    "\n",
    "from IPython.core.display import HTML\n",
    "from IPython.display import display\n",
    "import pandas as pd"
   ]
  },
  {
   "cell_type": "code",
   "execution_count": null,
   "id": "8acb5f9e",
   "metadata": {
    "tags": [
     "hide-cell"
    ]
   },
   "outputs": [],
   "source": [
    "ADF_BASE = os.path.abspath(\n",
    "    os.path.join(os.getcwd(), \"../../examples/external_diag_packages/ADF_output\")\n",
    ")\n",
    "ILAMB_BASE = os.path.abspath(\n",
    "    os.path.join(os.getcwd(), \"../../examples/external_diag_packages/ILAMB_output\")\n",
    ")\n",
    "comparison_name = \"f.e23_alpha17f.FLTHIST_ne30.roughtopo.099_1995_2006_vs_b.e30_beta02.BLT1850.ne30_t232.104_1_100\"\n",
    "adf_root = os.path.join(ADF_BASE, comparison_name)\n",
    "case_name = None\n",
    "base_case_name = None\n",
    "start_date = \"\"\n",
    "end_date = \"\"\n",
    "base_start_date = None\n",
    "base_end_date = None\n",
    "ilamb_vars_highlight = [\n",
    "    \"Gross Primary Productivity\",\n",
    "    \"Runoff\",\n",
    "    \"Snow Water Equivalent\",\n",
    "    \"Surface Relative Humidity\",\n",
    "    \"Precipitation\",\n",
    "]"
   ]
  },
  {
   "cell_type": "markdown",
   "id": "6b8b7a69",
   "metadata": {},
   "source": [
    "# Key Metrics from ADF"
   ]
  },
  {
   "cell_type": "code",
   "execution_count": null,
   "id": "7aa11df1",
   "metadata": {
    "tags": [
     "hide-input"
    ]
   },
   "outputs": [],
   "source": [
    "comparison_table = os.path.join(adf_root, \"amwg_table_comp.csv\")\n",
    "if os.path.isfile(comparison_table):\n",
    "    table = pd.read_csv(comparison_table, skipinitialspace=True)\n",
    "    display(HTML(table.to_html(index=False, float_format=\"{:6g}\".format)))"
   ]
  },
  {
   "cell_type": "markdown",
   "id": "6f8baba4",
   "metadata": {},
   "source": [
    "# Key Metrics from ILAMB"
   ]
  },
  {
   "cell_type": "code",
   "execution_count": null,
   "id": "69e8c3ba",
   "metadata": {
    "tags": [
     "hide-input"
    ]
   },
   "outputs": [],
   "source": [
    "comparison_table_2 = os.path.join(ILAMB_BASE, \"scores.csv\")\n",
    "if os.path.isfile(comparison_table_2):\n",
    "    table = pd.read_csv(comparison_table_2, skipinitialspace=True)\n",
    "    for col in table.columns:\n",
    "        if col != table.columns[0]:\n",
    "            table[col] = pd.to_numeric(table[col], errors=\"coerce\").round(3)\n",
    "    table.columns = [table.columns[0]] + [col[-16:] for col in table.columns[1:]]\n",
    "    if table.columns[0] in table.columns and ilamb_vars_highlight:\n",
    "        filtered_table = table[table[table.columns[0]].isin(ilamb_vars_highlight)]\n",
    "        display(HTML(filtered_table.to_html(index=False, float_format=\"{:.3f}\".format)))\n",
    "    else:\n",
    "        display(HTML(table.to_html(index=False, float_format=\"{:.3f}\".format)))"
   ]
  }
 ],
 "metadata": {
  "kernelspec": {
   "display_name": "cupid-infrastructure",
   "language": "python",
   "name": "python3"
  },
  "language_info": {
   "codemirror_mode": {
    "name": "ipython",
    "version": 3
   },
   "file_extension": ".py",
   "mimetype": "text/x-python",
   "name": "python",
   "nbconvert_exporter": "python",
   "pygments_lexer": "ipython3",
   "version": "3.11.4"
  }
 },
 "nbformat": 4,
 "nbformat_minor": 5
}
