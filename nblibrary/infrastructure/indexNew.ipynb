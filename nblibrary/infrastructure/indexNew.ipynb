{
 "cells": [
  {
   "cell_type": "markdown",
   "id": "8fcdc2ce-60ea-4f46-8209-87f10f7243da",
   "metadata": {},
   "source": [
    "# Index homepage! - ADF VERSION"
   ]
  },
  {
   "cell_type": "code",
   "execution_count": 2,
   "id": "1abf1c61",
   "metadata": {
    "tags": [
     "hide-cell"
    ]
   },
   "outputs": [],
   "source": [
    "import os\n",
    "\n",
    "from IPython.core.display import HTML, Image\n",
    "from IPython.display import display\n",
    "import pandas as pd"
   ]
  },
  {
   "cell_type": "code",
   "execution_count": null,
   "id": "20e996a2",
   "metadata": {
    "tags": [
     "hide-cell"
    ]
   },
   "outputs": [],
   "source": [
    "adf_base = \"../../examples/key_metrics/ADF_output\"\n",
    "comparison_name = \"f.e23_alpha17f.FLTHIST_ne30.roughtopo.099_1995_2006_vs_b.e30_beta02.BLT1850.ne30_t232.104_1_100\"\n",
    "adf_root = os.path.join(adf_base, comparison_name)\n",
    "image_root = adf_root\n",
    "case_name = None\n",
    "base_case_name = None\n",
    "start_date = \"\"\n",
    "end_date = \"\"\n",
    "base_start_date = None\n",
    "base_end_date = None\n",
    "key_plots = [\"Surface_Wind_Stress_ANN_LatLon_Vector_Mean.png\", \"PRECT_ANN_LatLon_Mean.png\", \"TS_ANN_LatLon_Mean.png\"]"
   ]
  },
  {
   "cell_type": "code",
   "execution_count": 4,
   "id": "960a1c0f",
   "metadata": {
    "tags": [
     "hide-cell"
    ]
   },
   "outputs": [],
   "source": [
    "for path_to_key_plot in key_plots:\n",
    "    full_path = os.path.join(image_root, path_to_key_plot)\n",
    "    if os.path.isfile(full_path):\n",
    "        display(Image(full_path))"
   ]
  },
  {
   "cell_type": "code",
   "execution_count": null,
   "id": "7aa11df1",
   "metadata": {
    "tags": [
     "hide-cell"
    ]
   },
   "outputs": [
    {
     "data": {
      "text/html": [
       "<table border=\"1\" class=\"dataframe\">\n",
       "  <thead>\n",
       "    <tr style=\"text-align: right;\">\n",
       "      <th>variable</th>\n",
       "      <th>unit</th>\n",
       "      <th>mean</th>\n",
       "      <th>sample size</th>\n",
       "      <th>standard dev.</th>\n",
       "      <th>standard error</th>\n",
       "      <th>95% CI</th>\n",
       "      <th>trend</th>\n",
       "      <th>trend p-value</th>\n",
       "    </tr>\n",
       "  </thead>\n",
       "  <tbody>\n",
       "    <tr>\n",
       "      <td>OCNFRAC</td>\n",
       "      <td>fraction</td>\n",
       "      <td>0.662</td>\n",
       "      <td>100</td>\n",
       "      <td>0.00162</td>\n",
       "      <td>1.62e-05</td>\n",
       "      <td>3.18e-05</td>\n",
       "      <td>0.662 + -1.46e-06 t</td>\n",
       "      <td>0.797</td>\n",
       "    </tr>\n",
       "    <tr>\n",
       "      <td>PRECT</td>\n",
       "      <td>m/s</td>\n",
       "      <td>3.56e-08</td>\n",
       "      <td>100</td>\n",
       "      <td>1.37e-10</td>\n",
       "      <td>1.37e-12</td>\n",
       "      <td>2.69e-12</td>\n",
       "      <td>3.56e-08 + -1.31e-12 t</td>\n",
       "      <td>0.00552</td>\n",
       "    </tr>\n",
       "    <tr>\n",
       "      <td>SST</td>\n",
       "      <td>K</td>\n",
       "      <td>292.333</td>\n",
       "      <td>100</td>\n",
       "      <td>0.096</td>\n",
       "      <td>0.001</td>\n",
       "      <td>0.002</td>\n",
       "      <td>292.401 + -0.001 t</td>\n",
       "      <td>0</td>\n",
       "    </tr>\n",
       "  </tbody>\n",
       "</table>"
      ],
      "text/plain": [
       "<IPython.core.display.HTML object>"
      ]
     },
     "metadata": {},
     "output_type": "display_data"
    }
   ],
   "source": [
    "comparison_table = os.path.join(adf_root, \"amwg_table_comp.csv\")\n",
    "if os.path.isfile(comparison_table):\n",
    "    table = pd.read_csv(comparison_table, skipinitialspace=True)\n",
    "    display(HTML(table.to_html(index=False, float_format=\"{:6g}\".format)))"
   ]
  }
 ],
 "metadata": {
  "kernelspec": {
   "display_name": "Python 3",
   "language": "python",
   "name": "python3"
  },
  "language_info": {
   "codemirror_mode": {
    "name": "ipython",
    "version": 3
   },
   "file_extension": ".py",
   "mimetype": "text/x-python",
   "name": "python",
   "nbconvert_exporter": "python",
   "pygments_lexer": "ipython3",
   "version": "3.12.1"
  }
 },
 "nbformat": 4,
 "nbformat_minor": 5
}
