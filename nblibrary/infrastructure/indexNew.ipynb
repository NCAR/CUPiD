{
 "cells": [
  {
   "cell_type": "markdown",
   "id": "8fcdc2ce-60ea-4f46-8209-87f10f7243da",
   "metadata": {},
   "source": [
    "# Index homepage! - ADF VERSION"
   ]
  },
  {
   "cell_type": "code",
   "execution_count": 121,
   "id": "1abf1c61",
   "metadata": {
    "tags": [
     "hide-cell"
    ]
   },
   "outputs": [
    {
     "name": "stdout",
     "output_type": "stream",
     "text": [
      "Current working directory: /home/codespace/CUPiD/nblibrary/infrastructure\n"
     ]
    }
   ],
   "source": [
    "import os\n",
    "print(\"Current working directory:\", os.getcwd())\n",
    "\n",
    "from IPython.core.display import HTML, Image\n",
    "from IPython.display import display\n",
    "import pandas as pd"
   ]
  },
  {
   "cell_type": "code",
   "execution_count": 122,
   "id": "20e996a2",
   "metadata": {
    "tags": [
     "paramenters",
     "hide-cell"
    ]
   },
   "outputs": [],
   "source": [
    "adf_root = \"../infrastructure\"\n",
    "case_name = None\n",
    "base_case_name = None\n",
    "start_date = \"\"\n",
    "end_date = \"\"\n",
    "base_start_date = None\n",
    "base_end_date = None\n",
    "key_plots = None"
   ]
  },
  {
   "cell_type": "code",
   "execution_count": null,
   "id": "fbebec20",
   "metadata": {},
   "outputs": [],
   "source": [
    "adf_root = \"../infrastructure\"\n",
    "case_name = 'b.e30_beta02.BLT1850.ne30_t232.104'\n",
    "base_case_name = 'b.e23_alpha17f.BLT1850.ne30_t232.092'\n",
    "start_date ='0001-01-01'\n",
    "end_date = '0101-01-01'\n",
    "base_start_date = '0001-01-01'\n",
    "base_end_date = '0101-01-01'\n",
    "key_plots = [\"Surface_Wind_Stress_ANN_LatLon_Vector_Mean.png\", \"PRECT_ANN_LatLon_Mean.png\", \"PS_DJF_SHPolar_Mean.png\", \"TaylorDiag_ANN_Special_Mean.png\"]"
   ]
  },
  {
   "cell_type": "code",
   "execution_count": 124,
   "id": "1950fc66",
   "metadata": {},
   "outputs": [],
   "source": [
    "if base_case_name is not None:\n",
    "    if base_start_date is None:\n",
    "        base_start_date = start_date\n",
    "\n",
    "    if base_end_date is None:\n",
    "        base_end_date = end_date"
   ]
  },
  {
   "cell_type": "code",
   "execution_count": null,
   "id": "344dcafa",
   "metadata": {},
   "outputs": [],
   "source": [
    "# case_year_range = [int(start_date.split(\"-\")[0]), int(end_date.split(\"-\")[0]) - 1]\n",
    "\n",
    "# base_case_year_range = [\n",
    "#     int(base_start_date.split(\"-\")[0]),\n",
    "#     int(base_end_date.split(\"-\")[0]) - 1,\n",
    "# ]"
   ]
  },
  {
   "cell_type": "code",
   "execution_count": 126,
   "id": "1591293a",
   "metadata": {},
   "outputs": [],
   "source": [
    "# adf_comparison_name = f\"{case_name}_{case_year_range[0]}_{case_year_range[1]}_vs_{base_case_name}_{base_case_year_range[0]}_{base_case_year_range[1]}\"\n",
    "# adf_root = os.path.join(adf_root, adf_comparison_name)\n",
    "# display(\n",
    "#     HTML(\n",
    "#         f'<a href=\"../ADF/{adf_comparison_name}/website/index.html\">Full ADF output</a>'\n",
    "#     )\n",
    "# )"
   ]
  },
  {
   "cell_type": "code",
   "execution_count": 127,
   "id": "c0d95e5f-b3c2-4647-b3f8-36a072964613",
   "metadata": {},
   "outputs": [
    {
     "name": "stdout",
     "output_type": "stream",
     "text": [
      "Looking for: ../infrastructure/adf_table.csv\n",
      "  variable      unit          mean  sample size  standard dev.  \\\n",
      "0  OCNFRAC  fraction  6.620000e-01          100   1.620000e-03   \n",
      "1    PRECT       m/s  3.560000e-08          100   1.370000e-10   \n",
      "2      SST         K  2.923330e+02          100   9.600000e-02   \n",
      "\n",
      "   standard error        95% CI                   trend  trend p-value  \n",
      "0    1.620000e-05  3.180000e-05     0.662 + -1.46e-06 t        0.79700  \n",
      "1    1.370000e-12  2.690000e-12  3.56e-08 + -1.31e-12 t        0.00552  \n",
      "2    1.000000e-03  2.000000e-03      292.401 + -0.001 t        0.00000  \n"
     ]
    },
    {
     "data": {
      "text/html": [
       "<table border=\"1\" class=\"dataframe\">\n",
       "  <thead>\n",
       "    <tr style=\"text-align: right;\">\n",
       "      <th>variable</th>\n",
       "      <th>unit</th>\n",
       "      <th>mean</th>\n",
       "      <th>sample size</th>\n",
       "      <th>standard dev.</th>\n",
       "      <th>standard error</th>\n",
       "      <th>95% CI</th>\n",
       "      <th>trend</th>\n",
       "      <th>trend p-value</th>\n",
       "    </tr>\n",
       "  </thead>\n",
       "  <tbody>\n",
       "    <tr>\n",
       "      <td>OCNFRAC</td>\n",
       "      <td>fraction</td>\n",
       "      <td>0.662</td>\n",
       "      <td>100</td>\n",
       "      <td>0.00162</td>\n",
       "      <td>1.62e-05</td>\n",
       "      <td>3.18e-05</td>\n",
       "      <td>0.662 + -1.46e-06 t</td>\n",
       "      <td>0.797</td>\n",
       "    </tr>\n",
       "    <tr>\n",
       "      <td>PRECT</td>\n",
       "      <td>m/s</td>\n",
       "      <td>3.56e-08</td>\n",
       "      <td>100</td>\n",
       "      <td>1.37e-10</td>\n",
       "      <td>1.37e-12</td>\n",
       "      <td>2.69e-12</td>\n",
       "      <td>3.56e-08 + -1.31e-12 t</td>\n",
       "      <td>0.00552</td>\n",
       "    </tr>\n",
       "    <tr>\n",
       "      <td>SST</td>\n",
       "      <td>K</td>\n",
       "      <td>292.333</td>\n",
       "      <td>100</td>\n",
       "      <td>0.096</td>\n",
       "      <td>0.001</td>\n",
       "      <td>0.002</td>\n",
       "      <td>292.401 + -0.001 t</td>\n",
       "      <td>0</td>\n",
       "    </tr>\n",
       "  </tbody>\n",
       "</table>"
      ],
      "text/plain": [
       "<IPython.core.display.HTML object>"
      ]
     },
     "metadata": {},
     "output_type": "display_data"
    }
   ],
   "source": [
    "comparison_table = os.path.join(adf_root, \"adf_table.csv\")\n",
    "print(f\"Looking for: {comparison_table}\")\n",
    "if os.path.isfile(comparison_table):\n",
    "    table = pd.read_csv(comparison_table, skipinitialspace=True)\n",
    "    print(table.head())  # Debug: see the DataFrame\n",
    "    if not table.empty:\n",
    "        display(HTML(table.to_html(index=False, float_format=\"{:6g}\".format)))\n",
    "    else:\n",
    "        print(\"Table is empty!\")\n",
    "else:\n",
    "    print(\"File not found!\")"
   ]
  },
  {
   "cell_type": "code",
   "execution_count": 128,
   "id": "eba9fd25",
   "metadata": {},
   "outputs": [],
   "source": [
    "for path_to_key_plot in key_plots:\n",
    "    full_path = os.path.join(adf_root, path_to_key_plot)\n",
    "    if os.path.isfile(full_path):\n",
    "        display(Image(full_path))"
   ]
  }
 ],
 "metadata": {
  "kernelspec": {
   "display_name": "Python 3",
   "language": "python",
   "name": "python3"
  },
  "language_info": {
   "codemirror_mode": {
    "name": "ipython",
    "version": 3
   },
   "file_extension": ".py",
   "mimetype": "text/x-python",
   "name": "python",
   "nbconvert_exporter": "python",
   "pygments_lexer": "ipython3",
   "version": "3.12.1"
  }
 },
 "nbformat": 4,
 "nbformat_minor": 5
}
