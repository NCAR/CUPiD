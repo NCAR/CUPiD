{
 "cells": [
  {
   "cell_type": "markdown",
   "id": "8c041f27-4806-4e23-8b88-8f7db7d80934",
   "metadata": {},
   "source": [
    "## Simple example comparing land variables from two simulations\n",
    "Created by wwieder@ucar.edu, Jan 2024\n",
    "\n",
    "- quickly (and inaccurately) calculates 5 year mean from raw, .h0., files.\n",
    "- plots global means and differences which  also not very nice to look at, especially since this points to a 4x5 grid."
   ]
  },
  {
   "cell_type": "code",
   "execution_count": null,
   "id": "272137cc-fef5-47ca-8f64-43d65c484e5e",
   "metadata": {},
   "outputs": [],
   "source": [
    "%load_ext autoreload\n",
    "%autoreload 2\n",
    "\n",
    "from glob import glob\n",
    "from os.path import join\n",
    "\n",
    "import xarray as xr\n",
    "\n",
    "import matplotlib.pyplot as plt\n",
    "\n",
    "%matplotlib inline"
   ]
  },
  {
   "cell_type": "code",
   "execution_count": null,
   "id": "4f50b897-d424-4642-9885-4563bfd9ce31",
   "metadata": {
    "editable": true,
    "slideshow": {
     "slide_type": ""
    },
    "tags": [
     "parameters"
    ]
   },
   "outputs": [],
   "source": [
    "CESM_output_dir = \"/glade/campaign/cesm/development/cross-wg/diagnostic_framework/CESM_output_for_testing\"\n",
    "type = ['1850pAD','1850pSASU']\n",
    "cases = ['ctsm51d159_f45_GSWP3_bgccrop_1850pAD', 'ctsm51d159_f45_GSWP3_bgccrop_1850pSASU']"
   ]
  },
  {
   "cell_type": "code",
   "execution_count": null,
   "id": "fa455dab-7453-4245-bebe-113bbf73a04c",
   "metadata": {},
   "outputs": [],
   "source": [
    "# -- read only these variables from the whole netcdf files\n",
    "# average over time\n",
    "def preprocess (ds):\n",
    "    variables = ['TOTECOSYSC', 'TOTVEGC','TOTSOMC',\n",
    "                 'SOM_PAS_C_vr']\n",
    "\n",
    "    ds_new= ds[variables]\n",
    "    return ds_new\n",
    "\n"
   ]
  },
  {
   "cell_type": "code",
   "execution_count": null,
   "id": "5d19b1a2-8bfe-407f-a739-d2eb279128bf",
   "metadata": {},
   "outputs": [],
   "source": [
    "for c in range(len(cases)):\n",
    "\n",
    "    sim_files =[]\n",
    "    sim_path = f\"{CESM_output_dir}/{cases[c]}/lnd/hist\"\n",
    "    sim_files.extend(sorted(glob(join(f\"{sim_path}/{cases[c]}.clm2.h0.*.nc\"))))\n",
    "    # subset last 5 years of data \n",
    "    sim_files = sim_files[-60:None]\n",
    "    print(f\"All simulation files for {cases[c]}: [{len(sim_files)} files]\")\n",
    "\n",
    "    temp = xr.open_mfdataset(sim_files, decode_times=True, combine='by_coords',\n",
    "                             parallel=False, preprocess=preprocess).mean('time')\n",
    "  \n",
    "    if c == 0:\n",
    "        ds = temp\n",
    "    else:\n",
    "        ds = xr.concat([ds, temp],'case')\n",
    "        \n",
    "ds = ds.assign_coords({\"case\": type})\n",
    "\n",
    "# Calculate differences\n",
    "diff = ds.isel(case=1)  - ds.isel(case=0) \n",
    "rel_diff = diff / ds.isel(case=1) "
   ]
  },
  {
   "cell_type": "markdown",
   "id": "0fef21f3-7fb2-4eca-b2d9-31079c350416",
   "metadata": {},
   "source": [
    "### Quickplots of pSASU results & difference from pAD"
   ]
  },
  {
   "cell_type": "code",
   "execution_count": null,
   "id": "d8bbcea9-ee0d-40d0-a5ad-9a3e5b4a36bb",
   "metadata": {},
   "outputs": [],
   "source": [
    "plt.figure(figsize=[14,14])\n",
    "var = ['TOTECOSYSC' ,'TOTVEGC','TOTSOMC']\n",
    "#var = ['GPP' ,'ELAI','ALT']\n",
    "i = 1\n",
    "for v in range(len(var)):\n",
    "    plt.subplot(3, 2, i)\n",
    "    ds[var[v]].isel(case=1).plot(robust=True)  \n",
    "    plt.title(\"pSASU \"+ var[v])\n",
    "    plt.xlabel(None)\n",
    "    plt.ylabel(None)\n",
    "    i = i+1\n",
    "    \n",
    "    plt.subplot(3, 2, i)\n",
    "    diff[var[v]].plot(robust=True) \n",
    "    plt.title(\"pSASU - pAD \"+ var[v]) \n",
    "    plt.xlabel(None)\n",
    "    plt.ylabel(None)   \n",
    "    i = i+1\n"
   ]
  },
  {
   "cell_type": "markdown",
   "id": "d5aa3ba5-6d74-47ac-9007-ff763ddd938d",
   "metadata": {},
   "source": [
    "### lower soil C stocks at high latitues\n",
    "- Look at depth profiles of C pools for a few points (also hard coded for now)"
   ]
  },
  {
   "cell_type": "code",
   "execution_count": null,
   "id": "cd253f9e-8760-4d27-b0a6-dd97b77f2f03",
   "metadata": {},
   "outputs": [],
   "source": [
    "plt.figure(figsize=[10,5])\n",
    "var = 'SOM_PAS_C_vr'\n",
    "plt.subplot(1, 4, 1)\n",
    "ds[var].sel(lon=300,lat=-10, method='nearest').plot(hue='case',y='levsoi') ;\n",
    "plt.gca().invert_yaxis() ;\n",
    "plt.title('Tropical')\n",
    "plt.ylabel('depth (m)')\n",
    "plt.xscale('log',base=10) \n",
    "#plt.ylim(6,0)\n",
    "\n",
    "\n",
    "plt.subplot(1, 4, 2)\n",
    "ds[var].sel(lon=25,lat=50, method='nearest').plot(hue='case',y='levsoi') ;\n",
    "plt.gca().invert_yaxis() ;\n",
    "plt.title('Temperate')\n",
    "plt.ylabel(None)\n",
    "plt.xscale('log',base=10) \n",
    "#plt.ylim(6,0)\n",
    "\n",
    "plt.subplot(1, 4, 3)\n",
    "ds[var].sel(lon=155,lat=66, method='nearest').plot(hue='case',y='levsoi') ;\n",
    "plt.gca().invert_yaxis() ;\n",
    "plt.title('Arctic')\n",
    "plt.ylabel(None)\n",
    "plt.xscale('log',base=10) \n",
    "#plt.ylim(6,0)\n",
    "\n",
    "\n",
    "plt.subplot(1, 4, 4)\n",
    "ds[var].sel(lon=155,lat=66, method='nearest').plot(hue='case',y='levsoi') ;\n",
    "plt.gca().invert_yaxis() ;\n",
    "plt.title('Arctic')\n",
    "plt.ylabel(None)\n",
    "#plt.ylim(6,0)"
   ]
  }
 ],
 "metadata": {
  "kernelspec": {
   "display_name": "Python [conda env:cupid-analysis]",
   "language": "python",
   "name": "conda-env-cupid-analysis-py"
  },
  "language_info": {
   "codemirror_mode": {
    "name": "ipython",
    "version": 3
   },
   "file_extension": ".py",
   "mimetype": "text/x-python",
   "name": "python",
   "nbconvert_exporter": "python",
   "pygments_lexer": "ipython3",
   "version": "3.11.4"
  }
 },
 "nbformat": 4,
 "nbformat_minor": 5
}
