{
 "cells": [
  {
   "cell_type": "markdown",
   "id": "8fcdc2ce-60ea-4f46-8209-87f10f7243da",
   "metadata": {},
   "source": [
    "# Index homepage! - ADF VERSION"
   ]
  },
  {
   "cell_type": "code",
   "execution_count": null,
   "id": "1abf1c61",
   "metadata": {},
   "outputs": [],
   "source": [
    "import os\n",
    "\n",
    "from IPython.core.display import HTML, Image\n",
    "from IPython.display import display\n",
    "import pandas as pd"
   ]
  },
  {
   "cell_type": "code",
   "execution_count": null,
   "id": "20e996a2",
   "metadata": {},
   "outputs": [],
   "source": [
    "adf_root = \".\"\n",
    "case_name = None\n",
    "base_case_name = None\n",
    "start_date = \"\"\n",
    "end_date = \"\"\n",
    "base_start_date = None\n",
    "base_end_date = None\n",
    "key_plots = None"
   ]
  },
  {
   "cell_type": "code",
   "execution_count": null,
   "id": "fbebec20",
   "metadata": {},
   "outputs": [],
   "source": [
    "# adf_root = \".\"\n",
    "# case_name = 'b.e30_beta02.BLT1850.ne30_t232.104'\n",
    "# base_case_name = 'b.e23_alpha17f.BLT1850.ne30_t232.092'\n",
    "# start_date ='0001-01-01'\n",
    "# end_date = '0101-01-01'\n",
    "# base_start_date = '0001-01-01'\n",
    "# base_end_date = '0101-01-01'\n",
    "# key_plots = None"
   ]
  },
  {
   "cell_type": "code",
   "execution_count": null,
   "id": "1950fc66",
   "metadata": {},
   "outputs": [],
   "source": [
    "if base_case_name is not None:\n",
    "    if base_start_date is None:\n",
    "        base_start_date = start_date\n",
    "\n",
    "    if base_end_date is None:\n",
    "        base_end_date = end_date"
   ]
  },
  {
   "cell_type": "code",
   "execution_count": null,
   "id": "344dcafa",
   "metadata": {},
   "outputs": [],
   "source": [
    "case_year_range = [int(start_date.split(\"-\")[0]), int(end_date.split(\"-\")[0]) - 1]\n",
    "\n",
    "base_case_year_range = [\n",
    "    int(base_start_date.split(\"-\")[0]),\n",
    "    int(base_end_date.split(\"-\")[0]) - 1,\n",
    "]"
   ]
  },
  {
   "cell_type": "code",
   "execution_count": null,
   "id": "1591293a",
   "metadata": {},
   "outputs": [
    {
     "data": {
      "text/html": [
       "<a href=\"../ADF/b.e30_beta02.BLT1850.ne30_t232.104_1_100_vs_b.e23_alpha17f.BLT1850.ne30_t232.092_1_100/website/index.html\">Full ADF output</a>"
      ],
      "text/plain": [
       "<IPython.core.display.HTML object>"
      ]
     },
     "metadata": {},
     "output_type": "display_data"
    }
   ],
   "source": [
    "adf_comparison_name = f\"{case_name}_{case_year_range[0]}_{case_year_range[1]}_vs_{base_case_name}_{base_case_year_range[0]}_{base_case_year_range[1]}\"\n",
    "adf_root = os.path.join(adf_root, adf_comparison_name)\n",
    "display(\n",
    "    HTML(\n",
    "        f'<a href=\"../ADF/{adf_comparison_name}/website/index.html\">Full ADF output</a>'\n",
    "    )\n",
    ")"
   ]
  },
  {
   "cell_type": "code",
   "execution_count": null,
   "id": "c0d95e5f-b3c2-4647-b3f8-36a072964613",
   "metadata": {
    "tags": [
     "parameters"
    ]
   },
   "outputs": [],
   "source": [
    "comparison_table = os.path.join(adf_root, \"amwg_table_comp.csv\")\n",
    "if os.path.isfile(comparison_table):\n",
    "    table = pd.read_csv(comparison_table)\n",
    "    display(HTML(table.to_html(index=False, float_format=\"{:6g}\".format)))"
   ]
  }
 ],
 "metadata": {
  "kernelspec": {
   "display_name": "Python 3",
   "language": "python",
   "name": "python3"
  },
  "language_info": {
   "codemirror_mode": {
    "name": "ipython",
    "version": 3
   },
   "file_extension": ".py",
   "mimetype": "text/x-python",
   "name": "python",
   "nbconvert_exporter": "python",
   "pygments_lexer": "ipython3",
   "version": "3.12.1"
  }
 },
 "nbformat": 4,
 "nbformat_minor": 5
}
